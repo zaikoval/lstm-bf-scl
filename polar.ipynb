{
 "cells": [
  {
   "cell_type": "code",
   "execution_count": 38,
   "metadata": {},
   "outputs": [],
   "source": [
    "from polar_codes.polar_code import PolarCode\n",
    "from polar_codes.channels.bpsk_awgn_channel import BpskAwgnChannel\n",
    "import numpy as np"
   ]
  },
  {
   "cell_type": "code",
   "execution_count": 2,
   "metadata": {},
   "outputs": [],
   "source": [
    "a = '1010111010110110111001011'"
   ]
  },
  {
   "cell_type": "code",
   "execution_count": 4,
   "metadata": {},
   "outputs": [
    {
     "data": {
      "text/plain": [
       "'1, 0, 1, 0, 1, 1, 1, 0, 1, 0, 1, 1, 0, 1, 1, 0, 1, 1, 1, 0, 0, 1, 0, 1, 1'"
      ]
     },
     "execution_count": 4,
     "metadata": {},
     "output_type": "execute_result"
    }
   ],
   "source": [
    "', '.join(a)"
   ]
  },
  {
   "cell_type": "code",
   "execution_count": 39,
   "metadata": {},
   "outputs": [],
   "source": [
    "channel = BpskAwgnChannel(13)"
   ]
  },
  {
   "cell_type": "code",
   "execution_count": 40,
   "metadata": {},
   "outputs": [],
   "source": [
    "n = 9\n",
    "K = 256\n",
    "code = PolarCode(n=n, K=K,\n",
    "                 construction_method='PW',\n",
    "                 channel=channel, CRC_len=16)"
   ]
  },
  {
   "cell_type": "markdown",
   "metadata": {},
   "source": [
    "115 информационных бит для передачи"
   ]
  },
  {
   "cell_type": "code",
   "execution_count": 41,
   "metadata": {},
   "outputs": [
    {
     "data": {
      "text/plain": [
       "array([0, 0, 0, 0, 1, 1, 0, 0, 0, 0, 0, 1, 0, 0, 1, 1, 1, 1, 0, 1, 0, 0,\n",
       "       0, 0, 0, 0, 0, 0, 0, 1, 1, 1, 0, 1, 1, 1, 1, 1, 0, 1, 1, 0, 0, 1,\n",
       "       0, 1, 0, 0, 1, 1, 0, 0, 0, 1, 1, 0, 0, 1, 0, 1, 1, 0, 0, 1, 1, 1,\n",
       "       1, 1, 1, 0, 0, 0, 1, 0, 0, 1, 0, 1, 1, 1, 0, 0, 1, 1, 1, 0, 0, 0,\n",
       "       0, 0, 1, 1, 0, 0, 1, 0, 1, 1, 1, 0, 1, 0, 1, 0, 1, 0, 1, 0, 0, 0,\n",
       "       1, 1, 0, 1, 0, 0, 1, 0, 1, 1, 1, 0, 0, 1, 0, 1, 0, 0, 0, 0, 1, 1,\n",
       "       1, 1, 1, 1, 1, 0, 0, 0, 0, 0, 0, 1, 0, 0, 1, 0, 1, 0, 0, 1, 1, 0,\n",
       "       1, 1, 1, 1, 0, 0, 0, 1, 0, 0, 1, 1, 1, 1, 1, 0, 0, 0, 1, 1, 0, 0,\n",
       "       1, 0, 0, 1, 1, 0, 0, 1, 0, 0, 0, 1, 0, 0, 0, 1, 1, 1, 0, 1, 0, 1,\n",
       "       1, 0, 0, 1, 0, 0, 1, 1, 0, 1, 1, 0, 0, 1, 1, 1, 1, 1, 1, 0, 0, 1,\n",
       "       0, 1, 0, 0, 1, 1, 0, 1, 0, 1, 1, 0, 0, 1, 0, 1, 0, 1, 1, 1, 0, 0,\n",
       "       1, 0, 0, 1, 1, 0, 0, 0, 1, 1, 1, 0, 0, 0], dtype=uint8)"
      ]
     },
     "execution_count": 41,
     "metadata": {},
     "output_type": "execute_result"
    }
   ],
   "source": [
    "u_message = np.asarray([0 if np.random.random_sample() > 0.5 else 1 for _ in range(0, K)], dtype='uint8')\n",
    "u_message"
   ]
  },
  {
   "cell_type": "code",
   "execution_count": 42,
   "metadata": {},
   "outputs": [],
   "source": [
    "x_message = code.encode(u_message)"
   ]
  },
  {
   "cell_type": "code",
   "execution_count": 43,
   "metadata": {
    "scrolled": true
   },
   "outputs": [
    {
     "data": {
      "text/plain": [
       "array([0, 1, 0, 0, 1, 1, 0, 1, 0, 0, 0, 1, 1, 1, 1, 0, 1, 1, 0, 1, 0, 0,\n",
       "       1, 0, 0, 1, 1, 1, 1, 1, 1, 0, 0, 1, 1, 1, 0, 1, 0, 0, 1, 0, 0, 0,\n",
       "       0, 0, 1, 0, 1, 0, 1, 1, 1, 1, 1, 0, 1, 1, 0, 1, 0, 0, 0, 1, 0, 0,\n",
       "       1, 0, 1, 0, 1, 1, 1, 0, 1, 1, 1, 0, 1, 1, 0, 0, 1, 0, 1, 1, 0, 1,\n",
       "       1, 1, 0, 1, 0, 1, 0, 0, 1, 0, 1, 1, 1, 0, 0, 0, 1, 1, 1, 0, 0, 1,\n",
       "       0, 0, 1, 1, 0, 1, 1, 0, 0, 0, 1, 0, 0, 0, 1, 0, 1, 1, 0, 0, 0, 1,\n",
       "       1, 0, 1, 1, 1, 0, 1, 1, 0, 1, 0, 0, 1, 0, 0, 0, 1, 1, 0, 1, 1, 0,\n",
       "       1, 1, 0, 1, 0, 0, 0, 1, 1, 1, 0, 0, 1, 0, 1, 1, 0, 1, 0, 0, 1, 0,\n",
       "       0, 1, 0, 0, 0, 0, 0, 1, 0, 0, 0, 1, 1, 1, 1, 0, 1, 0, 1, 1, 1, 1,\n",
       "       1, 0, 1, 0, 1, 1, 1, 0, 1, 1, 1, 1, 0, 1, 0, 1, 1, 1, 0, 0, 1, 0,\n",
       "       0, 0, 1, 0, 0, 0, 0, 1, 1, 0, 1, 1, 0, 1, 1, 1, 0, 1, 1, 1, 0, 0,\n",
       "       1, 0, 0, 1, 1, 1, 0, 0, 1, 0, 1, 1, 0, 1, 1, 0, 0, 0, 0, 1, 1, 1,\n",
       "       0, 0, 0, 1, 1, 0, 1, 1, 1, 0, 0, 0, 1, 0, 0, 0, 0, 0, 0, 1, 1, 0,\n",
       "       1, 1, 1, 0, 1, 0, 0, 0, 0, 0, 0, 0, 1, 1, 1, 1, 0, 0, 0, 1, 0, 1,\n",
       "       1, 1, 1, 1, 1, 0, 1, 0, 0, 1, 0, 1, 0, 0, 0, 1, 0, 0, 1, 0, 1, 1,\n",
       "       0, 1, 0, 1, 0, 0, 0, 0, 1, 0, 1, 1, 1, 0, 1, 0, 0, 0, 0, 0, 0, 1,\n",
       "       0, 0, 1, 1, 0, 1, 0, 1, 0, 1, 0, 1, 0, 1, 1, 0, 0, 0, 1, 1, 1, 0,\n",
       "       1, 0, 1, 0, 1, 0, 0, 1, 1, 0, 1, 0, 1, 1, 0, 1, 1, 1, 0, 0, 0, 1,\n",
       "       1, 0, 1, 1, 1, 1, 1, 0, 1, 0, 1, 1, 0, 0, 1, 0, 1, 1, 1, 0, 0, 1,\n",
       "       1, 0, 1, 0, 1, 0, 0, 1, 1, 0, 0, 0, 1, 1, 0, 1, 0, 1, 0, 0, 0, 0,\n",
       "       0, 1, 0, 1, 0, 1, 1, 0, 1, 1, 0, 1, 0, 0, 0, 1, 0, 1, 0, 0, 0, 0,\n",
       "       0, 1, 0, 0, 1, 0, 1, 0, 0, 0, 0, 1, 0, 0, 0, 1, 1, 1, 1, 1, 1, 1,\n",
       "       0, 0, 1, 1, 0, 1, 1, 0, 1, 1, 0, 0, 0, 1, 1, 0, 0, 0, 1, 1, 1, 0,\n",
       "       0, 1, 1, 0, 1, 0], dtype=uint8)"
      ]
     },
     "execution_count": 43,
     "metadata": {},
     "output_type": "execute_result"
    }
   ],
   "source": [
    "to_message = channel.modulate(x_message)\n",
    "from_message = channel.transmit(to_message)\n",
    "y_message = channel.demodulate(from_message)\n",
    "y_message"
   ]
  },
  {
   "cell_type": "code",
   "execution_count": 44,
   "metadata": {},
   "outputs": [
    {
     "name": "stdout",
     "output_type": "stream",
     "text": [
      "CPU times: user 1.23 s, sys: 12.5 ms, total: 1.24 s\n",
      "Wall time: 1.26 s\n"
     ]
    }
   ],
   "source": [
    "%%time\n",
    "scl_u_est_message = code.decode(y_message, decoding_method='SCL', list_size=32)\n",
    "#scl_u_est_message"
   ]
  },
  {
   "cell_type": "code",
   "execution_count": 50,
   "metadata": {},
   "outputs": [],
   "source": [
    "class rec_dec:\n",
    "    def __init__(self, code, y_message, i, u_est, is_calc_llr, llr_array, pm=0, PM=0):\n",
    "        self.u_est = u_est\n",
    "        self.is_calc_llr = is_calc_llr\n",
    "        self.llr_array = llr_array\n",
    "        self.y_message = y_message\n",
    "        self.pm = pm #Iddooose metric\n",
    "        self.layer = i\n",
    "        self.code = code\n",
    "        self.PM = PM #paper_metric\n",
    "    \n",
    "    def split(self):\n",
    "        #Создаем 2 копии этого же instance c разными параметрами\n",
    "        u_right = self.u_est.copy()\n",
    "        u_opp = self.u_est.copy()\n",
    "        \n",
    "        self.llr = code._fast_llr(self.layer, self.y_message, self.u_est[:self.layer], self.llr_array, self.is_calc_llr) \n",
    "        \n",
    "        u_right[self.layer] = 0 if self.llr > 0 else 1\n",
    "        u_opp[self.layer] = 1 - u_right[self.layer]\n",
    "        \n",
    "        is_calc_llr_copy = self.is_calc_llr.copy()\n",
    "        llr_array_copy = self.llr_array.copy()\n",
    "        \n",
    "        pm_copy = self.pm\n",
    "        llr_copy = self.llr\n",
    "        \n",
    "        layer_copy = self.layer\n",
    "        \n",
    "        #calc 2 PM and provide them\n",
    "        PM_right = np.log(1+np.exp(-(1-2*u_right[self.layer])*self.llr))\n",
    "        new_PM_right = self.PM+PM_right\n",
    "        \n",
    "        PM_opp = np.log(1+np.exp(-(1-2*u_opp[self.layer])*self.llr)) \n",
    "        new_PM_opp = self.PM+PM_opp\n",
    "        \n",
    "        right = rec_dec(self.code, self.y_message, layer_copy+1, u_right, is_calc_llr_copy, llr_array_copy, pm_copy, new_PM_right)\n",
    "        opp = rec_dec(self.code, self.y_message, layer_copy+1, u_opp, is_calc_llr_copy, llr_array_copy, pm_copy+np.abs(llr_copy), new_PM_opp)\n",
    "        \n",
    "        return [right, opp]\n",
    "    \n",
    "    def meet_frozen(self):\n",
    "        self.llr = code._fast_llr(self.layer, self.y_message, self.u_est[:self.layer], self.llr_array, self.is_calc_llr) \n",
    "        self.u_est[self.layer] = 0\n",
    "        self.pm += np.abs(self.llr) if (self.llr < 0) else 0 \n",
    "        self.PM += np.log(1+np.exp(-(1-2*self.u_est[self.layer])*self.llr)) \n",
    "        self.layer +=1\n",
    "    \n",
    "    def get_pm(self):\n",
    "        return self.pm\n",
    "    \n",
    "    def get_PM(self):\n",
    "        return self.PM\n",
    "    \n",
    "    def is_calc(self):\n",
    "        return self.is_calc_llr\n",
    "    \n",
    "    def get_l(self):\n",
    "        return self.layer\n",
    "    \n",
    "    def get_u_est(self):\n",
    "        return self.u_est"
   ]
  },
  {
   "cell_type": "code",
   "execution_count": 79,
   "metadata": {},
   "outputs": [],
   "source": [
    "def scl_dec(code, y_message, list_size=32, train=None): #we should decide here whether to by Indooose Metric or paper's\n",
    "    u_est = np.full(code._N, -1)\n",
    "    is_calc_llr = [False] * code._N * (code._n + 1)\n",
    "    llr_array = np.full(code._N * (code._n + 1), 0.0, dtype=np.longfloat)\n",
    "    dec_array = [] # will store L decoders always\n",
    "    a = rec_dec(code, y_message, 0, u_est, is_calc_llr, llr_array)\n",
    "    dec_array.append(a)\n",
    "    M = np.zeros(code._N)\n",
    "    \n",
    "    bit_for_flip_train = None\n",
    "    \n",
    "    for i in range(126): #code._N\n",
    "        \n",
    "        if i in code._frozen_bits_positions:\n",
    "            for elem in dec_array:\n",
    "                 elem.meet_frozen()\n",
    "        else:\n",
    "            new_arr = []\n",
    "            for elem in dec_array:\n",
    "                temp = elem.split()\n",
    "                new_arr.append(temp[0])\n",
    "                new_arr.append(temp[1])\n",
    "            dec_array = new_arr.copy()\n",
    "            \n",
    "        \n",
    "        if len(dec_array) > list_size:\n",
    "            dec_array.sort(key=lambda x: x.get_PM())\n",
    "            M[i] = np.sum([x.get_PM() for x in dec_array[list_size:]]) - np.sum([x.get_PM() for x in dec_array[:list_size]])\n",
    "            \n",
    "        else:\n",
    "            M[i] = - np.sum([x.get_PM() for x in dec_array[:list_size]])\n",
    "        \n",
    "        if len(dec_array) > list_size:      #pruning from 2L to L decoders\n",
    "            dec_array.sort(key=lambda x: x.get_PM()) # by paper (mb create new decoder parametr)\n",
    "            \n",
    "            if (train is not None) and (bit_for_flip_train is None): #should save i, if right solution among discarded\n",
    "                \n",
    "                for inst in dec_array[list_size:]:\n",
    "                    if (train[:i] == inst.get_u_est()[:i]).all():\n",
    "                        bit_for_flip_train = i      \n",
    "                \n",
    "            dec_array = dec_array[:list_size].copy() # delete discarded paths\n",
    "            \n",
    "    return dec_array, M, bit_for_flip_train"
   ]
  },
  {
   "cell_type": "code",
   "execution_count": 80,
   "metadata": {},
   "outputs": [
    {
     "name": "stdout",
     "output_type": "stream",
     "text": [
      "CPU times: user 56.1 ms, sys: 11.3 ms, total: 67.3 ms\n",
      "Wall time: 68 ms\n"
     ]
    }
   ],
   "source": [
    "%%time\n",
    "c, M, bit = scl_dec(code, y_message, 32, code.extend_info_bits(u_message))"
   ]
  },
  {
   "cell_type": "code",
   "execution_count": 81,
   "metadata": {},
   "outputs": [
    {
     "data": {
      "text/plain": [
       "125"
      ]
     },
     "execution_count": 81,
     "metadata": {},
     "output_type": "execute_result"
    }
   ],
   "source": [
    "bit"
   ]
  },
  {
   "cell_type": "code",
   "execution_count": 82,
   "metadata": {},
   "outputs": [
    {
     "data": {
      "text/plain": [
       "[6.824606655199007376e-08,\n",
       " 683.26964170273324456,\n",
       " 683.96278888329318985,\n",
       " 683.96278888329318985,\n",
       " 684.65593606385313513,\n",
       " 684.65593606385313513,\n",
       " 684.65593606385313513,\n",
       " 684.65593606385313513,\n",
       " 685.3490832444130804,\n",
       " 685.3490832444130804,\n",
       " 685.3490832444130804,\n",
       " 685.3490832444130804,\n",
       " 686.0422304249730257,\n",
       " 686.0422304249730257,\n",
       " 686.0422304249730257,\n",
       " 686.0422304249730257,\n",
       " 686.0422304249730257,\n",
       " 686.0422304249730257,\n",
       " 686.0422304249730257,\n",
       " 686.0422304249730257,\n",
       " 1027.6770512422166147,\n",
       " 1027.6770512422166147,\n",
       " 1027.6770512422166147,\n",
       " 1027.6770512422166147,\n",
       " 1027.6770512422166147,\n",
       " 1027.6770512422166147,\n",
       " 1027.6770512422166147,\n",
       " 1027.6770512422166147,\n",
       " 1027.6770512422166147,\n",
       " 1027.6770512422166147,\n",
       " 1027.6770512422166147,\n",
       " 1027.6770512422166147]"
      ]
     },
     "execution_count": 82,
     "metadata": {},
     "output_type": "execute_result"
    }
   ],
   "source": [
    "[x.get_PM() for x in c]"
   ]
  },
  {
   "cell_type": "code",
   "execution_count": null,
   "metadata": {},
   "outputs": [],
   "source": []
  }
 ],
 "metadata": {
  "kernelspec": {
   "display_name": "Python 3",
   "language": "python",
   "name": "python3"
  },
  "language_info": {
   "codemirror_mode": {
    "name": "ipython",
    "version": 3
   },
   "file_extension": ".py",
   "mimetype": "text/x-python",
   "name": "python",
   "nbconvert_exporter": "python",
   "pygments_lexer": "ipython3",
   "version": "3.8.5"
  }
 },
 "nbformat": 4,
 "nbformat_minor": 4
}
