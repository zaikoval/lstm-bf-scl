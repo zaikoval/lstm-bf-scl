{
 "cells": [
  {
   "cell_type": "code",
   "execution_count": 804,
   "metadata": {},
   "outputs": [],
   "source": [
    "from polar_codes.polar_code import PolarCode\n",
    "from polar_codes.channels.bpsk_awgn_channel import BpskAwgnChannel\n",
    "import numpy as np"
   ]
  },
  {
   "cell_type": "code",
   "execution_count": 805,
   "metadata": {},
   "outputs": [],
   "source": [
    "channel = BpskAwgnChannel(13)"
   ]
  },
  {
   "cell_type": "code",
   "execution_count": 806,
   "metadata": {},
   "outputs": [],
   "source": [
    "n = 8\n",
    "K = 115\n",
    "code = PolarCode(n=n, K=K,\n",
    "                 construction_method='PW',\n",
    "                 channel=channel, CRC_len=16)"
   ]
  },
  {
   "cell_type": "markdown",
   "metadata": {},
   "source": [
    "115 информационных бит для передачи"
   ]
  },
  {
   "cell_type": "code",
   "execution_count": 807,
   "metadata": {},
   "outputs": [
    {
     "data": {
      "text/plain": [
       "array([0, 0, 0, 0, 1, 1, 1, 1, 1, 1, 1, 0, 0, 1, 1, 0, 1, 1, 0, 1, 1, 0,\n",
       "       0, 0, 1, 1, 0, 1, 0, 0, 1, 0, 0, 1, 0, 0, 0, 1, 0, 0, 1, 1, 0, 0,\n",
       "       0, 0, 0, 0, 0, 0, 1, 0, 1, 1, 1, 1, 0, 0, 0, 1, 0, 1, 0, 0, 0, 1,\n",
       "       1, 0, 1, 0, 0, 0, 0, 1, 0, 1, 1, 0, 0, 1, 0, 1, 1, 0, 0, 1, 1, 1,\n",
       "       1, 0, 0, 0, 0, 1, 0, 0, 0, 1, 0, 1, 1, 1, 0, 0, 0, 1, 1, 0, 1, 1,\n",
       "       1, 0, 0, 0, 0], dtype=uint8)"
      ]
     },
     "execution_count": 807,
     "metadata": {},
     "output_type": "execute_result"
    }
   ],
   "source": [
    "u_message = np.asarray([0 if np.random.random_sample() > 0.5 else 1 for _ in range(0, K)], dtype='uint8')\n",
    "u_message"
   ]
  },
  {
   "cell_type": "code",
   "execution_count": 808,
   "metadata": {},
   "outputs": [],
   "source": [
    "x_message = code.encode(u_message)"
   ]
  },
  {
   "cell_type": "code",
   "execution_count": 809,
   "metadata": {
    "scrolled": true
   },
   "outputs": [
    {
     "data": {
      "text/plain": [
       "array([0, 0, 0, 1, 1, 1, 0, 1, 1, 1, 0, 1, 1, 0, 1, 1, 1, 1, 0, 1, 1, 0,\n",
       "       0, 0, 0, 0, 0, 1, 0, 0, 0, 1, 0, 0, 0, 1, 0, 1, 0, 0, 0, 0, 0, 1,\n",
       "       1, 1, 1, 0, 1, 0, 0, 0, 0, 1, 0, 0, 0, 1, 1, 1, 1, 1, 1, 0, 0, 0,\n",
       "       1, 0, 1, 1, 0, 1, 0, 1, 0, 0, 1, 1, 1, 0, 0, 0, 1, 0, 0, 1, 0, 0,\n",
       "       0, 1, 0, 0, 1, 0, 0, 0, 1, 0, 0, 0, 1, 1, 1, 0, 0, 1, 1, 1, 0, 1,\n",
       "       0, 0, 0, 1, 1, 1, 1, 0, 0, 0, 0, 1, 1, 1, 0, 0, 1, 0, 1, 0, 0, 0,\n",
       "       1, 0, 0, 0, 1, 0, 0, 0, 0, 0, 1, 0, 1, 1, 1, 0, 1, 0, 0, 0, 1, 1,\n",
       "       1, 0, 0, 0, 1, 0, 1, 0, 0, 0, 1, 1, 1, 0, 0, 0, 1, 0, 0, 0, 0, 1,\n",
       "       1, 0, 1, 1, 0, 1, 0, 0, 1, 1, 1, 0, 0, 1, 0, 0, 0, 0, 1, 0, 1, 0,\n",
       "       0, 0, 0, 0, 0, 1, 1, 1, 1, 0, 1, 0, 1, 1, 1, 0, 0, 0, 0, 1, 1, 1,\n",
       "       0, 0, 0, 1, 1, 1, 0, 1, 1, 1, 1, 0, 0, 0, 0, 1, 0, 1, 1, 1, 1, 0,\n",
       "       1, 1, 1, 1, 1, 0, 1, 0, 0, 0, 1, 0, 0, 0], dtype=uint8)"
      ]
     },
     "execution_count": 809,
     "metadata": {},
     "output_type": "execute_result"
    }
   ],
   "source": [
    "to_message = channel.modulate(x_message)\n",
    "from_message = channel.transmit(to_message)\n",
    "y_message = channel.demodulate(from_message)\n",
    "y_message"
   ]
  },
  {
   "cell_type": "code",
   "execution_count": 810,
   "metadata": {},
   "outputs": [
    {
     "name": "stdout",
     "output_type": "stream",
     "text": [
      "CPU times: user 593 ms, sys: 9.06 ms, total: 602 ms\n",
      "Wall time: 613 ms\n"
     ]
    }
   ],
   "source": [
    "%%time\n",
    "scl_u_est_message = code.decode(y_message, decoding_method='SCL', list_size=32)\n",
    "#scl_u_est_message"
   ]
  },
  {
   "cell_type": "code",
   "execution_count": 837,
   "metadata": {},
   "outputs": [],
   "source": [
    "class rec_dec:\n",
    "    def __init__(self, code, y_message, i, u_est, is_calc_llr, llr_array, pm=0, PM=0):\n",
    "        self.u_est = u_est\n",
    "        self.is_calc_llr = is_calc_llr\n",
    "        self.llr_array = llr_array\n",
    "        self.y_message = y_message\n",
    "        self.pm = pm #Iddooose metric\n",
    "        self.layer = i\n",
    "        self.code = code\n",
    "        self.PM = PM #paper_metric\n",
    "    \n",
    "    def split(self):\n",
    "        #Создаем 2 копии этого же instance c разными параметрами\n",
    "        u_right = self.u_est.copy()\n",
    "        u_opp = self.u_est.copy()\n",
    "        \n",
    "        self.llr = code._fast_llr(self.layer, self.y_message, self.u_est[:self.layer], self.llr_array, self.is_calc_llr) \n",
    "        \n",
    "        u_right[self.layer] = 0 if self.llr > 0 else 1\n",
    "        u_opp[self.layer] = 1 - u_right[self.layer]\n",
    "        \n",
    "        is_calc_llr_copy = self.is_calc_llr.copy()\n",
    "        llr_array_copy = self.llr_array.copy()\n",
    "        \n",
    "        pm_copy = self.pm\n",
    "        llr_copy = self.llr\n",
    "        \n",
    "        layer_copy = self.layer\n",
    "        \n",
    "        #calc 2 PM and provide them\n",
    "        PM_right = np.log(1+np.exp(-(1-2*u_right[self.layer])*self.llr))\n",
    "        new_PM_right = self.PM+PM_right\n",
    "        \n",
    "        PM_opp = np.log(1+np.exp(-(1-2*u_opp[self.layer])*self.llr)) \n",
    "        new_PM_opp = self.PM+PM_opp\n",
    "        \n",
    "        right = rec_dec(self.code, self.y_message, layer_copy+1, u_right, is_calc_llr_copy, llr_array_copy, pm_copy, new_PM_right)\n",
    "        opp = rec_dec(self.code, self.y_message, layer_copy+1, u_opp, is_calc_llr_copy, llr_array_copy, pm_copy+np.abs(llr_copy), new_PM_opp)\n",
    "        \n",
    "        return [right, opp]\n",
    "    \n",
    "    def meet_frozen(self):\n",
    "        self.llr = code._fast_llr(self.layer, self.y_message, self.u_est[:self.layer], self.llr_array, self.is_calc_llr) \n",
    "        self.u_est[self.layer] = 0\n",
    "        self.pm += np.abs(self.llr) if (self.llr < 0) else 0 \n",
    "        self.PM += np.log(1+np.exp(-(1-2*u_est[self.layer])*self.llr)) \n",
    "        self.layer +=1\n",
    "    \n",
    "    def get_pm(self):\n",
    "        return self.pm\n",
    "    \n",
    "    def get_PM(self):\n",
    "        return self.PM\n",
    "    \n",
    "    def is_calc(self):\n",
    "        return self.is_calc_llr\n",
    "    \n",
    "    def get_l(self):\n",
    "        return self.layer\n",
    "    \n",
    "    def get_u_est(self):\n",
    "        return self.u_est"
   ]
  },
  {
   "cell_type": "code",
   "execution_count": 860,
   "metadata": {},
   "outputs": [],
   "source": [
    "def scl_dec(code, y_message, list_size=32): #we should decide here whether to by Indooose Metric or paper's\n",
    "    u_est = np.full(code._N, -1)\n",
    "    is_calc_llr = [False] * code._N * (code._n + 1)\n",
    "    llr_array = np.full(code._N * (code._n + 1), 0.0, dtype=np.longfloat)\n",
    "    dec_array = [] # will store L decoders always\n",
    "    a = rec_dec(code, y_message, 0, u_est, is_calc_llr, llr_array)\n",
    "    dec_array.append(a)\n",
    "    M = np.zeros(code._N)\n",
    "    \n",
    "    for i in range(code._N): #code._N\n",
    "        \n",
    "        if i in code._frozen_bits_positions:\n",
    "            for elem in dec_array:\n",
    "                 elem.meet_frozen()\n",
    "        else:\n",
    "            new_arr = []\n",
    "            for elem in dec_array:\n",
    "                temp = elem.split()\n",
    "                new_arr.append(temp[0])\n",
    "                new_arr.append(temp[1])\n",
    "            dec_array = new_arr.copy()\n",
    "            \n",
    "        #calc here M(i)\n",
    "        \n",
    "        if len(dec_array) > list_size:\n",
    "            dec_array.sort(key=lambda x: x.get_PM())\n",
    "            M[i] = np.sum([x.get_PM() for x in dec_array[list_size:]]) - np.sum([x.get_PM() for x in dec_array[:list_size]])\n",
    "            \n",
    "        else:\n",
    "            M[i] = - np.sum([x.get_PM() for x in dec_array[:list_size]])\n",
    "        \n",
    "        if len(dec_array) > list_size:      #pruning from 2L to L decoders\n",
    "            dec_array.sort(key=lambda x: x.get_PM()) # by paper (mb create new decoder parametr)\n",
    "            dec_array = dec_array[:list_size].copy()\n",
    "            \n",
    "    return dec_array, M\n",
    "\n",
    "#so we can save PM's for each and later calc M(i) or do it on the fly"
   ]
  },
  {
   "cell_type": "code",
   "execution_count": 861,
   "metadata": {},
   "outputs": [
    {
     "name": "stdout",
     "output_type": "stream",
     "text": [
      "CPU times: user 603 ms, sys: 37.3 ms, total: 640 ms\n",
      "Wall time: 643 ms\n"
     ]
    }
   ],
   "source": [
    "%%time\n",
    "c, M = scl_dec(code, y_message)"
   ]
  },
  {
   "cell_type": "code",
   "execution_count": 862,
   "metadata": {},
   "outputs": [
    {
     "data": {
      "text/plain": [
       "array([    -0.        ,     -0.        ,     -0.        ,     -0.        ,\n",
       "           -0.        ,     -0.        ,     -0.        ,     -0.        ,\n",
       "           -0.        ,     -0.        ,     -0.        ,     -0.        ,\n",
       "           -0.        ,     -0.        ,     -0.        ,     -0.        ,\n",
       "           -0.        ,     -0.        ,     -0.        ,     -0.        ,\n",
       "           -0.        ,     -0.        ,     -0.        ,     -0.        ,\n",
       "           -0.        ,     -0.        ,     -0.        ,     -0.        ,\n",
       "           -0.        ,     -0.        ,     -0.        ,     -0.        ,\n",
       "           -0.        ,     -0.        ,     -0.        ,     -0.        ,\n",
       "           -0.        ,     -0.        ,     -0.        ,     -0.        ,\n",
       "           -0.        ,     -0.        ,     -0.        ,     -0.        ,\n",
       "           -0.        ,     -0.        ,     -0.        ,     -0.        ,\n",
       "           -0.        ,     -0.        ,     -0.        ,     -0.        ,\n",
       "           -0.        ,     -0.        ,     -0.        ,   -683.26964163,\n",
       "         -683.26964163,   -683.26964163,   -683.26964163,  -2733.07856654,\n",
       "        -2733.07856654,  -8199.23569961, -21864.6285323 , -65593.88559691,\n",
       "       -65614.68001233, -65634.08813338, -65652.10996008, -65668.74549241,\n",
       "       -65683.99473038, -65697.85767399, -65710.33432324, -65721.42467813,\n",
       "       -65731.12873866, -65739.44650483, -65746.37797663, -65751.92315408,\n",
       "       -65756.08203716, -65758.85462588, -65760.24092025,  51333.9459617 ,\n",
       "       -46109.00404746, -46126.33272697, -46142.27511213, -46156.13805574,\n",
       "       -46170.00099935, -46181.78450142, -46192.18170913,  28769.41225543,\n",
       "       -36060.27895813, -36069.28987147, -36076.91449046,  18866.9412212 ,\n",
       "        14424.90866419,  12325.97302867,  12646.81343407,  23985.31194804,\n",
       "       -23747.56246509, -23764.19799743, -23780.83352976, -23791.23073747,\n",
       "       -23810.63885852, -23822.42236059, -23834.20586266,  11222.04978763,\n",
       "       -22301.70119925,   7178.72846144,   5725.39417861,  10934.4804469 ,\n",
       "         6378.46854828,  12584.43018781,   8679.49995654,  22927.13642092,\n",
       "       -14054.63834418,   5378.21418035,   6029.59905168,  14109.00702826,\n",
       "         5650.53428311,  12711.96926904,  12014.8366838 ,  30687.09028646,\n",
       "          399.85918398,   9173.62715709,   8469.56310004,  24690.76229945,\n",
       "         9534.67009896,  28923.46440792,  24338.03712374,  68428.68408704,\n",
       "       -11030.827905  , -11032.90734654, -11043.99770143, -11043.99770143,\n",
       "       -11049.54287887, -11049.54287887, -11049.54287887, -11049.54287887,\n",
       "       -11052.31546759, -11052.31546759, -11052.31546759, -11052.31546759,\n",
       "       -11052.31546759, -11052.31546759, -11052.31546759,  20464.62359583,\n",
       "       -11073.80303019, -11075.88247173, -11086.97282662, -11086.97282662,\n",
       "       -11092.51800407, -11092.51800407,   6639.63343332,  18008.86876433,\n",
       "       -11095.29059279,   8185.84943833,   7003.44896391,  18372.68429493,\n",
       "         7731.08002509,  19100.31535611,  17917.91488169,  40929.24719167,\n",
       "       -11116.77815539, -11118.85759693, -11129.94795182,   7094.40284656,\n",
       "       -11135.49312926,   7822.03390774,   6639.63343332,  18008.86876433,\n",
       "       -11138.26571798,   8185.84943833,   7003.44896391,  18372.68429493,\n",
       "         7731.08002509,  19100.31535611,  17917.91488169,  40929.24719167,\n",
       "       -11159.75328058,   5457.23295889,   3092.43201004,  14188.80569311,\n",
       "         4558.7844873 ,  14734.528989  ,  12733.54357074,  36017.73752867,\n",
       "         5286.41554848,  16189.79111137,  14916.4367543 ,  38200.63071222,\n",
       "        13279.26686663,  36563.46082456,  35290.10646748,  81858.49438334,\n",
       "       -11191.63805089, -11191.63805089, -11196.49008115,   8185.84943833,\n",
       "       -11207.58043604,   7367.2644945 ,   6730.58731596,  18372.68429493,\n",
       "         2654.29812914,   7458.21837715,   7452.67319971,  18463.63817758,\n",
       "         6352.90884177,  16917.42217256,  16917.42217256,  40201.61613048,\n",
       "         1978.80470851,   6184.86402007,   6179.31884264,  17281.23770315,\n",
       "         6352.90884177,  16917.42217256,  16917.42217256,  40201.61613048,\n",
       "         4635.33388121,  12005.91250956,  12005.91250956,  35290.10646748,\n",
       "        12005.91250956,  35290.10646748,  35290.10646748,  81858.49438334,\n",
       "         2688.41394301,   6184.86402007,   5826.59366693,  17281.23770315,\n",
       "         5647.45849035,  16917.42217256,  16917.42217256,  40201.61613048,\n",
       "         3290.97530767,  14916.4367543 ,  14916.4367543 ,  38200.63071222,\n",
       "        14916.4367543 ,  38200.63071222,  38200.63071222,  84769.01862808,\n",
       "         1657.96430308,  12005.91250956,  12005.91250956,  35290.10646748,\n",
       "        12005.91250956,  35290.10646748,  35290.10646748,  81858.49438334,\n",
       "        12005.91250956,  35290.10646748,  35290.10646748,  81858.49438334,\n",
       "        35290.10646748,  81858.49438334,  81858.49438334, 174995.27021505])"
      ]
     },
     "execution_count": 862,
     "metadata": {},
     "output_type": "execute_result"
    }
   ],
   "source": [
    "M"
   ]
  },
  {
   "cell_type": "code",
   "execution_count": 840,
   "metadata": {},
   "outputs": [
    {
     "data": {
      "text/plain": [
       "[0.0,\n",
       " 184.68035401854606159,\n",
       " 184.68035401854606159,\n",
       " 184.68035401854606159,\n",
       " 184.68035401854606159,\n",
       " 184.68035401854606159,\n",
       " 184.68035401854606159,\n",
       " 184.68035401854606159,\n",
       " 184.68035401854606159,\n",
       " 184.68035401854606159,\n",
       " 184.68035401854606159,\n",
       " 184.68035401854606159,\n",
       " 184.68035401854606159,\n",
       " 184.68035401854606159,\n",
       " 184.68035401854606159,\n",
       " 184.68035401854606159,\n",
       " 184.68035401854606159,\n",
       " 185.3735011991060069,\n",
       " 185.3735011991060069,\n",
       " 185.3735011991060069,\n",
       " 185.3735011991060069,\n",
       " 185.3735011991060069,\n",
       " 185.3735011991060069,\n",
       " 185.3735011991060069,\n",
       " 185.3735011991060069,\n",
       " 185.3735011991060069,\n",
       " 185.3735011991060069,\n",
       " 185.3735011991060069,\n",
       " 185.3735011991060069,\n",
       " 185.3735011991060069,\n",
       " 185.3735011991060069,\n",
       " 185.3735011991060069]"
      ]
     },
     "execution_count": 840,
     "metadata": {},
     "output_type": "execute_result"
    }
   ],
   "source": [
    "[x.get_PM() for x in c]"
   ]
  },
  {
   "cell_type": "code",
   "execution_count": null,
   "metadata": {},
   "outputs": [],
   "source": []
  }
 ],
 "metadata": {
  "kernelspec": {
   "display_name": "Python 3",
   "language": "python",
   "name": "python3"
  },
  "language_info": {
   "codemirror_mode": {
    "name": "ipython",
    "version": 3
   },
   "file_extension": ".py",
   "mimetype": "text/x-python",
   "name": "python",
   "nbconvert_exporter": "python",
   "pygments_lexer": "ipython3",
   "version": "3.8.5"
  }
 },
 "nbformat": 4,
 "nbformat_minor": 4
}
