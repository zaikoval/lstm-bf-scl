{
 "cells": [
  {
   "cell_type": "code",
   "execution_count": 695,
   "metadata": {},
   "outputs": [],
   "source": [
    "from polar_codes.polar_code import PolarCode\n",
    "from polar_codes.channels.bpsk_awgn_channel import BpskAwgnChannel\n",
    "import numpy as np\n",
    "from joblib import Parallel, delayed\n",
    "from multiprocessing import cpu_count\n",
    "from tqdm import tqdm\n",
    "import pickle"
   ]
  },
  {
   "cell_type": "code",
   "execution_count": 669,
   "metadata": {},
   "outputs": [],
   "source": [
    "channel = BpskAwgnChannel(3)"
   ]
  },
  {
   "cell_type": "code",
   "execution_count": 670,
   "metadata": {},
   "outputs": [],
   "source": [
    "ebnodb = np.arange(0,6.5, 0.5)\n",
    "ebno = 10**(ebnodb/10)\n",
    "snr = ebno\n",
    "sinr = ebno/2\n",
    "sinrdb = 10*np.log10(sinr)\n"
   ]
  },
  {
   "cell_type": "code",
   "execution_count": 671,
   "metadata": {},
   "outputs": [
    {
     "data": {
      "text/plain": [
       "array([-3.01029996, -2.51029996, -2.01029996, -1.51029996, -1.01029996,\n",
       "       -0.51029996, -0.01029996,  0.48970004,  0.98970004,  1.48970004,\n",
       "        1.98970004,  2.48970004,  2.98970004])"
      ]
     },
     "execution_count": 671,
     "metadata": {},
     "output_type": "execute_result"
    }
   ],
   "source": [
    "sinrdb"
   ]
  },
  {
   "cell_type": "code",
   "execution_count": 672,
   "metadata": {},
   "outputs": [],
   "source": [
    "n = 9\n",
    "K = 256\n",
    "code = PolarCode(n=n, K=K,\n",
    "                 construction_method='PW',\n",
    "                 channel=channel, CRC_len=24)\n",
    "R = K / 2**n "
   ]
  },
  {
   "cell_type": "markdown",
   "metadata": {},
   "source": [
    "115 информационных бит для передачи"
   ]
  },
  {
   "cell_type": "code",
   "execution_count": 673,
   "metadata": {},
   "outputs": [
    {
     "data": {
      "text/plain": [
       "array([1, 1, 1, 1, 1, 1, 1, 1, 1, 0, 0, 0, 1, 0, 1, 0, 0, 0, 0, 0, 0, 0,\n",
       "       1, 1, 0, 1, 1, 1, 1, 1, 0, 1, 0, 1, 0, 1, 0, 1, 0, 1, 0, 1, 1, 0,\n",
       "       1, 0, 0, 1, 1, 0, 0, 0, 0, 0, 0, 0, 1, 1, 1, 0, 1, 1, 1, 0, 1, 1,\n",
       "       0, 0, 0, 0, 1, 0, 1, 0, 0, 1, 1, 1, 0, 1, 1, 1, 1, 1, 0, 1, 1, 0,\n",
       "       0, 1, 1, 1, 1, 0, 1, 0, 0, 0, 0, 1, 0, 0, 0, 1, 0, 1, 1, 1, 1, 1,\n",
       "       0, 0, 1, 0, 1, 1, 0, 0, 0, 0, 0, 1, 0, 1, 1, 1, 1, 0, 0, 0, 1, 1,\n",
       "       1, 1, 0, 0, 0, 1, 1, 0, 0, 0, 1, 1, 1, 1, 0, 1, 1, 0, 0, 0, 0, 0,\n",
       "       0, 0, 0, 0, 1, 0, 1, 1, 0, 1, 0, 0, 1, 0, 1, 0, 1, 1, 1, 1, 1, 0,\n",
       "       0, 0, 1, 0, 1, 0, 0, 1, 0, 0, 0, 1, 0, 1, 1, 0, 0, 0, 0, 1, 0, 0,\n",
       "       1, 0, 0, 0, 0, 1, 0, 1, 1, 1, 1, 1, 0, 1, 0, 0, 0, 0, 0, 0, 1, 1,\n",
       "       1, 0, 0, 1, 0, 1, 0, 1, 0, 1, 0, 0, 0, 0, 0, 0, 1, 0, 1, 1, 1, 1,\n",
       "       0, 0, 0, 1, 0, 1, 1, 0, 0, 0, 0, 1, 0, 1], dtype=uint8)"
      ]
     },
     "execution_count": 673,
     "metadata": {},
     "output_type": "execute_result"
    }
   ],
   "source": [
    "u_message = np.asarray([0 if np.random.random_sample() > 0.5 else 1 for _ in range(0, K)], dtype='uint8')\n",
    "u_message"
   ]
  },
  {
   "cell_type": "code",
   "execution_count": 674,
   "metadata": {},
   "outputs": [],
   "source": [
    "x_message = code.encode(u_message)"
   ]
  },
  {
   "cell_type": "code",
   "execution_count": 675,
   "metadata": {
    "scrolled": true
   },
   "outputs": [],
   "source": [
    "to_message = channel.modulate(x_message)\n",
    "from_message = channel.transmit(to_message)\n",
    "y_message = channel.demodulate(from_message)"
   ]
  },
  {
   "cell_type": "code",
   "execution_count": 676,
   "metadata": {},
   "outputs": [
    {
     "name": "stdout",
     "output_type": "stream",
     "text": [
      "CPU times: user 1.17 s, sys: 6.7 ms, total: 1.18 s\n",
      "Wall time: 1.19 s\n"
     ]
    }
   ],
   "source": [
    "%%time\n",
    "scl_u_est_message = code.decode(y_message, decoding_method='SCL', list_size=32)\n",
    "#scl_u_est_message"
   ]
  },
  {
   "cell_type": "code",
   "execution_count": 678,
   "metadata": {},
   "outputs": [],
   "source": [
    "class rec_dec:\n",
    "    def __init__(self, code, y_message, i, u_est, is_calc_llr, llr_array, pm=0, PM=0):\n",
    "        self.u_est = u_est\n",
    "        self.is_calc_llr = is_calc_llr\n",
    "        self.llr_array = llr_array\n",
    "        self.y_message = y_message\n",
    "        self.pm = pm #Iddooose metric\n",
    "        self.layer = i\n",
    "        self.code = code\n",
    "        self.PM = PM #paper_metric\n",
    "    \n",
    "    def split(self):\n",
    "        #Создаем 2 копии этого же instance c разными параметрами\n",
    "        u_right = self.u_est.copy()\n",
    "        u_opp = self.u_est.copy()\n",
    "        \n",
    "        self.llr = code._fast_llr(self.layer, self.y_message, self.u_est[:self.layer], self.llr_array, self.is_calc_llr) \n",
    "        \n",
    "        u_right[self.layer] = 0 if self.llr > 0 else 1\n",
    "        u_opp[self.layer] = 1 - u_right[self.layer]\n",
    "        \n",
    "        pm_copy_r = self.pm\n",
    "        pm_copy_opp = self.pm\n",
    "        llr_copy = self.llr\n",
    "        \n",
    "        layer_copy = self.layer\n",
    "        \n",
    "        #calc 2 PM and provide them\n",
    "        PM_right = np.log(1+np.exp(-(1-2*u_right[self.layer])*self.llr))\n",
    "        new_PM_right = self.PM+PM_right\n",
    "        \n",
    "        PM_opp = np.log(1+np.exp(-(1-2*u_opp[self.layer])*self.llr)) \n",
    "        new_PM_opp = self.PM+PM_opp\n",
    "        \n",
    "        right = rec_dec(self.code, self.y_message, layer_copy+1, u_right, self.is_calc_llr.copy(), self.llr_array.copy(), pm_copy_r, new_PM_right)\n",
    "        opp = rec_dec(self.code, self.y_message, layer_copy+1, u_opp, self.is_calc_llr.copy(), self.llr_array.copy(), pm_copy_opp+np.abs(llr_copy), new_PM_opp)\n",
    "        \n",
    "        return [right, opp]\n",
    "    \n",
    "    def meet_frozen(self):\n",
    "        self.llr = code._fast_llr(self.layer, self.y_message, self.u_est[:self.layer], self.llr_array, self.is_calc_llr) \n",
    "        self.u_est[self.layer] = 0\n",
    "        self.pm += np.abs(self.llr) if (self.llr < 0) else 0 \n",
    "        self.PM += np.log(1+np.exp(-(1-2*self.u_est[self.layer])*self.llr)) \n",
    "        self.layer +=1\n",
    "    \n",
    "    def get_pm(self):\n",
    "        return self.pm\n",
    "    \n",
    "    def get_PM(self):\n",
    "        return self.PM\n",
    "    \n",
    "    def get_is_calc(self):\n",
    "        return self.is_calc_llr\n",
    "    \n",
    "    def get_l(self):\n",
    "        return self.layer\n",
    "    \n",
    "    def get_u_est(self):\n",
    "        return self.u_est\n",
    "    \n",
    "    def get_llr_array(self):\n",
    "        return self.llr_array"
   ]
  },
  {
   "cell_type": "code",
   "execution_count": 687,
   "metadata": {},
   "outputs": [],
   "source": [
    "def scl_dec(code, y_message, list_size=32, train=None): #we should decide here whether to by Indooose Metric or paper's\n",
    "    u_est = np.full(code._N, -1)\n",
    "    is_calc_llr = [False] * code._N * (code._n + 1)\n",
    "    llr_array = np.full(code._N * (code._n + 1), 0.0, dtype=np.longfloat)\n",
    "    dec_array = [] # will store L decoders always\n",
    "    a = rec_dec(code, y_message, 0, u_est, is_calc_llr, llr_array)\n",
    "    dec_array.append(a)\n",
    "    M = np.zeros(code._N)\n",
    "    \n",
    "    bit_for_flip_train = None\n",
    "    \n",
    "    for i in range(code._N): #code._N\n",
    "        \n",
    "        if i in code._frozen_bits_positions:\n",
    "            for elem in dec_array:\n",
    "                 elem.meet_frozen()\n",
    "                \n",
    "        else:\n",
    "            new_arr = []\n",
    "            for elem in dec_array:\n",
    "                temp = elem.split()\n",
    "                new_arr.append(temp[0])\n",
    "                new_arr.append(temp[1])\n",
    "            dec_array = new_arr\n",
    "            \n",
    "        \n",
    "        if len(dec_array) > list_size:\n",
    "            dec_array.sort(key=lambda x: x.get_PM())\n",
    "            M[i] = np.sum([x.get_PM() for x in dec_array[list_size:]]) - np.sum([x.get_PM() for x in dec_array[:list_size]])\n",
    "            \n",
    "        else:\n",
    "            M[i] = - np.sum([x.get_PM() for x in dec_array[:list_size]])\n",
    "        \n",
    "        if len(dec_array) > list_size:      #pruning from 2L to L decoders\n",
    "            dec_array.sort(key=lambda x: x.get_PM()) # by paper (mb create new decoder parametr)\n",
    "            \n",
    "            if (train is not None) and (bit_for_flip_train is None): #should save i, if right solution among discarded\n",
    "                \n",
    "                for inst in dec_array[list_size:]:\n",
    "                    if (train[:i+1] == inst.get_u_est()[:i+1]).all():\n",
    "                        bit_for_flip_train = i      \n",
    "                \n",
    "            dec_array = dec_array[:list_size] # delete discarded paths\n",
    "            \n",
    "    return M, bit_for_flip_train"
   ]
  },
  {
   "cell_type": "code",
   "execution_count": 680,
   "metadata": {},
   "outputs": [
    {
     "name": "stdout",
     "output_type": "stream",
     "text": [
      "CPU times: user 2.46 s, sys: 667 ms, total: 3.12 s\n",
      "Wall time: 3.15 s\n"
     ]
    }
   ],
   "source": [
    "%%time\n",
    "c, M, bit = scl_dec(code, y_message, 32, code.extend_info_bits(u_message))"
   ]
  },
  {
   "cell_type": "code",
   "execution_count": 681,
   "metadata": {},
   "outputs": [],
   "source": [
    "bit"
   ]
  },
  {
   "cell_type": "code",
   "execution_count": 682,
   "metadata": {},
   "outputs": [
    {
     "data": {
      "text/plain": [
       "[60.657247999446670922,\n",
       " 75.6749181383022022,\n",
       " 75.674918138302777915,\n",
       " 75.674918138302777915,\n",
       " 75.67491813830310373,\n",
       " 83.183753206328610315,\n",
       " 83.18375320651747228,\n",
       " 83.18375320651747228,\n",
       " 83.18375320681818031,\n",
       " 83.18375320681818031,\n",
       " 83.18375320684624584,\n",
       " 83.18375320684624584,\n",
       " 83.183753207105219904,\n",
       " 83.183753207105219904,\n",
       " 83.18375320750011411,\n",
       " 83.18375320750011411,\n",
       " 83.183753207667399325,\n",
       " 83.183753207667399325,\n",
       " 83.183753207667399325,\n",
       " 83.183753207667399325,\n",
       " 83.18375320769525464,\n",
       " 83.18375320769525464,\n",
       " 83.18375320769525464,\n",
       " 83.18375320769525464,\n",
       " 83.18375320769540287,\n",
       " 83.18375320769540287,\n",
       " 83.18375320769813853,\n",
       " 83.18375320769813853,\n",
       " 83.18375320769813853,\n",
       " 83.18375320769813853,\n",
       " 83.18375320769815924,\n",
       " 83.18375320769815924]"
      ]
     },
     "execution_count": 682,
     "metadata": {},
     "output_type": "execute_result"
    }
   ],
   "source": [
    "[x.get_PM() for x in c]"
   ]
  },
  {
   "cell_type": "code",
   "execution_count": 683,
   "metadata": {
    "scrolled": false
   },
   "outputs": [
    {
     "name": "stdout",
     "output_type": "stream",
     "text": [
      "0\n",
      "4\n",
      "8\n",
      "8\n",
      "4\n",
      "4\n",
      "12\n",
      "16\n",
      "4\n",
      "1\n",
      "4\n",
      "4\n",
      "8\n",
      "4\n",
      "4\n",
      "6\n",
      "16\n",
      "10\n",
      "10\n",
      "4\n",
      "16\n",
      "8\n",
      "16\n",
      "8\n",
      "10\n",
      "4\n",
      "10\n",
      "4\n",
      "6\n",
      "4\n",
      "9\n",
      "4\n"
     ]
    }
   ],
   "source": [
    "for d in c:\n",
    "    print(np.abs(u_message - code.get_message_info_bits(d.get_u_est())).sum())"
   ]
  },
  {
   "cell_type": "code",
   "execution_count": 691,
   "metadata": {},
   "outputs": [
    {
     "data": {
      "text/plain": [
       "array([-3.01029996, -2.51029996, -2.01029996, -1.51029996, -1.01029996,\n",
       "       -0.51029996, -0.01029996,  0.48970004,  0.98970004,  1.48970004,\n",
       "        1.98970004,  2.48970004,  2.98970004])"
      ]
     },
     "execution_count": 691,
     "metadata": {},
     "output_type": "execute_result"
    }
   ],
   "source": [
    "sinrdb"
   ]
  },
  {
   "cell_type": "code",
   "execution_count": null,
   "metadata": {},
   "outputs": [],
   "source": [
    "data_M_sinr = []\n",
    "data_bit_sinr []\n",
    "\n",
    "for sinrdb_i in sinrdb:\n",
    "    channel = BpskAwgnChannel(sinrdb_i)\n",
    "    n = 9\n",
    "    K = 256\n",
    "    code = PolarCode(n=n, K=K,\n",
    "                     construction_method='PW',\n",
    "                     channel=channel, CRC_len=24)\n",
    "\n",
    "    \n",
    "    for _ in range(5000):\n",
    "        u_message = np.asarray([0 if np.random.random_sample() > 0.5 else 1 for _ in range(0, K)], dtype='uint8') # x100\n",
    "        x_message = code.encode(u_message)\n",
    "        to_message = channel.modulate(x_message)\n",
    "        from_message = channel.transmit(to_message)\n",
    "        y_message = channel.demodulate(from_message)\n",
    "        M, bit = scl_dec(code, y_message, 32, code.extend_info_bits(u_message))\n",
    "        data_M_sinr.append(M)\n",
    "        data_bit_sinr.append(bit)"
   ]
  },
  {
   "cell_type": "code",
   "execution_count": 688,
   "metadata": {},
   "outputs": [],
   "source": [
    "def calc_M(sinrdb_i):\n",
    "    channel = BpskAwgnChannel(sinrdb_i)\n",
    "    n = 9\n",
    "    K = 256\n",
    "    code = PolarCode(n=n, K=K,\n",
    "                     construction_method='PW',\n",
    "                     channel=channel, CRC_len=24)\n",
    "\n",
    "    u_message = np.asarray([0 if np.random.random_sample() > 0.5 else 1 for _ in range(0, K)], dtype='uint8') # x100\n",
    "    x_message = code.encode(u_message)\n",
    "    to_message = channel.modulate(x_message)\n",
    "    from_message = channel.transmit(to_message)\n",
    "    y_message = channel.demodulate(from_message)\n",
    "    M, bit = scl_dec(code, y_message, 32, code.extend_info_bits(u_message))\n",
    "    return M, bit"
   ]
  },
  {
   "cell_type": "code",
   "execution_count": 690,
   "metadata": {},
   "outputs": [
    {
     "name": "stdout",
     "output_type": "stream",
     "text": [
      "CPU times: user 2.58 s, sys: 702 ms, total: 3.29 s\n",
      "Wall time: 3.32 s\n"
     ]
    },
    {
     "data": {
      "text/plain": [
       "(array([-6.93147181e-01, -1.38629436e+00, -2.07944154e+00, -2.77758299e+00,\n",
       "        -3.47073017e+00, -4.16387735e+00, -4.85702453e+00, -5.45525224e+00,\n",
       "        -6.14839942e+00, -6.84154660e+00, -7.53469378e+00, -8.42764362e+00,\n",
       "        -9.12079080e+00, -1.00137406e+01, -1.07068878e+01, -1.10454651e+01,\n",
       "        -1.17386122e+01, -1.24317594e+01, -1.31249066e+01, -1.38180538e+01,\n",
       "        -1.45112010e+01, -1.48994634e+01, -1.63382798e+01, -1.65632688e+01,\n",
       "        -1.72564160e+01, -1.79495632e+01, -1.86427104e+01, -1.87775621e+01,\n",
       "        -1.90162621e+01, -1.90209316e+01, -1.90372746e+01, -1.90372752e+01,\n",
       "        -1.97304223e+01, -2.04235695e+01, -2.11167167e+01, -2.18098639e+01,\n",
       "        -2.25030111e+01, -2.27402680e+01, -2.34334152e+01, -2.34518420e+01,\n",
       "        -2.41449892e+01, -2.48381364e+01, -2.50266712e+01, -2.50366011e+01,\n",
       "        -2.51118591e+01, -2.51122260e+01, -2.51125489e+01, -2.51125489e+01,\n",
       "        -2.58056961e+01, -2.81307557e+01, -2.86032952e+01, -2.86571825e+01,\n",
       "        -2.87269118e+01, -2.87282151e+01, -2.87283042e+01, -2.87283042e+01,\n",
       "        -2.94214514e+01, -2.94238812e+01, -2.94239244e+01, -2.94239244e+01,\n",
       "        -2.94239258e+01, -2.94239258e+01, -2.94239258e+01, -1.29676566e+02,\n",
       "        -1.31062860e+02, -1.32449154e+02, -1.33835449e+02, -1.35221743e+02,\n",
       "        -1.36608037e+02, -1.37431056e+02, -1.38817351e+02, -1.39515341e+02,\n",
       "        -1.40901635e+02, -1.42287930e+02, -1.45330343e+02, -1.46440915e+02,\n",
       "        -1.47827210e+02, -1.48521615e+02, -1.49249049e+02, -1.49942196e+02,\n",
       "        -1.51328491e+02, -1.52714785e+02, -1.53476422e+02, -1.54170534e+02,\n",
       "        -1.55556828e+02, -1.56250595e+02, -1.56944361e+02, -1.57637508e+02,\n",
       "        -1.58365540e+02, -1.59059002e+02, -1.59752155e+02, -1.60445302e+02,\n",
       "        -1.61138455e+02, -1.61831602e+02, -1.62524749e+02, -4.10105688e+02,\n",
       "        -4.12878277e+02, -4.15650865e+02, -4.17765475e+02, -4.19845162e+02,\n",
       "        -4.21942505e+02, -4.24021952e+02, -4.26101396e+02, -4.28180838e+02,\n",
       "        -4.30277806e+02, -4.32357325e+02, -4.34436768e+02, -4.36516209e+02,\n",
       "        -4.38595651e+02, -4.40675092e+02, -9.28380917e+02, -1.99021299e+03,\n",
       "        -2.00061904e+03, -2.00963880e+03, -2.02003600e+03, -2.02904692e+03,\n",
       "        -2.04241729e+03, -4.19469210e+03,  6.94131940e+02,  9.02164604e+02,\n",
       "        -3.75897120e+03,  1.09071019e+03,  7.45530822e+02,  1.41130792e+03,\n",
       "         4.33459056e+02,  1.16646279e+03,  1.18680700e+03,  4.54256646e+03,\n",
       "        -2.97358316e+03, -2.99576387e+03, -3.01794458e+03, -3.04012529e+03,\n",
       "        -3.06230600e+03, -3.07072556e+03, -3.09290627e+03, -3.09327759e+03,\n",
       "        -3.11545830e+03, -3.13763901e+03, -3.15981972e+03, -3.16176970e+03,\n",
       "        -3.17351574e+03, -3.17355870e+03, -3.17924775e+03, -3.17924775e+03,\n",
       "        -3.20142846e+03, -3.22360917e+03, -3.23790555e+03, -3.23815584e+03,\n",
       "        -3.25566761e+03, -3.26260159e+03, -3.26618406e+03, -3.26618406e+03,\n",
       "        -3.27633205e+03, -3.27987082e+03, -3.28129389e+03, -3.28129389e+03,\n",
       "        -3.28201446e+03, -3.28201446e+03,  1.00182638e+03,  2.56999753e+03,\n",
       "        -3.28289638e+03, -3.31352658e+03, -3.36337439e+03, -3.38078521e+03,\n",
       "        -3.40421827e+03, -3.41156808e+03, -3.42427677e+03, -3.42427689e+03,\n",
       "        -3.45545934e+03, -3.46315326e+03, -3.47470926e+03,  7.71333986e+02,\n",
       "        -3.46080104e+03,  9.63228085e+02,  8.20501788e+02,  2.01218853e+03,\n",
       "        -3.35353971e+03, -3.37223397e+03, -3.38545005e+03,  8.21615282e+02,\n",
       "        -3.34895911e+03,  8.61758813e+02,  7.92293269e+02,  1.94915666e+03,\n",
       "        -3.32888188e+03,  5.29724441e+02,  6.00707217e+02,  1.64852782e+03,\n",
       "         9.00893344e+02,  2.32149595e+03,  2.54690190e+03,  6.10387578e+03,\n",
       "        -3.29832243e+03, -3.31504613e+03, -3.33722684e+03, -3.34764455e+03,\n",
       "        -3.36160270e+03, -3.36506916e+03, -3.36996108e+03,  9.44048761e+02,\n",
       "        -3.37909832e+03, -3.39159464e+03, -3.39929591e+03,  6.94565123e+02,\n",
       "        -3.39585298e+03,  1.04839042e+03,  9.25385550e+02,  2.37358383e+03,\n",
       "        -3.39662123e+03, -3.41512993e+03, -3.42288730e+03,  8.16981137e+02,\n",
       "         4.41647102e+02,  1.11451132e+03,  9.71473997e+02,  2.56161702e+03,\n",
       "         5.46240116e+02,  1.02519705e+03,  1.07634047e+03,  2.60607805e+03,\n",
       "         1.21698863e+03,  2.57614940e+03,  2.68154298e+03,  7.31104073e+03,\n",
       "        -3.07980951e+03,  4.28201018e+02,  4.52016311e+02,  1.08728548e+03,\n",
       "         4.25247170e+02,  9.56601732e+02,  9.58073273e+02,  2.78016782e+03,\n",
       "         3.36195916e+02,  7.97118144e+02,  9.72579465e+02,  2.87613031e+03,\n",
       "         1.19939470e+03,  3.34324761e+03,  3.50616188e+03,  8.33708755e+03,\n",
       "         1.82219120e+02,  8.10280293e+02,  1.07995240e+03,  3.15255463e+03,\n",
       "         1.21170567e+03,  3.48422830e+03,  3.59541617e+03,  8.68153516e+03,\n",
       "         1.24342678e+03,  3.38669967e+03,  3.71737606e+03,  8.67752191e+03,\n",
       "         3.94974577e+03,  9.16096072e+03,  9.29568073e+03,  2.04162052e+04,\n",
       "        -2.72999080e+03, -2.75217151e+03, -2.77435222e+03, -2.79653293e+03,\n",
       "        -2.81871364e+03, -2.81981670e+03, -2.84199741e+03, -2.84200726e+03,\n",
       "        -2.86418797e+03, -2.88636868e+03, -2.90854939e+03, -2.90883129e+03,\n",
       "        -2.90939018e+03, -2.90939022e+03, -2.90939268e+03, -2.90939268e+03,\n",
       "        -2.93157339e+03, -2.95375410e+03, -2.95904275e+03, -2.95908391e+03,\n",
       "        -2.96417349e+03, -2.96417377e+03, -2.96419159e+03,  1.23255062e+03,\n",
       "        -2.96643871e+03, -2.96644770e+03, -2.96644777e+03,  1.28949025e+03,\n",
       "        -2.96644777e+03,  1.50787241e+03,  1.47993841e+03,  3.55625689e+03,\n",
       "        -2.98862848e+03, -3.01080919e+03, -3.02139483e+03, -3.02144158e+03,\n",
       "        -3.02226966e+03, -3.02226968e+03, -3.02226984e+03,  1.34223579e+03,\n",
       "        -3.02656260e+03, -3.02657595e+03, -3.02657600e+03,  1.24759467e+03,\n",
       "        -3.02657600e+03,  1.63821625e+03,  1.59173287e+03,  3.80114358e+03,\n",
       "        -3.02944301e+03, -3.02944530e+03,  6.58646248e+02,  1.40976412e+03,\n",
       "         7.53573529e+02,  1.60187165e+03,  1.53238037e+03,  3.67495150e+03,\n",
       "         5.77808003e+02,  1.29375760e+03,  1.31160576e+03,  3.46076778e+03,\n",
       "         1.57384372e+03,  3.92490091e+03,  3.83271142e+03,  8.96340180e+03,\n",
       "        -3.01313308e+03, -3.02362378e+03, -3.03892359e+03, -3.03895010e+03,\n",
       "        -3.04732632e+03, -3.04733072e+03, -3.04734286e+03,  1.41828302e+03,\n",
       "        -3.05225545e+03,  5.05371289e+02,  4.99723234e+02,  1.28238839e+03,\n",
       "         6.15448191e+02,  1.38617318e+03,  1.29279891e+03,  3.44040247e+03,\n",
       "        -3.01485682e+03,  4.83596499e+02,  5.48361594e+02,  1.36760158e+03,\n",
       "         5.71305629e+02,  1.50739832e+03,  1.46079015e+03,  3.91181692e+03,\n",
       "         5.36113562e+02,  1.37470984e+03,  1.61872936e+03,  3.87833646e+03,\n",
       "         1.76659931e+03,  4.20320849e+03,  4.29249462e+03,  9.77994651e+03,\n",
       "        -2.98621273e+03,  3.74245034e+02,  3.83871254e+02,  1.18283228e+03,\n",
       "         5.57773980e+02,  1.62167864e+03,  1.53170485e+03,  4.04706258e+03,\n",
       "         4.13298537e+02,  1.24044105e+03,  1.38982086e+03,  3.66175984e+03,\n",
       "         1.83962840e+03,  4.34498147e+03,  4.32811153e+03,  9.94784575e+03,\n",
       "         5.79190255e+02,  1.53898869e+03,  1.80604307e+03,  4.19628078e+03,\n",
       "         2.04195100e+03,  4.61828716e+03,  4.68786351e+03,  1.04866357e+04,\n",
       "         1.84705461e+03,  4.28707098e+03,  4.61422401e+03,  1.01621942e+04,\n",
       "         5.03679357e+03,  1.08096815e+04,  1.09596266e+04,  2.33778105e+04,\n",
       "        -3.00578384e+03, -3.11120549e+03, -3.12900630e+03,  2.41905012e+02,\n",
       "        -3.11991212e+03,  5.06941144e+02,  5.39106686e+02,  1.22415669e+03,\n",
       "        -3.06076942e+03,  3.91664467e+02,  4.42237043e+02,  9.06699443e+02,\n",
       "         5.18900832e+02,  1.20366419e+03,  1.26361118e+03,  3.44134560e+03,\n",
       "        -3.03005225e+03,  2.46230576e+02,  3.66829304e+02,  9.49648760e+02,\n",
       "         4.48951698e+02,  1.22440216e+03,  1.46658646e+03,  3.66633080e+03,\n",
       "         5.07880897e+02,  1.26424424e+03,  1.63630837e+03,  3.81718150e+03,\n",
       "         1.80114227e+03,  4.17408893e+03,  4.44225032e+03,  9.91474898e+03,\n",
       "         1.71431265e+02,  2.09229316e+02,  4.38979200e+02,  1.07828359e+03,\n",
       "         5.86668283e+02,  1.46068364e+03,  1.76035861e+03,  4.06874098e+03,\n",
       "         6.19855305e+02,  1.42749199e+03,  1.81247468e+03,  4.03474017e+03,\n",
       "         2.16536001e+03,  4.67360248e+03,  4.89904486e+03,  1.06111646e+04,\n",
       "         6.17285254e+02,  1.54603022e+03,  1.91861306e+03,  4.25680311e+03,\n",
       "         2.22750650e+03,  4.84862495e+03,  5.14955803e+03,  1.09800806e+04,\n",
       "         2.23542182e+03,  4.78203947e+03,  5.26768422e+03,  1.09713360e+04,\n",
       "         5.60524550e+03,  1.16784640e+04,  1.19881637e+04,  2.48535945e+04,\n",
       "         1.65131617e+02,  2.38882153e+02,  5.07020246e+02,  1.35248968e+03,\n",
       "         6.79154528e+02,  1.68139024e+03,  1.92853954e+03,  4.47402475e+03,\n",
       "         6.81108057e+02,  1.68067692e+03,  1.97520124e+03,  4.44803613e+03,\n",
       "         2.31119715e+03,  5.01016297e+03,  5.18472814e+03,  1.12362065e+04,\n",
       "         7.07553898e+02,  1.78592633e+03,  2.20018628e+03,  4.79013054e+03,\n",
       "         2.33672624e+03,  5.12791232e+03,  5.37325633e+03,  1.15539173e+04,\n",
       "         2.38443883e+03,  5.17631841e+03,  5.57220228e+03,  1.16500392e+04,\n",
       "         5.85188143e+03,  1.22263876e+04,  1.24281717e+04,  2.58777119e+04,\n",
       "         8.42023689e+02,  1.92562027e+03,  2.26559993e+03,  4.89301461e+03,\n",
       "         2.54480072e+03,  5.39748280e+03,  5.61524224e+03,  1.19677251e+04,\n",
       "         2.53047776e+03,  5.32377805e+03,  5.63914976e+03,  1.18339497e+04,\n",
       "         6.11219369e+03,  1.26148590e+04,  1.27800604e+04,  2.65587795e+04,\n",
       "         2.50795091e+03,  5.37632591e+03,  5.84938252e+03,  1.21117510e+04,\n",
       "         6.05212107e+03,  1.26148429e+04,  1.28851610e+04,  2.66413468e+04,\n",
       "         6.10468291e+03,  1.25923164e+04,  1.30803907e+04,  2.67164352e+04,\n",
       "         1.34558324e+04,  2.74823364e+04,  2.77376367e+04,  5.65865811e+04]),\n",
       " None)"
      ]
     },
     "execution_count": 690,
     "metadata": {},
     "output_type": "execute_result"
    }
   ],
   "source": [
    "%%time\n",
    "calc_M(3)"
   ]
  },
  {
   "cell_type": "code",
   "execution_count": 701,
   "metadata": {},
   "outputs": [
    {
     "name": "stderr",
     "output_type": "stream",
     "text": [
      "100%|██████████| 2/2 [00:00<00:00, 1006.43it/s]\n",
      "100%|██████████| 2/2 [00:00<00:00, 1174.55it/s]\n",
      "100%|██████████| 2/2 [00:00<00:00, 1901.32it/s]\n",
      "100%|██████████| 2/2 [00:00<00:00, 2826.35it/s]\n",
      "100%|██████████| 2/2 [00:00<00:00, 1693.64it/s]\n",
      "100%|██████████| 2/2 [00:00<00:00, 3010.99it/s]\n",
      "100%|██████████| 2/2 [00:00<00:00, 1858.77it/s]\n",
      "100%|██████████| 2/2 [00:00<00:00, 2367.66it/s]\n",
      "100%|██████████| 2/2 [00:00<00:00, 1796.66it/s]\n",
      "100%|██████████| 2/2 [00:00<00:00, 3669.56it/s]\n",
      "100%|██████████| 2/2 [00:00<00:00, 1976.11it/s]\n",
      "100%|██████████| 2/2 [00:00<00:00, 1798.97it/s]\n",
      "100%|██████████| 2/2 [00:00<00:00, 1638.08it/s]\n"
     ]
    },
    {
     "name": "stdout",
     "output_type": "stream",
     "text": [
      "CPU times: user 553 ms, sys: 64.9 ms, total: 618 ms\n",
      "Wall time: 42.7 s\n"
     ]
    }
   ],
   "source": [
    "%%time\n",
    "data = []\n",
    "for sinrdb_i in sinrdb:\n",
    "    data.append(Parallel(n_jobs=cpu_count())(delayed(calc_M)(sinrdb_i) for _ in tqdm(range(5000))))\n",
    "with open('lstm_train.pickle', 'wb') as handle:\n",
    "    pickle.dump(data, handle)"
   ]
  }
 ],
 "metadata": {
  "kernelspec": {
   "display_name": "Python 3",
   "language": "python",
   "name": "python3"
  },
  "language_info": {
   "codemirror_mode": {
    "name": "ipython",
    "version": 3
   },
   "file_extension": ".py",
   "mimetype": "text/x-python",
   "name": "python",
   "nbconvert_exporter": "python",
   "pygments_lexer": "ipython3",
   "version": "3.8.5"
  }
 },
 "nbformat": 4,
 "nbformat_minor": 4
}
