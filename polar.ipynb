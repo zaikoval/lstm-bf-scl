{
 "cells": [
  {
   "cell_type": "code",
   "execution_count": 494,
   "metadata": {},
   "outputs": [],
   "source": [
    "from polar_codes.polar_code import PolarCode\n",
    "from polar_codes.channels.bpsk_awgn_channel import BpskAwgnChannel\n",
    "import numpy as np"
   ]
  },
  {
   "cell_type": "code",
   "execution_count": 495,
   "metadata": {},
   "outputs": [],
   "source": [
    "channel = BpskAwgnChannel(3)"
   ]
  },
  {
   "cell_type": "code",
   "execution_count": 496,
   "metadata": {},
   "outputs": [],
   "source": [
    "ebn0 = np.linspace(0, 1.5, 100)"
   ]
  },
  {
   "cell_type": "code",
   "execution_count": 497,
   "metadata": {},
   "outputs": [
    {
     "name": "stderr",
     "output_type": "stream",
     "text": [
      "<ipython-input-497-ba153d25508f>:1: RuntimeWarning: divide by zero encountered in log10\n",
      "  10*np.log10(ebn0)\n"
     ]
    },
    {
     "data": {
      "text/plain": [
       "array([        -inf, -18.19543936, -15.1851394 , -13.42422681,\n",
       "       -12.17483944, -11.20573931, -10.41392685,  -9.74445896,\n",
       "        -9.16453949,  -8.65301426,  -8.19543936,  -7.7815125 ,\n",
       "        -7.40362689,  -7.05600583,  -6.734159  ,  -6.43452676,\n",
       "        -6.15423953,  -5.89095014,  -5.6427143 ,  -5.40790335,\n",
       "        -5.1851394 ,  -4.97324641,  -4.77121255,  -4.578161  ,\n",
       "        -4.39332694,  -4.21603927,  -4.04570588,  -3.88180171,\n",
       "        -3.72385904,  -3.57145938,  -3.42422681,  -3.28182242,\n",
       "        -3.14393957,  -3.01029996,  -2.88065018,  -2.75475891,\n",
       "        -2.63241435,  -2.51342211,  -2.39760339,  -2.28479329,\n",
       "        -2.17483944,  -2.06760079,  -1.96294645,  -1.8607548 ,\n",
       "        -1.76091259,  -1.66331422,  -1.56786104,  -1.47446078,\n",
       "        -1.38302698,  -1.29347856,  -1.20573931,  -1.11973759,\n",
       "        -1.03540592,  -0.95268066,  -0.87150176,  -0.79181246,\n",
       "        -0.71355909,  -0.6366908 ,  -0.56115942,  -0.48691924,\n",
       "        -0.41392685,  -0.34214101,  -0.27152246,  -0.20203386,\n",
       "        -0.13363962,  -0.06630579,   0.        ,   0.06530867,\n",
       "         0.12964977,   0.19305155,   0.25554104,   0.31714413,\n",
       "         0.37788561,   0.43778925,   0.49687784,   0.55517328,\n",
       "         0.61269657,   0.6694679 ,   0.72550667,   0.78083156,\n",
       "         0.83546051,   0.88941083,   0.94269917,   0.99534157,\n",
       "         1.04735351,   1.0987499 ,   1.14954516,   1.19975317,\n",
       "         1.24938737,   1.29846071,   1.34698574,   1.39497457,\n",
       "         1.44243892,   1.48939013,   1.53583918,   1.5817967 ,\n",
       "         1.62727297,   1.67227799,   1.7168214 ,   1.76091259])"
      ]
     },
     "execution_count": 497,
     "metadata": {},
     "output_type": "execute_result"
    }
   ],
   "source": [
    "10*np.log10(ebn0)"
   ]
  },
  {
   "cell_type": "code",
   "execution_count": 498,
   "metadata": {},
   "outputs": [],
   "source": [
    "n = 9\n",
    "K = 256\n",
    "code = PolarCode(n=n, K=K,\n",
    "                 construction_method='PW',\n",
    "                 channel=channel, CRC_len=24)\n",
    "R = K / 2**n "
   ]
  },
  {
   "cell_type": "markdown",
   "metadata": {},
   "source": [
    "115 информационных бит для передачи"
   ]
  },
  {
   "cell_type": "code",
   "execution_count": 499,
   "metadata": {},
   "outputs": [
    {
     "data": {
      "text/plain": [
       "array([1, 1, 1, 1, 0, 1, 1, 0, 0, 0, 1, 0, 1, 1, 0, 0, 0, 0, 0, 1, 0, 0,\n",
       "       0, 0, 0, 0, 0, 1, 1, 0, 0, 1, 0, 1, 0, 0, 1, 1, 1, 1, 0, 1, 1, 1,\n",
       "       1, 1, 0, 0, 1, 0, 0, 0, 0, 1, 1, 1, 1, 0, 0, 0, 0, 1, 0, 0, 1, 1,\n",
       "       0, 0, 1, 0, 0, 1, 1, 1, 1, 0, 1, 0, 1, 0, 0, 0, 0, 0, 0, 1, 1, 1,\n",
       "       1, 1, 1, 0, 1, 0, 0, 0, 0, 1, 1, 0, 1, 0, 0, 0, 1, 1, 1, 0, 0, 1,\n",
       "       0, 0, 1, 1, 0, 1, 0, 0, 1, 1, 0, 0, 0, 0, 1, 0, 1, 1, 0, 1, 1, 1,\n",
       "       0, 1, 1, 1, 1, 0, 0, 1, 1, 1, 1, 0, 0, 1, 1, 0, 0, 0, 1, 1, 0, 0,\n",
       "       0, 1, 0, 0, 0, 1, 0, 1, 0, 0, 0, 1, 0, 0, 1, 0, 0, 1, 1, 1, 0, 1,\n",
       "       0, 0, 0, 0, 1, 0, 0, 0, 0, 0, 0, 1, 0, 1, 1, 0, 1, 0, 1, 1, 1, 0,\n",
       "       0, 1, 0, 1, 0, 1, 1, 0, 0, 1, 1, 0, 1, 0, 1, 1, 1, 0, 1, 0, 1, 1,\n",
       "       0, 0, 0, 1, 0, 1, 0, 0, 0, 0, 0, 1, 1, 0, 1, 1, 0, 1, 0, 1, 0, 0,\n",
       "       0, 1, 0, 0, 1, 1, 0, 0, 0, 1, 0, 0, 1, 0], dtype=uint8)"
      ]
     },
     "execution_count": 499,
     "metadata": {},
     "output_type": "execute_result"
    }
   ],
   "source": [
    "u_message = np.asarray([0 if np.random.random_sample() > 0.5 else 1 for _ in range(0, K)], dtype='uint8')\n",
    "u_message"
   ]
  },
  {
   "cell_type": "code",
   "execution_count": 500,
   "metadata": {},
   "outputs": [],
   "source": [
    "x_message = code.encode(u_message)"
   ]
  },
  {
   "cell_type": "code",
   "execution_count": 501,
   "metadata": {
    "scrolled": true
   },
   "outputs": [
    {
     "data": {
      "text/plain": [
       "array([0, 0, 1, 0, 0, 0, 0, 0, 1, 0, 0, 1, 0, 1, 0, 0, 0, 0, 1, 0, 0, 1,\n",
       "       1, 0, 1, 0, 0, 0, 0, 0, 1, 0, 1, 1, 0, 1, 1, 1, 0, 0, 1, 1, 1, 1,\n",
       "       0, 0, 0, 1, 0, 1, 1, 0, 1, 0, 1, 0, 1, 0, 1, 0, 0, 0, 0, 1, 1, 0,\n",
       "       0, 0, 0, 1, 1, 1, 1, 0, 1, 0, 0, 1, 1, 1, 1, 0, 1, 0, 0, 1, 0, 1,\n",
       "       0, 0, 0, 0, 0, 1, 1, 1, 1, 1, 1, 0, 1, 1, 0, 0, 0, 0, 0, 0, 1, 1,\n",
       "       0, 1, 1, 0, 0, 0, 1, 1, 0, 0, 1, 1, 1, 1, 0, 1, 0, 0, 1, 1, 0, 0,\n",
       "       0, 0, 0, 1, 1, 0, 0, 0, 0, 1, 0, 1, 0, 0, 0, 0, 1, 0, 0, 0, 1, 0,\n",
       "       1, 0, 0, 1, 1, 0, 0, 0, 1, 1, 0, 0, 0, 1, 1, 1, 1, 0, 0, 0, 1, 1,\n",
       "       0, 1, 0, 1, 0, 0, 0, 1, 0, 1, 0, 0, 0, 0, 0, 0, 1, 1, 0, 0, 1, 1,\n",
       "       0, 1, 0, 0, 1, 0, 1, 1, 1, 0, 0, 0, 0, 0, 0, 1, 1, 1, 1, 0, 0, 0,\n",
       "       0, 0, 0, 0, 1, 1, 1, 0, 1, 0, 1, 1, 1, 0, 0, 0, 1, 0, 1, 0, 1, 1,\n",
       "       0, 0, 1, 0, 1, 1, 0, 0, 1, 0, 0, 1, 0, 1, 0, 0, 1, 1, 0, 1, 1, 0,\n",
       "       0, 0, 1, 1, 0, 1, 1, 1, 1, 0, 1, 0, 1, 0, 1, 1, 1, 0, 0, 0, 0, 1,\n",
       "       1, 0, 1, 0, 1, 1, 1, 0, 1, 1, 0, 1, 0, 0, 0, 0, 1, 1, 1, 1, 1, 0,\n",
       "       1, 1, 1, 1, 1, 1, 0, 0, 1, 1, 0, 1, 0, 1, 0, 0, 1, 1, 1, 1, 0, 0,\n",
       "       0, 0, 0, 1, 0, 0, 0, 0, 0, 0, 0, 0, 0, 0, 1, 0, 1, 1, 1, 0, 0, 1,\n",
       "       1, 0, 1, 0, 1, 1, 0, 1, 0, 0, 0, 1, 1, 1, 0, 1, 0, 1, 0, 1, 1, 0,\n",
       "       0, 1, 1, 0, 0, 1, 0, 1, 0, 0, 1, 1, 0, 1, 1, 1, 0, 0, 0, 0, 1, 0,\n",
       "       0, 1, 1, 1, 1, 1, 0, 0, 0, 1, 0, 0, 1, 1, 1, 0, 0, 1, 1, 0, 0, 1,\n",
       "       0, 1, 1, 0, 0, 0, 0, 0, 0, 1, 0, 0, 1, 1, 1, 0, 1, 1, 0, 0, 1, 1,\n",
       "       1, 1, 1, 1, 0, 1, 1, 1, 0, 0, 0, 1, 1, 1, 0, 0, 1, 0, 1, 0, 1, 0,\n",
       "       0, 0, 0, 0, 0, 0, 1, 0, 1, 0, 1, 1, 0, 1, 1, 0, 1, 0, 0, 0, 1, 1,\n",
       "       1, 1, 0, 1, 0, 0, 1, 0, 0, 0, 1, 1, 1, 1, 1, 0, 0, 1, 1, 0, 1, 1,\n",
       "       1, 1, 0, 1, 1, 1], dtype=uint8)"
      ]
     },
     "execution_count": 501,
     "metadata": {},
     "output_type": "execute_result"
    }
   ],
   "source": [
    "to_message = channel.modulate(x_message)\n",
    "from_message = channel.transmit(to_message)\n",
    "y_message = channel.demodulate(from_message)\n",
    "y_message"
   ]
  },
  {
   "cell_type": "code",
   "execution_count": 502,
   "metadata": {},
   "outputs": [
    {
     "name": "stdout",
     "output_type": "stream",
     "text": [
      "CPU times: user 1.22 s, sys: 12.2 ms, total: 1.23 s\n",
      "Wall time: 1.29 s\n"
     ]
    }
   ],
   "source": [
    "%%time\n",
    "scl_u_est_message = code.decode(y_message, decoding_method='SCL', list_size=32)\n",
    "#scl_u_est_message"
   ]
  },
  {
   "cell_type": "code",
   "execution_count": 503,
   "metadata": {},
   "outputs": [
    {
     "data": {
      "text/plain": [
       "array([1, 1, 1, 1, 0, 1, 1, 0, 0, 0, 1, 0, 1, 1, 0, 0, 0, 0, 0, 1, 0, 0,\n",
       "       0, 0, 0, 0, 0, 1, 1, 0, 0, 1, 0, 1, 0, 0, 1, 1, 1, 1, 0, 1, 1, 1,\n",
       "       1, 1, 0, 0, 1, 0, 0, 0, 0, 1, 1, 1, 1, 0, 0, 0, 0, 1, 0, 0, 1, 1,\n",
       "       0, 0, 1, 0, 0, 1, 1, 1, 1, 0, 1, 0, 1, 0, 0, 0, 0, 0, 0, 1, 1, 1,\n",
       "       1, 1, 1, 0, 1, 0, 0, 0, 0, 1, 1, 0, 1, 0, 0, 0, 1, 1, 1, 0, 0, 1,\n",
       "       0, 0, 1, 1, 0, 1, 0, 0, 1, 1, 0, 0, 0, 0, 1, 0, 1, 1, 0, 1, 1, 1,\n",
       "       0, 1, 1, 1, 1, 0, 0, 1, 1, 1, 1, 0, 0, 1, 1, 0, 0, 0, 1, 1, 0, 0,\n",
       "       0, 1, 0, 0, 0, 1, 0, 1, 0, 0, 0, 1, 0, 0, 1, 0, 0, 1, 1, 1, 0, 1,\n",
       "       0, 0, 0, 0, 1, 0, 0, 0, 0, 0, 0, 1, 0, 1, 1, 0, 1, 0, 1, 1, 1, 0,\n",
       "       0, 1, 0, 1, 0, 1, 1, 0, 0, 1, 1, 0, 1, 0, 1, 1, 1, 0, 1, 0, 1, 1,\n",
       "       0, 0, 0, 1, 0, 1, 0, 0, 0, 0, 0, 1, 1, 0, 1, 1, 0, 1, 0, 1, 0, 0,\n",
       "       0, 1, 0, 0, 1, 1, 0, 0, 0, 1, 0, 0, 1, 0], dtype=uint8)"
      ]
     },
     "execution_count": 503,
     "metadata": {},
     "output_type": "execute_result"
    }
   ],
   "source": [
    "code.get_message_info_bits(scl_u_est_message)"
   ]
  },
  {
   "cell_type": "code",
   "execution_count": 504,
   "metadata": {},
   "outputs": [],
   "source": [
    "class rec_dec:\n",
    "    def __init__(self, code, y_message, i, u_est, is_calc_llr, llr_array, pm=0, PM=0):\n",
    "        self.u_est = u_est\n",
    "        self.is_calc_llr = is_calc_llr\n",
    "        self.llr_array = llr_array\n",
    "        self.y_message = y_message\n",
    "        self.pm = pm #Iddooose metric\n",
    "        self.layer = i\n",
    "        self.code = code\n",
    "        self.PM = PM #paper_metric\n",
    "    \n",
    "    def split(self):\n",
    "        #Создаем 2 копии этого же instance c разными параметрами\n",
    "        u_right = self.u_est.copy()\n",
    "        u_opp = self.u_est.copy()\n",
    "        \n",
    "        self.llr = code._fast_llr(self.layer, self.y_message, self.u_est[:self.layer], self.llr_array, self.is_calc_llr) \n",
    "        \n",
    "        u_right[self.layer] = 0 if self.llr > 0 else 1\n",
    "        u_opp[self.layer] = 1 - u_right[self.layer]\n",
    "        \n",
    "        is_calc_llr_copy = self.is_calc_llr.copy()\n",
    "        llr_array_copy = self.llr_array.copy()\n",
    "        \n",
    "        pm_copy = self.pm\n",
    "        llr_copy = self.llr\n",
    "        \n",
    "        layer_copy = self.layer\n",
    "        \n",
    "        #calc 2 PM and provide them\n",
    "        PM_right = np.log(1+np.exp(-(1-2*u_right[self.layer])*self.llr))\n",
    "        new_PM_right = self.PM+PM_right\n",
    "        \n",
    "        PM_opp = np.log(1+np.exp(-(1-2*u_opp[self.layer])*self.llr)) \n",
    "        new_PM_opp = self.PM+PM_opp\n",
    "        \n",
    "        right = rec_dec(self.code, self.y_message, layer_copy+1, u_right, is_calc_llr_copy, llr_array_copy, pm_copy, new_PM_right)\n",
    "        opp = rec_dec(self.code, self.y_message, layer_copy+1, u_opp, is_calc_llr_copy, llr_array_copy, pm_copy+np.abs(llr_copy), new_PM_opp)\n",
    "        \n",
    "        return [right, opp]\n",
    "    \n",
    "    def meet_frozen(self):\n",
    "        self.llr = code._fast_llr(self.layer, self.y_message, self.u_est[:self.layer], self.llr_array, self.is_calc_llr) \n",
    "        self.u_est[self.layer] = 0\n",
    "        self.pm += np.abs(self.llr) if (self.llr < 0) else 0 \n",
    "        self.PM += np.log(1+np.exp(-(1-2*self.u_est[self.layer])*self.llr)) \n",
    "        self.layer +=1\n",
    "    \n",
    "    def get_pm(self):\n",
    "        return self.pm\n",
    "    \n",
    "    def get_PM(self):\n",
    "        return self.PM\n",
    "    \n",
    "    def get_is_calc(self):\n",
    "        return self.is_calc_llr\n",
    "    \n",
    "    def get_l(self):\n",
    "        return self.layer\n",
    "    \n",
    "    def get_u_est(self):\n",
    "        return self.u_est\n",
    "    \n",
    "    def get_llr_array(self):\n",
    "        return self.llr_array"
   ]
  },
  {
   "cell_type": "code",
   "execution_count": 505,
   "metadata": {},
   "outputs": [],
   "source": [
    "def scl_dec(code, y_message, list_size=32, train=None): #we should decide here whether to by Indooose Metric or paper's\n",
    "    u_est = np.full(code._N, -1)\n",
    "    is_calc_llr = [False] * code._N * (code._n + 1)\n",
    "    llr_array = np.full(code._N * (code._n + 1), 0.0, dtype=np.longfloat)\n",
    "    dec_array = [] # will store L decoders always\n",
    "    a = rec_dec(code, y_message, 0, u_est, is_calc_llr, llr_array)\n",
    "    dec_array.append(a)\n",
    "    M = np.zeros(code._N)\n",
    "    \n",
    "    bit_for_flip_train = None\n",
    "    \n",
    "    for i in range(code._N): #code._N\n",
    "        \n",
    "        if i in code._frozen_bits_positions:\n",
    "            for elem in dec_array:\n",
    "                 elem.meet_frozen()\n",
    "                \n",
    "        else:\n",
    "            new_arr = []\n",
    "            for elem in dec_array:\n",
    "                temp = elem.split()\n",
    "                new_arr.append(temp[0])\n",
    "                new_arr.append(temp[1])\n",
    "            dec_array = new_arr.copy()\n",
    "            \n",
    "        \n",
    "        if len(dec_array) > list_size:\n",
    "            dec_array.sort(key=lambda x: x.get_PM())\n",
    "            M[i] = np.sum([x.get_PM() for x in dec_array[list_size:]]) - np.sum([x.get_PM() for x in dec_array[:list_size]])\n",
    "            \n",
    "        else:\n",
    "            M[i] = - np.sum([x.get_PM() for x in dec_array[:list_size]])\n",
    "        \n",
    "        if len(dec_array) > list_size:      #pruning from 2L to L decoders\n",
    "            dec_array.sort(key=lambda x: x.get_PM()) # by paper (mb create new decoder parametr)\n",
    "            \n",
    "            if (train is not None) and (bit_for_flip_train is None): #should save i, if right solution among discarded\n",
    "                \n",
    "                for inst in dec_array[list_size:]:\n",
    "                    if (train[:i+1] == inst.get_u_est()[:i+1]).all():\n",
    "                        bit_for_flip_train = i      \n",
    "                \n",
    "            dec_array = dec_array[:list_size]#.copy() # delete discarded paths\n",
    "            \n",
    "    return dec_array, M, bit_for_flip_train"
   ]
  },
  {
   "cell_type": "code",
   "execution_count": 506,
   "metadata": {},
   "outputs": [
    {
     "name": "stdout",
     "output_type": "stream",
     "text": [
      "CPU times: user 2.1 s, sys: 340 ms, total: 2.44 s\n",
      "Wall time: 2.48 s\n"
     ]
    }
   ],
   "source": [
    "%%time\n",
    "c, M, bit = scl_dec(code, y_message, 32, code.extend_info_bits(u_message))"
   ]
  },
  {
   "cell_type": "code",
   "execution_count": 507,
   "metadata": {},
   "outputs": [],
   "source": [
    "bit"
   ]
  },
  {
   "cell_type": "code",
   "execution_count": 508,
   "metadata": {
    "scrolled": false
   },
   "outputs": [
    {
     "data": {
      "text/plain": [
       "[64.411665534160718764,\n",
       " 86.24502356078302849,\n",
       " 86.245023560946472596,\n",
       " 86.245023560946472596,\n",
       " 86.24502356096006824,\n",
       " 86.24502356096006824,\n",
       " 86.245023561206244904,\n",
       " 86.245023561206244904,\n",
       " 86.2450235618213306,\n",
       " 86.2450235618213306,\n",
       " 86.2450235618213306,\n",
       " 86.2450235618213306,\n",
       " 86.24502356185357986,\n",
       " 86.24502356185357986,\n",
       " 86.24502356185357986,\n",
       " 86.24502356185357986,\n",
       " 86.24502356185368173,\n",
       " 86.24502356185368173,\n",
       " 86.24502356185368173,\n",
       " 86.24502356185368173,\n",
       " 86.2450235618538343,\n",
       " 86.2450235618538343,\n",
       " 91.04959125365938632,\n",
       " 91.04959125365938632,\n",
       " 93.753857910136212526,\n",
       " 93.753857910136212526,\n",
       " 93.753857910136212526,\n",
       " 93.753857910136212526,\n",
       " 93.75385791039544681,\n",
       " 93.75385791039544681,\n",
       " 93.75385791039544681,\n",
       " 93.75385791039544681]"
      ]
     },
     "execution_count": 508,
     "metadata": {},
     "output_type": "execute_result"
    }
   ],
   "source": [
    "[x.get_PM() for x in c]"
   ]
  },
  {
   "cell_type": "code",
   "execution_count": 509,
   "metadata": {},
   "outputs": [
    {
     "data": {
      "text/plain": [
       "False"
      ]
     },
     "execution_count": 509,
     "metadata": {},
     "output_type": "execute_result"
    }
   ],
   "source": [
    "(c[0].get_llr_array() == c[1].get_llr_array()).all()"
   ]
  },
  {
   "cell_type": "code",
   "execution_count": 510,
   "metadata": {},
   "outputs": [
    {
     "name": "stdout",
     "output_type": "stream",
     "text": [
      "0\n",
      "6\n",
      "8\n",
      "8\n",
      "4\n",
      "3\n",
      "2\n",
      "4\n",
      "4\n",
      "10\n",
      "4\n",
      "4\n",
      "2\n",
      "4\n",
      "4\n",
      "9\n",
      "8\n",
      "12\n",
      "8\n",
      "20\n",
      "4\n",
      "8\n",
      "8\n",
      "6\n",
      "6\n",
      "4\n",
      "10\n",
      "8\n",
      "6\n",
      "4\n",
      "10\n",
      "8\n"
     ]
    }
   ],
   "source": [
    "for d in c:\n",
    "    print(np.abs(u_message - code.get_message_info_bits(d.get_u_est())).sum())"
   ]
  },
  {
   "cell_type": "code",
   "execution_count": 511,
   "metadata": {},
   "outputs": [
    {
     "name": "stdout",
     "output_type": "stream",
     "text": [
      "True\n",
      "False\n",
      "False\n",
      "False\n",
      "False\n",
      "False\n",
      "False\n",
      "False\n",
      "False\n",
      "False\n",
      "False\n",
      "False\n",
      "False\n",
      "False\n",
      "False\n",
      "False\n",
      "False\n",
      "False\n",
      "False\n",
      "False\n",
      "False\n",
      "False\n",
      "False\n",
      "False\n",
      "False\n",
      "False\n",
      "False\n",
      "False\n",
      "False\n",
      "False\n",
      "False\n",
      "False\n"
     ]
    }
   ],
   "source": [
    "for d in c:\n",
    "    print((code._calculate_CRC(u_message) == code._calculate_CRC(code.get_message_info_bits(d.get_u_est()))).all())"
   ]
  },
  {
   "cell_type": "code",
   "execution_count": 512,
   "metadata": {
    "scrolled": false
   },
   "outputs": [
    {
     "data": {
      "text/plain": [
       "512"
      ]
     },
     "execution_count": 512,
     "metadata": {},
     "output_type": "execute_result"
    }
   ],
   "source": [
    "len(M)"
   ]
  },
  {
   "cell_type": "code",
   "execution_count": 522,
   "metadata": {},
   "outputs": [],
   "source": [
    "a = [1,2,3]\n",
    "b = a\n",
    "a[0] = 10"
   ]
  },
  {
   "cell_type": "code",
   "execution_count": 523,
   "metadata": {},
   "outputs": [
    {
     "data": {
      "text/plain": [
       "[10, 2, 3]"
      ]
     },
     "execution_count": 523,
     "metadata": {},
     "output_type": "execute_result"
    }
   ],
   "source": [
    "a"
   ]
  },
  {
   "cell_type": "code",
   "execution_count": 524,
   "metadata": {},
   "outputs": [
    {
     "data": {
      "text/plain": [
       "[10, 2, 3]"
      ]
     },
     "execution_count": 524,
     "metadata": {},
     "output_type": "execute_result"
    }
   ],
   "source": [
    "b"
   ]
  },
  {
   "cell_type": "code",
   "execution_count": null,
   "metadata": {},
   "outputs": [],
   "source": []
  }
 ],
 "metadata": {
  "kernelspec": {
   "display_name": "Python 3",
   "language": "python",
   "name": "python3"
  },
  "language_info": {
   "codemirror_mode": {
    "name": "ipython",
    "version": 3
   },
   "file_extension": ".py",
   "mimetype": "text/x-python",
   "name": "python",
   "nbconvert_exporter": "python",
   "pygments_lexer": "ipython3",
   "version": "3.8.5"
  }
 },
 "nbformat": 4,
 "nbformat_minor": 4
}
