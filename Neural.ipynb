{
 "cells": [
  {
   "cell_type": "code",
   "execution_count": 1,
   "metadata": {
    "id": "yMIfW57cy3Ip"
   },
   "outputs": [],
   "source": [
    "import pickle\n",
    "import numpy as np\n",
    "import pandas as pd\n",
    "import torch\n",
    "import torch.nn as nn\n",
    "import torch.nn.functional as F\n"
   ]
  },
  {
   "cell_type": "code",
   "execution_count": 2,
   "metadata": {
    "id": "e6IpebRgzCi4"
   },
   "outputs": [],
   "source": [
    "class Net(nn.Module):\n",
    "\n",
    "    def __init__(self):\n",
    "        super(Net, self).__init__()\n",
    "        self.lin1 = nn.Linear(512, 256)\n",
    "        self.act1 = nn.Hardswish ()\n",
    "        self.bn1 = nn.BatchNorm1d(256, momentum=0.9999)\n",
    "\n",
    "        self.lin2 = nn.Linear(256, 128)\n",
    "        self.act2 = nn.Hardswish ()\n",
    "        self.bn2 = nn.BatchNorm1d(128, momentum=0.9999)\n",
    "\n",
    "        self.lin3 = nn.Linear(128, 64)\n",
    "        self.act3 = nn.Hardswish()\n",
    "        self.bn3 = nn.BatchNorm1d(64, momentum=0.9999)\n",
    "\n",
    "        self.lin4 = nn.Linear(64, 62)\n",
    "\n",
    "    def forward(self, x):\n",
    "        x = self.lin1(x)\n",
    "        x = self.act1(x)\n",
    "        x = self.bn1(x)\n",
    "        # x = self.drop1(x)\n",
    "\n",
    "        x = self.lin2(x)\n",
    "        x = self.act2(x)\n",
    "        x = self.bn2(x)\n",
    "        #x = self.drop2(x)\n",
    "\n",
    "        x = self.lin3(x)\n",
    "        x = self.act3(x)\n",
    "        x = self.bn3(x)\n",
    "        #x = self.drop3(x)\n",
    "\n",
    "        x = self.lin4(x)\n",
    "        return x\n"
   ]
  },
  {
   "cell_type": "code",
   "execution_count": 13,
   "metadata": {
    "id": "Tkc_-PkozG7o"
   },
   "outputs": [],
   "source": [
    "class conv(nn.Module):\n",
    "\n",
    "    def __init__(self):\n",
    "        super(conv, self).__init__()\n",
    "        self.conv1 = nn.Conv1d(1, 16, 8)\n",
    "        self.act1 = nn.Hardswish()\n",
    "        self.pool1 = nn.MaxPool1d(8, 8)\n",
    "        self.bn1 = nn.BatchNorm1d(16, momentum=0.9999)\n",
    "\n",
    "        self.conv2 = nn.Conv1d(16, 32, 8)\n",
    "        self.act2 = nn.Hardswish()\n",
    "        self.pool2 = nn.MaxPool1d(8, 8)\n",
    "        self.bn2 = nn.BatchNorm1d(32, momentum=0.9999)\n",
    "\n",
    "\n",
    "        self.lin1 = nn.Linear(224, 128)\n",
    "        self.act3 = nn.Hardswish()\n",
    "        self.bn3 = nn.BatchNorm1d(128, momentum=0.9999)\n",
    "        \n",
    "        self.lin2 = nn.Linear(128, 62)\n",
    "\n",
    "\n",
    "\n",
    "    def forward(self, x):\n",
    "        x  = self.conv1(x)\n",
    "        x = self.act1(x)\n",
    "        x = self.pool1(x)\n",
    "        x = self.bn1(x)\n",
    "\n",
    "        x = self.conv2(x)\n",
    "        x = self.act2(x)\n",
    "        x = self.pool2(x)\n",
    "        x = self.bn2(x)\n",
    "\n",
    "        x = x.view(-1, 224)\n",
    "\n",
    "        x = self.lin1(x)\n",
    "        x = self.act3(x)\n",
    "        x = self.bn3(x)\n",
    "\n",
    "        x = self.lin2(x)\n",
    "        return x"
   ]
  },
  {
   "cell_type": "code",
   "execution_count": 4,
   "metadata": {
    "colab": {
     "base_uri": "https://localhost:8080/"
    },
    "id": "U6Q3300TzLiz",
    "outputId": "7ab19888-d214-44ea-b441-839a82868fd4"
   },
   "outputs": [
    {
     "data": {
      "text/plain": [
       "Net(\n",
       "  (lin1): Linear(in_features=512, out_features=256, bias=True)\n",
       "  (act1): Hardswish()\n",
       "  (bn1): BatchNorm1d(256, eps=1e-05, momentum=0.9999, affine=True, track_running_stats=True)\n",
       "  (lin2): Linear(in_features=256, out_features=128, bias=True)\n",
       "  (act2): Hardswish()\n",
       "  (bn2): BatchNorm1d(128, eps=1e-05, momentum=0.9999, affine=True, track_running_stats=True)\n",
       "  (lin3): Linear(in_features=128, out_features=64, bias=True)\n",
       "  (act3): Hardswish()\n",
       "  (bn3): BatchNorm1d(64, eps=1e-05, momentum=0.9999, affine=True, track_running_stats=True)\n",
       "  (lin4): Linear(in_features=64, out_features=62, bias=True)\n",
       ")"
      ]
     },
     "execution_count": 4,
     "metadata": {},
     "output_type": "execute_result"
    }
   ],
   "source": [
    "model1 = Net()\n",
    "model1.load_state_dict(torch.load('polar_linear_model.pth', map_location=torch.device('cpu')))\n",
    "model1.eval()\n",
    "model1.double()"
   ]
  },
  {
   "cell_type": "code",
   "execution_count": 5,
   "metadata": {
    "colab": {
     "base_uri": "https://localhost:8080/"
    },
    "id": "F9wLUH1jzoGp",
    "outputId": "fc347dfc-53ab-4bbc-82d2-ebaf56d92eb7"
   },
   "outputs": [
    {
     "data": {
      "text/plain": [
       "conv(\n",
       "  (conv1): Conv1d(1, 16, kernel_size=(8,), stride=(1,))\n",
       "  (act1): Hardswish()\n",
       "  (pool1): MaxPool1d(kernel_size=8, stride=8, padding=0, dilation=1, ceil_mode=False)\n",
       "  (bn1): BatchNorm1d(16, eps=1e-05, momentum=0.9999, affine=True, track_running_stats=True)\n",
       "  (conv2): Conv1d(16, 32, kernel_size=(8,), stride=(1,))\n",
       "  (act2): Hardswish()\n",
       "  (pool2): MaxPool1d(kernel_size=8, stride=8, padding=0, dilation=1, ceil_mode=False)\n",
       "  (bn2): BatchNorm1d(32, eps=1e-05, momentum=0.9999, affine=True, track_running_stats=True)\n",
       "  (lin1): Linear(in_features=224, out_features=128, bias=True)\n",
       "  (act3): Hardswish()\n",
       "  (bn3): BatchNorm1d(128, eps=1e-05, momentum=0.9999, affine=True, track_running_stats=True)\n",
       "  (lin2): Linear(in_features=128, out_features=62, bias=True)\n",
       ")"
      ]
     },
     "execution_count": 5,
     "metadata": {},
     "output_type": "execute_result"
    }
   ],
   "source": [
    "model2 = conv()\n",
    "model2.load_state_dict(torch.load('polar_conv.pth', map_location=torch.device('cpu')))\n",
    "model2.eval()\n",
    "model2.double()"
   ]
  },
  {
   "cell_type": "code",
   "execution_count": 7,
   "metadata": {
    "id": "NgmTsY420cC8"
   },
   "outputs": [],
   "source": [
    "X = np.zeros(512)"
   ]
  },
  {
   "cell_type": "code",
   "execution_count": 8,
   "metadata": {
    "id": "EJdwoJ0f8b3-"
   },
   "outputs": [],
   "source": [
    "def predict(model, X, conv=False):\n",
    "    X = X.copy()\n",
    "    classes = [121, 111, 118, 119, 159, 179, 122, 171, 117, 174, 124, 123, 203,\n",
    "             158, 173, 216, 206, 181, 185, 188, 225, 182, 211, 232, 205, 286,\n",
    "             186, 199, 212, 228, 285, 312, 240, 226, 283, 295, 213, 306, 301,\n",
    "             299, 279, 329, 307, 337, 354, 330, 308, 332, 327, 387, 393, 353,\n",
    "             338, 394, 390, 302, 389, 344, 340, 396, 416, 448]\n",
    "    with torch.no_grad():\n",
    "        X = (X+45.175924783430474)/757.9691984444514\n",
    "        X = torch.tensor(X).double().unsqueeze(0)\n",
    "        if conv:\n",
    "            X = X.unsqueeze(1)\n",
    "        pred = model(X).numpy()\n",
    "        pred = list(np.argsort(pred)[0, -20:])[::-1]\n",
    "        bits = []\n",
    "    for i in range(len(pred)):\n",
    "        bits.append(classes[pred[i]])\n",
    "    return bits"
   ]
  },
  {
   "cell_type": "code",
   "execution_count": 9,
   "metadata": {
    "colab": {
     "base_uri": "https://localhost:8080/"
    },
    "id": "toMfJMTs9hQz",
    "outputId": "ba76d2ae-614e-4d18-86a4-36b3a4aee6a2"
   },
   "outputs": [
    {
     "data": {
      "text/plain": [
       "[396,\n",
       " 123,\n",
       " 344,\n",
       " 393,\n",
       " 327,\n",
       " 394,\n",
       " 307,\n",
       " 353,\n",
       " 188,\n",
       " 302,\n",
       " 240,\n",
       " 213,\n",
       " 390,\n",
       " 211,\n",
       " 206,\n",
       " 354,\n",
       " 448,\n",
       " 389,\n",
       " 387,\n",
       " 340]"
      ]
     },
     "execution_count": 9,
     "metadata": {},
     "output_type": "execute_result"
    }
   ],
   "source": [
    "predict(model2, X, True)"
   ]
  },
  {
   "cell_type": "code",
   "execution_count": 10,
   "metadata": {
    "colab": {
     "base_uri": "https://localhost:8080/"
    },
    "id": "zICMNUMNB-GP",
    "outputId": "9ead8941-70d8-423d-9dc8-c82926436718"
   },
   "outputs": [
    {
     "data": {
      "text/plain": [
       "[387,\n",
       " 390,\n",
       " 394,\n",
       " 389,\n",
       " 393,\n",
       " 416,\n",
       " 448,\n",
       " 295,\n",
       " 396,\n",
       " 330,\n",
       " 337,\n",
       " 308,\n",
       " 353,\n",
       " 306,\n",
       " 279,\n",
       " 329,\n",
       " 338,\n",
       " 182,\n",
       " 283,\n",
       " 286]"
      ]
     },
     "execution_count": 10,
     "metadata": {},
     "output_type": "execute_result"
    }
   ],
   "source": [
    "predict(model1, X)"
   ]
  },
  {
   "cell_type": "markdown",
   "metadata": {},
   "source": [
    "1. BLER по ebN0 для обычного и моделек (по 10k)"
   ]
  }
 ],
 "metadata": {
  "colab": {
   "name": "Untitled20.ipynb",
   "provenance": []
  },
  "kernelspec": {
   "display_name": "Python 3",
   "language": "python",
   "name": "python3"
  },
  "language_info": {
   "codemirror_mode": {
    "name": "ipython",
    "version": 3
   },
   "file_extension": ".py",
   "mimetype": "text/x-python",
   "name": "python",
   "nbconvert_exporter": "python",
   "pygments_lexer": "ipython3",
   "version": "3.8.5"
  }
 },
 "nbformat": 4,
 "nbformat_minor": 1
}
