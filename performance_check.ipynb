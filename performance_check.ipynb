{
 "cells": [
  {
   "cell_type": "code",
   "execution_count": 1,
   "metadata": {},
   "outputs": [],
   "source": [
    "from polar_codes.polar_code import PolarCode\n",
    "from polar_codes.channels.bpsk_awgn_channel import BpskAwgnChannel\n",
    "import numpy as np\n",
    "from joblib import Parallel, delayed\n",
    "from multiprocessing import cpu_count\n",
    "from tqdm import tqdm\n",
    "import pickle\n",
    "import pandas as pd\n",
    "import torch\n",
    "import torch.nn as nn\n",
    "import torch.nn.functional as F"
   ]
  },
  {
   "cell_type": "code",
   "execution_count": 2,
   "metadata": {},
   "outputs": [],
   "source": [
    "class Net(nn.Module):\n",
    "\n",
    "    def __init__(self):\n",
    "        super(Net, self).__init__()\n",
    "        self.lin1 = nn.Linear(512, 256)\n",
    "        self.act1 = nn.Hardswish ()\n",
    "        self.bn1 = nn.BatchNorm1d(256, momentum=0.9999)\n",
    "\n",
    "        self.lin2 = nn.Linear(256, 128)\n",
    "        self.act2 = nn.Hardswish ()\n",
    "        self.bn2 = nn.BatchNorm1d(128, momentum=0.9999)\n",
    "\n",
    "        self.lin3 = nn.Linear(128, 64)\n",
    "        self.act3 = nn.Hardswish()\n",
    "        self.bn3 = nn.BatchNorm1d(64, momentum=0.9999)\n",
    "\n",
    "        self.lin4 = nn.Linear(64, 62)\n",
    "\n",
    "    def forward(self, x):\n",
    "        x = self.lin1(x)\n",
    "        x = self.act1(x)\n",
    "        x = self.bn1(x)\n",
    "        # x = self.drop1(x)\n",
    "\n",
    "        x = self.lin2(x)\n",
    "        x = self.act2(x)\n",
    "        x = self.bn2(x)\n",
    "        #x = self.drop2(x)\n",
    "\n",
    "        x = self.lin3(x)\n",
    "        x = self.act3(x)\n",
    "        x = self.bn3(x)\n",
    "        #x = self.drop3(x)\n",
    "\n",
    "        x = self.lin4(x)\n",
    "        return x\n",
    "\n"
   ]
  },
  {
   "cell_type": "code",
   "execution_count": 3,
   "metadata": {},
   "outputs": [],
   "source": [
    "class conv(nn.Module):\n",
    "\n",
    "    def __init__(self):\n",
    "        super(conv, self).__init__()\n",
    "        self.conv1 = nn.Conv1d(1, 16, 8)\n",
    "        self.act1 = nn.Hardswish()\n",
    "        self.pool1 = nn.MaxPool1d(8, 8)\n",
    "        self.bn1 = nn.BatchNorm1d(16, momentum=0.9999)\n",
    "\n",
    "        self.conv2 = nn.Conv1d(16, 32, 8)\n",
    "        self.act2 = nn.Hardswish()\n",
    "        self.pool2 = nn.MaxPool1d(8, 8)\n",
    "        self.bn2 = nn.BatchNorm1d(32, momentum=0.9999)\n",
    "\n",
    "\n",
    "        self.lin1 = nn.Linear(224, 128)\n",
    "        self.act3 = nn.Hardswish()\n",
    "        self.bn3 = nn.BatchNorm1d(128, momentum=0.9999)\n",
    "        \n",
    "        self.lin2 = nn.Linear(128, 62)\n",
    "\n",
    "\n",
    "\n",
    "    def forward(self, x):\n",
    "        x  = self.conv1(x)\n",
    "        x = self.act1(x)\n",
    "        x = self.pool1(x)\n",
    "        x = self.bn1(x)\n",
    "\n",
    "        x = self.conv2(x)\n",
    "        x = self.act2(x)\n",
    "        x = self.pool2(x)\n",
    "        x = self.bn2(x)\n",
    "\n",
    "        x = x.view(-1, 224)\n",
    "\n",
    "        x = self.lin1(x)\n",
    "        x = self.act3(x)\n",
    "        x = self.bn3(x)\n",
    "\n",
    "        x = self.lin2(x)\n",
    "        return x"
   ]
  },
  {
   "cell_type": "code",
   "execution_count": 4,
   "metadata": {},
   "outputs": [
    {
     "data": {
      "text/plain": [
       "Net(\n",
       "  (lin1): Linear(in_features=512, out_features=256, bias=True)\n",
       "  (act1): Hardswish()\n",
       "  (bn1): BatchNorm1d(256, eps=1e-05, momentum=0.9999, affine=True, track_running_stats=True)\n",
       "  (lin2): Linear(in_features=256, out_features=128, bias=True)\n",
       "  (act2): Hardswish()\n",
       "  (bn2): BatchNorm1d(128, eps=1e-05, momentum=0.9999, affine=True, track_running_stats=True)\n",
       "  (lin3): Linear(in_features=128, out_features=64, bias=True)\n",
       "  (act3): Hardswish()\n",
       "  (bn3): BatchNorm1d(64, eps=1e-05, momentum=0.9999, affine=True, track_running_stats=True)\n",
       "  (lin4): Linear(in_features=64, out_features=62, bias=True)\n",
       ")"
      ]
     },
     "execution_count": 4,
     "metadata": {},
     "output_type": "execute_result"
    }
   ],
   "source": [
    "model1 = Net()\n",
    "model1.load_state_dict(torch.load('polar_linear_model.pth', map_location=torch.device('cpu')))\n",
    "model1.eval()\n",
    "model1.double()"
   ]
  },
  {
   "cell_type": "code",
   "execution_count": 5,
   "metadata": {},
   "outputs": [
    {
     "data": {
      "text/plain": [
       "conv(\n",
       "  (conv1): Conv1d(1, 16, kernel_size=(8,), stride=(1,))\n",
       "  (act1): Hardswish()\n",
       "  (pool1): MaxPool1d(kernel_size=8, stride=8, padding=0, dilation=1, ceil_mode=False)\n",
       "  (bn1): BatchNorm1d(16, eps=1e-05, momentum=0.9999, affine=True, track_running_stats=True)\n",
       "  (conv2): Conv1d(16, 32, kernel_size=(8,), stride=(1,))\n",
       "  (act2): Hardswish()\n",
       "  (pool2): MaxPool1d(kernel_size=8, stride=8, padding=0, dilation=1, ceil_mode=False)\n",
       "  (bn2): BatchNorm1d(32, eps=1e-05, momentum=0.9999, affine=True, track_running_stats=True)\n",
       "  (lin1): Linear(in_features=224, out_features=128, bias=True)\n",
       "  (act3): Hardswish()\n",
       "  (bn3): BatchNorm1d(128, eps=1e-05, momentum=0.9999, affine=True, track_running_stats=True)\n",
       "  (lin2): Linear(in_features=128, out_features=62, bias=True)\n",
       ")"
      ]
     },
     "execution_count": 5,
     "metadata": {},
     "output_type": "execute_result"
    }
   ],
   "source": [
    "model2 = conv()\n",
    "model2.load_state_dict(torch.load('polar_conv.pth', map_location=torch.device('cpu')))\n",
    "model2.eval()\n",
    "model2.double()"
   ]
  },
  {
   "cell_type": "code",
   "execution_count": 6,
   "metadata": {},
   "outputs": [],
   "source": [
    "def predict(model, X, conv=False):\n",
    "    X = X.copy()\n",
    "    classes = [121, 111, 118, 119, 159, 179, 122, 171, 117, 174, 124, 123, 203,\n",
    "             158, 173, 216, 206, 181, 185, 188, 225, 182, 211, 232, 205, 286,\n",
    "             186, 199, 212, 228, 285, 312, 240, 226, 283, 295, 213, 306, 301,\n",
    "             299, 279, 329, 307, 337, 354, 330, 308, 332, 327, 387, 393, 353,\n",
    "             338, 394, 390, 302, 389, 344, 340, 396, 416, 448]\n",
    "    with torch.no_grad():\n",
    "        X = (X+45.175924783430474)/757.9691984444514\n",
    "        X = torch.tensor(X).double().unsqueeze(0)\n",
    "        if conv:\n",
    "            X = X.unsqueeze(1)\n",
    "        pred = model(X).numpy()\n",
    "        pred = list(np.argsort(pred)[0, -20:])[::-1]\n",
    "        bits = []\n",
    "    for i in range(len(pred)):\n",
    "        bits.append(classes[pred[i]])\n",
    "    return bits"
   ]
  },
  {
   "cell_type": "code",
   "execution_count": 7,
   "metadata": {},
   "outputs": [],
   "source": [
    "class rec_dec:\n",
    "    def __init__(self, code, y_message, i, u_est, is_calc_llr, llr_array, pm=0, PM=0):\n",
    "        self.u_est = u_est\n",
    "        self.is_calc_llr = is_calc_llr\n",
    "        self.llr_array = llr_array\n",
    "        self.y_message = y_message\n",
    "        self.pm = pm #Iddooose metric\n",
    "        self.layer = i\n",
    "        self.code = code\n",
    "        self.PM = PM #paper_metric\n",
    "    \n",
    "    def split(self):\n",
    "        #Создаем 2 копии этого же instance c разными параметрами\n",
    "        u_right = self.u_est.copy()\n",
    "        u_opp = self.u_est.copy()\n",
    "        \n",
    "        self.llr = self.code._fast_llr(self.layer, self.y_message, self.u_est[:self.layer], self.llr_array, self.is_calc_llr) \n",
    "        \n",
    "        u_right[self.layer] = 0 if self.llr > 0 else 1\n",
    "        u_opp[self.layer] = 1 - u_right[self.layer]\n",
    "        \n",
    "        pm_copy_r = self.pm\n",
    "        pm_copy_opp = self.pm\n",
    "        llr_copy = self.llr\n",
    "        \n",
    "        layer_copy = self.layer\n",
    "        \n",
    "        #calc 2 PM and provide them\n",
    "        PM_right = np.log(1+np.exp(-(1-2*u_right[self.layer])*self.llr))\n",
    "        new_PM_right = self.PM+PM_right\n",
    "        \n",
    "        PM_opp = np.log(1+np.exp(-(1-2*u_opp[self.layer])*self.llr)) \n",
    "        new_PM_opp = self.PM+PM_opp\n",
    "        \n",
    "        right = rec_dec(self.code, self.y_message, layer_copy+1, u_right, self.is_calc_llr.copy(), self.llr_array.copy(), pm_copy_r, new_PM_right)\n",
    "        opp = rec_dec(self.code, self.y_message, layer_copy+1, u_opp, self.is_calc_llr.copy(), self.llr_array.copy(), pm_copy_opp+np.abs(llr_copy), new_PM_opp)\n",
    "        \n",
    "        return [right, opp]\n",
    "    \n",
    "    def meet_frozen(self):\n",
    "        self.llr = self.code._fast_llr(self.layer, self.y_message, self.u_est[:self.layer], self.llr_array, self.is_calc_llr) \n",
    "        self.u_est[self.layer] = 0\n",
    "        self.pm += np.abs(self.llr) if (self.llr < 0) else 0 \n",
    "        self.PM += np.log(1+np.exp(-(1-2*self.u_est[self.layer])*self.llr)) \n",
    "        self.layer +=1\n",
    "    \n",
    "    def get_pm(self):\n",
    "        return self.pm\n",
    "    \n",
    "    def get_PM(self):\n",
    "        return self.PM\n",
    "    \n",
    "    def get_is_calc(self):\n",
    "        return self.is_calc_llr\n",
    "    \n",
    "    def get_l(self):\n",
    "        return self.layer\n",
    "    \n",
    "    def get_u_est(self):\n",
    "        return self.u_est\n",
    "    \n",
    "    def get_llr_array(self):\n",
    "        return self.llr_array"
   ]
  },
  {
   "cell_type": "code",
   "execution_count": 8,
   "metadata": {},
   "outputs": [],
   "source": [
    "def scl_dec(code, y_message, list_size=32, train=None): #we should decide here whether to by Indooose Metric or paper's\n",
    "    u_est = np.full(code._N, -1)\n",
    "    is_calc_llr = [False] * code._N * (code._n + 1)\n",
    "    llr_array = np.full(code._N * (code._n + 1), 0.0, dtype=np.longfloat)\n",
    "    dec_array = [] # will store L decoders always\n",
    "    a = rec_dec(code, y_message, 0, u_est, is_calc_llr, llr_array)\n",
    "    dec_array.append(a)\n",
    "    M = np.zeros(code._N)\n",
    "    \n",
    "    bit_for_flip_train = None\n",
    "    \n",
    "    for i in range(code._N): #code._N\n",
    "        \n",
    "        if i in code._frozen_bits_positions:\n",
    "            for elem in dec_array:\n",
    "                 elem.meet_frozen()\n",
    "                \n",
    "        else:\n",
    "            new_arr = []\n",
    "            for elem in dec_array:\n",
    "                temp = elem.split()\n",
    "                new_arr.append(temp[0])\n",
    "                new_arr.append(temp[1])\n",
    "            dec_array = new_arr\n",
    "            \n",
    "        \n",
    "        if len(dec_array) > list_size:\n",
    "            dec_array.sort(key=lambda x: x.get_PM())\n",
    "            M[i] = np.sum([x.get_PM() for x in dec_array[list_size:]]) - np.sum([x.get_PM() for x in dec_array[:list_size]])\n",
    "            \n",
    "        else:\n",
    "            M[i] = - np.sum([x.get_PM() for x in dec_array[:list_size]])\n",
    "        \n",
    "        if len(dec_array) > list_size:      #pruning from 2L to L decoders\n",
    "            dec_array.sort(key=lambda x: x.get_PM()) # by paper (mb create new decoder parametr)\n",
    "            \n",
    "            if (train is not None) and (bit_for_flip_train is None): #should save i, if right solution among discarded\n",
    "                \n",
    "                for inst in dec_array[list_size:]:\n",
    "                    if (train[:i+1] == inst.get_u_est()[:i+1]).all():\n",
    "                        bit_for_flip_train = i      \n",
    "                \n",
    "            dec_array = dec_array[:list_size] # delete discarded paths\n",
    "            \n",
    "    return M, bit_for_flip_train, dec_array"
   ]
  },
  {
   "cell_type": "code",
   "execution_count": 9,
   "metadata": {},
   "outputs": [],
   "source": [
    "def scl_dec_forced(code, y_message, list_size=32, flipped_bit=None): #we should decide here whether to by Indooose Metric or paper's\n",
    "    u_est = np.full(code._N, -1)\n",
    "    is_calc_llr = [False] * code._N * (code._n + 1)\n",
    "    llr_array = np.full(code._N * (code._n + 1), 0.0, dtype=np.longfloat)\n",
    "    dec_array = [] # will store L decoders always\n",
    "    a = rec_dec(code, y_message, 0, u_est, is_calc_llr, llr_array)\n",
    "    dec_array.append(a)\n",
    "#    M = np.zeros(code._N)\n",
    "    \n",
    "#    bit_for_flip_train = None\n",
    "    \n",
    "    for i in range(code._N): #code._N\n",
    "        \n",
    "        if i in code._frozen_bits_positions:\n",
    "            for elem in dec_array:\n",
    "                 elem.meet_frozen()\n",
    "                \n",
    "        else:\n",
    "            new_arr = []\n",
    "            for elem in dec_array:\n",
    "                temp = elem.split()\n",
    "                new_arr.append(temp[0])\n",
    "                new_arr.append(temp[1])\n",
    "            dec_array = new_arr\n",
    "            \n",
    "        \n",
    "        if len(dec_array) > list_size:      #pruning from 2L to L decoders\n",
    "            dec_array.sort(key=lambda x: x.get_PM()) # by paper (mb create new decoder parametr)\n",
    "            dec_array = dec_array[:list_size] if i != flipped_bit else dec_array[list_size:] # delete discarded paths\n",
    "            \n",
    "    return dec_array"
   ]
  },
  {
   "cell_type": "code",
   "execution_count": 10,
   "metadata": {},
   "outputs": [],
   "source": [
    "R = 280 / 512\n",
    "ebnodb = np.arange(0, 2.5, 0.5)"
   ]
  },
  {
   "cell_type": "markdown",
   "metadata": {},
   "source": [
    "## Model general performance check"
   ]
  },
  {
   "cell_type": "code",
   "execution_count": 11,
   "metadata": {},
   "outputs": [],
   "source": [
    "def check_models(sinrdb_i):\n",
    "    channel = BpskAwgnChannel(sinrdb_i)\n",
    "    n = 9\n",
    "    K = 256\n",
    "    code = PolarCode(n=n, K=K,\n",
    "                     construction_method='PW',\n",
    "                     channel=channel, CRC_len=24)\n",
    "\n",
    "    u_message = np.asarray([0 if np.random.random_sample() > 0.5 else 1 for _ in range(0, K)], dtype='uint8') # x100\n",
    "    x_message = code.encode(u_message)\n",
    "    to_message = channel.modulate(x_message)\n",
    "    from_message = channel.transmit(to_message)\n",
    "    y_message = channel.demodulate(from_message)\n",
    "    M, bit, C = scl_dec(code, y_message, 8, code.extend_info_bits(u_message))\n",
    "    before = [np.abs(u_message - code.get_message_info_bits(d.get_u_est())).sum() for d in C]\n",
    "    pos_in_lin_set = -1\n",
    "    pos_in_conv_set = -1\n",
    "    is_managed = False\n",
    "    \n",
    "    #проверяем сходимость CRC ~ наличие бита\n",
    "    if (bit is not None): #если есть то прогоняем обе модели\n",
    "        lin_set = predict(model1, M)\n",
    "        conv_set = predict(model2, M, True)\n",
    "        \n",
    "        #записываем в листы есть в ли в предсказанном наборе бит\n",
    "        is_in_lin_set = bit in lin_set\n",
    "        is_in_conv_set = bit in conv_set\n",
    "        #и позиции\n",
    "        pos_in_lin_set = lin_set.index(bit) if is_in_lin_set else -1\n",
    "        pos_in_conv_set = conv_set.index(bit) if is_in_conv_set else -1\n",
    "        # если есть то пробуем декодировать с заменой и записываем сошлось ли теперь CRC\n",
    "        if (is_in_lin_set or is_in_conv_set):\n",
    "            decoders = scl_dec_forced(code, y_message, list_size=8, flipped_bit=bit)\n",
    "            #проверяем на ошибки\n",
    "            \n",
    "            is_managed = [np.abs(u_message - code.get_message_info_bits(d.get_u_est())).sum() for d in decoders]\n",
    "#! добавить CRC \n",
    "\n",
    "        return pos_in_lin_set, pos_in_conv_set, is_managed, before"
   ]
  },
  {
   "cell_type": "code",
   "execution_count": 11,
   "metadata": {},
   "outputs": [],
   "source": [
    "def check_models(sinrdb_i):\n",
    "    channel = BpskAwgnChannel(sinrdb_i)\n",
    "    n = 9\n",
    "    K = 256\n",
    "    code = PolarCode(n=n, K=K,\n",
    "                     construction_method='PW',\n",
    "                     channel=channel, CRC_len=24)\n",
    "\n",
    "    u_message = np.asarray([0 if np.random.random_sample() > 0.5 else 1 for _ in range(0, K)], dtype='uint8') # x100\n",
    "    x_message = code.encode(u_message)\n",
    "    to_message = channel.modulate(x_message)\n",
    "    from_message = channel.transmit(to_message)\n",
    "    y_message = channel.demodulate(from_message)\n",
    "    M, bit, C = scl_dec(code, y_message, 8, code.extend_info_bits(u_message))\n",
    "    before = [np.abs(u_message - code.get_message_info_bits(d.get_u_est())).sum() for d in C]\n",
    "    pos_in_lin_set = -1\n",
    "    pos_in_conv_set = -1\n",
    "    is_managed = False\n",
    "    \n",
    "    #проверяем сходимость CRC ~ наличие бита\n",
    "    if (bit is not None): #если есть то прогоняем обе модели\n",
    "        lin_set = predict(model1, M)\n",
    "        conv_set = predict(model2, M, True)\n",
    "        \n",
    "        #записываем в листы есть в ли в предсказанном наборе бит\n",
    "        is_in_lin_set = bit in lin_set\n",
    "        is_in_conv_set = bit in conv_set\n",
    "        #и позиции\n",
    "        pos_in_lin_set = lin_set.index(bit) if is_in_lin_set else -1\n",
    "        pos_in_conv_set = conv_set.index(bit) if is_in_conv_set else -1\n",
    "        # если есть то пробуем декодировать с заменой и записываем сошлось ли теперь CRC\n",
    "        if (is_in_lin_set or is_in_conv_set):\n",
    "            decoders = scl_dec_forced(code, y_message, list_size=8, flipped_bit=bit)\n",
    "            #проверяем на ошибки\n",
    "            \n",
    "            is_managed = [np.abs(u_message - code.get_message_info_bits(d.get_u_est())).sum() for d in decoders]\n",
    "#! добавить CRC \n",
    "\n",
    "        return pos_in_lin_set, pos_in_conv_set, is_managed, before"
   ]
  },
  {
   "cell_type": "code",
   "execution_count": 18,
   "metadata": {},
   "outputs": [],
   "source": [
    "def BLER(i):\n",
    "    channel = BpskAwgnChannel(i)\n",
    "    n = 9\n",
    "    K = 256\n",
    "    code = PolarCode(n=n, K=K,\n",
    "                     construction_method='PW',\n",
    "                     channel=channel, CRC_len=24)\n",
    "\n",
    "    u_message = np.asarray([0 if np.random.random_sample() > 0.5 else 1 for _ in range(0, K)], dtype='uint8') # x100\n",
    "    x_message = code.encode(u_message)\n",
    "    to_message = channel.modulate(x_message)\n",
    "    from_message = channel.transmit(to_message)\n",
    "    y_message = channel.demodulate(from_message)\n",
    "#    C = scl_dec_forced(code, y_message, 16)\n",
    "    C1 = code._scl_decode(y_message, L=16)\n",
    "#    yeap = 0 in [np.abs(u_message - code.get_message_info_bits(d.get_u_est())).sum() for d in C]\n",
    "    \n",
    "    return C1 is None"
   ]
  },
  {
   "cell_type": "code",
   "execution_count": 25,
   "metadata": {},
   "outputs": [
    {
     "name": "stdout",
     "output_type": "stream",
     "text": [
      "CPU times: user 627 ms, sys: 6.04 ms, total: 634 ms\n",
      "Wall time: 637 ms\n"
     ]
    },
    {
     "data": {
      "text/plain": [
       "False"
      ]
     },
     "execution_count": 25,
     "metadata": {},
     "output_type": "execute_result"
    }
   ],
   "source": [
    "%%time\n",
    "BLER(1)"
   ]
  },
  {
   "cell_type": "code",
   "execution_count": 13,
   "metadata": {},
   "outputs": [
    {
     "data": {
      "text/plain": [
       "array([0. , 0.5, 1. , 1.5, 2. ])"
      ]
     },
     "execution_count": 13,
     "metadata": {},
     "output_type": "execute_result"
    }
   ],
   "source": [
    "ebnodb"
   ]
  },
  {
   "cell_type": "code",
   "execution_count": 14,
   "metadata": {},
   "outputs": [
    {
     "data": {
      "text/plain": [
       "array([-0.38918066,  0.11081934,  0.61081934,  1.11081934,  1.61081934])"
      ]
     },
     "execution_count": 14,
     "metadata": {},
     "output_type": "execute_result"
    }
   ],
   "source": [
    "sinrdb = ebnodb + 10*np.log10(512/280) -10*np.log10(2)\n",
    "sinrdb"
   ]
  },
  {
   "cell_type": "code",
   "execution_count": 15,
   "metadata": {},
   "outputs": [],
   "source": [
    "iters = [500, 1000, 2000, 5000, 5000]"
   ]
  },
  {
   "cell_type": "markdown",
   "metadata": {},
   "source": [
    "## BLER calculation"
   ]
  },
  {
   "cell_type": "code",
   "execution_count": 37,
   "metadata": {},
   "outputs": [
    {
     "name": "stderr",
     "output_type": "stream",
     "text": [
      "\n",
      "  0%|          | 0/100 [00:00<?, ?it/s]\u001b[A\n",
      "  4%|▍         | 4/100 [00:00<00:03, 29.05it/s]\u001b[A\n",
      "  8%|▊         | 8/100 [00:02<00:21,  4.23it/s]\u001b[A\n",
      " 12%|█▏        | 12/100 [00:04<00:26,  3.33it/s]\u001b[A\n",
      " 16%|█▌        | 16/100 [00:06<00:25,  3.28it/s]\u001b[A\n",
      " 20%|██        | 20/100 [00:07<00:24,  3.25it/s]\u001b[A\n",
      " 24%|██▍       | 24/100 [00:08<00:23,  3.23it/s]\u001b[A\n",
      " 28%|██▊       | 28/100 [00:09<00:22,  3.23it/s]\u001b[A\n",
      " 32%|███▏      | 32/100 [00:11<00:21,  3.19it/s]\u001b[A\n",
      " 36%|███▌      | 36/100 [00:12<00:20,  3.15it/s]\u001b[A\n",
      " 40%|████      | 40/100 [00:13<00:20,  3.00it/s]\u001b[A\n",
      " 44%|████▍     | 44/100 [00:15<00:19,  2.89it/s]\u001b[A\n",
      " 48%|████▊     | 48/100 [00:16<00:17,  2.93it/s]\u001b[A\n",
      " 52%|█████▏    | 52/100 [00:18<00:16,  2.84it/s]\u001b[A\n",
      " 56%|█████▌    | 56/100 [00:19<00:15,  2.75it/s]\u001b[A\n",
      " 60%|██████    | 60/100 [00:22<00:18,  2.21it/s]\u001b[A\n",
      " 64%|██████▍   | 64/100 [00:24<00:16,  2.14it/s]\u001b[A\n",
      " 68%|██████▊   | 68/100 [00:26<00:15,  2.07it/s]\u001b[A\n",
      " 72%|███████▏  | 72/100 [00:28<00:13,  2.01it/s]\u001b[A\n",
      " 76%|███████▌  | 76/100 [00:30<00:12,  1.95it/s]\u001b[A\n",
      " 80%|████████  | 80/100 [00:32<00:10,  1.96it/s]\u001b[A\n",
      " 84%|████████▍ | 84/100 [00:34<00:08,  1.99it/s]\u001b[A\n",
      " 88%|████████▊ | 88/100 [00:36<00:06,  1.95it/s]\u001b[A\n",
      " 92%|█████████▏| 92/100 [00:38<00:04,  1.98it/s]\u001b[A\n",
      " 96%|█████████▌| 96/100 [00:41<00:02,  1.84it/s]\u001b[A\n",
      "100%|██████████| 100/100 [00:43<00:00,  2.30it/s]\u001b[A\n"
     ]
    },
    {
     "name": "stdout",
     "output_type": "stream",
     "text": [
      "CPU times: user 269 ms, sys: 86.5 ms, total: 355 ms\n",
      "Wall time: 46.2 s\n"
     ]
    }
   ],
   "source": [
    "%%time\n",
    "data = []\n",
    "iters = [500, 1000, 2000, 5000, 5000]\n",
    "for sinr, it in zip(sinrdb, iters):\n",
    "    data.append(Parallel(n_jobs=cpu_count())(delayed(BLER)(sinr) for _ in tqdm(range(iters))))"
   ]
  },
  {
   "cell_type": "code",
   "execution_count": 40,
   "metadata": {},
   "outputs": [
    {
     "data": {
      "text/plain": [
       "0.54"
      ]
     },
     "execution_count": 40,
     "metadata": {},
     "output_type": "execute_result"
    }
   ],
   "source": [
    "sum(np.array(data)) / 100 # при 0.6211193"
   ]
  },
  {
   "cell_type": "code",
   "execution_count": 41,
   "metadata": {},
   "outputs": [],
   "source": [
    "a = [0.54, 0.14, 0.04, 0.008]"
   ]
  },
  {
   "cell_type": "code",
   "execution_count": 17,
   "metadata": {},
   "outputs": [
    {
     "name": "stdout",
     "output_type": "stream",
     "text": [
      "500 -0.38918066030369713\n",
      "1000 0.11081933969630287\n",
      "2000 0.6108193396963029\n",
      "5000 1.1108193396963029\n",
      "5000 1.6108193396963029\n"
     ]
    }
   ],
   "source": [
    "for i, j in (zip(iters, sinrdb)):\n",
    "    print(i, j)"
   ]
  },
  {
   "cell_type": "code",
   "execution_count": 42,
   "metadata": {},
   "outputs": [
    {
     "data": {
      "image/png": "[encoded data removed]",
      "text/plain": [
       "<Figure size 432x288 with 1 Axes>"
      ]
     },
     "metadata": {
      "needs_background": "light"
     },
     "output_type": "display_data"
    }
   ],
   "source": [
    "from matplotlib import pyplot as plt\n",
    "plt.plot([0, 0.5, 1, 1.5], a)\n",
    "plt.yscale('log')"
   ]
  },
  {
   "cell_type": "code",
   "execution_count": 70,
   "metadata": {},
   "outputs": [
    {
     "data": {
      "text/plain": [
       "array([1.        , 0.94406088, 0.89125094, 0.84139514, 0.79432823])"
      ]
     },
     "execution_count": 70,
     "metadata": {},
     "output_type": "execute_result"
    }
   ],
   "source": [
    "EbNo_db = np.arange(0, 2.5, 0.5)\n",
    "noiseVar = 10**(-EbNo_db/10)\n",
    "np.sqrt(noiseVar)"
   ]
  },
  {
   "cell_type": "code",
   "execution_count": null,
   "metadata": {},
   "outputs": [],
   "source": [
    "noise_std = 1 / np.sqrt(2 * self._SINR)"
   ]
  },
  {
   "cell_type": "code",
   "execution_count": 71,
   "metadata": {},
   "outputs": [
    {
     "data": {
      "text/plain": [
       "array([0.  , 0.25, 0.5 , 0.75, 1.  ])"
      ]
     },
     "execution_count": 71,
     "metadata": {},
     "output_type": "execute_result"
    }
   ],
   "source": [
    "EbNo_db = np.arange(0, 2.5, 0.5)\n",
    "sinr_db = EbNo_db / 2\n",
    "sinr_db"
   ]
  },
  {
   "cell_type": "code",
   "execution_count": null,
   "metadata": {},
   "outputs": [],
   "source": []
  }
 ],
 "metadata": {
  "kernelspec": {
   "display_name": "Python 3",
   "language": "python",
   "name": "python3"
  },
  "language_info": {
   "codemirror_mode": {
    "name": "ipython",
    "version": 3
   },
   "file_extension": ".py",
   "mimetype": "text/x-python",
   "name": "python",
   "nbconvert_exporter": "python",
   "pygments_lexer": "ipython3",
   "version": "3.8.5"
  }
 },
 "nbformat": 4,
 "nbformat_minor": 4
}
