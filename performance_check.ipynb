{
 "cells": [
  {
   "cell_type": "code",
   "execution_count": 40,
   "metadata": {},
   "outputs": [],
   "source": [
    "from polar_codes.polar_code import PolarCode\n",
    "from polar_codes.channels.bpsk_awgn_channel import BpskAwgnChannel\n",
    "import numpy as np\n",
    "from joblib import Parallel, delayed\n",
    "from multiprocessing import cpu_count\n",
    "from tqdm import tqdm\n",
    "import pickle\n",
    "import pandas as pd\n",
    "import torch\n",
    "import torch.nn as nn\n",
    "import torch.nn.functional as F\n",
    "import seaborn as sns\n",
    "from matplotlib import pyplot as plt"
   ]
  },
  {
   "cell_type": "code",
   "execution_count": 2,
   "metadata": {},
   "outputs": [],
   "source": [
    "class Net(nn.Module):\n",
    "\n",
    "    def __init__(self):\n",
    "        super(Net, self).__init__()\n",
    "        self.lin1 = nn.Linear(512, 256)\n",
    "        self.act1 = nn.Hardswish ()\n",
    "        self.bn1 = nn.BatchNorm1d(256, momentum=0.9999)\n",
    "\n",
    "        self.lin2 = nn.Linear(256, 128)\n",
    "        self.act2 = nn.Hardswish ()\n",
    "        self.bn2 = nn.BatchNorm1d(128, momentum=0.9999)\n",
    "\n",
    "        self.lin3 = nn.Linear(128, 64)\n",
    "        self.act3 = nn.Hardswish()\n",
    "        self.bn3 = nn.BatchNorm1d(64, momentum=0.9999)\n",
    "\n",
    "        self.lin4 = nn.Linear(64, 62)\n",
    "\n",
    "    def forward(self, x):\n",
    "        x = self.lin1(x)\n",
    "        x = self.act1(x)\n",
    "        x = self.bn1(x)\n",
    "        # x = self.drop1(x)\n",
    "\n",
    "        x = self.lin2(x)\n",
    "        x = self.act2(x)\n",
    "        x = self.bn2(x)\n",
    "        #x = self.drop2(x)\n",
    "\n",
    "        x = self.lin3(x)\n",
    "        x = self.act3(x)\n",
    "        x = self.bn3(x)\n",
    "        #x = self.drop3(x)\n",
    "\n",
    "        x = self.lin4(x)\n",
    "        return x\n",
    "\n"
   ]
  },
  {
   "cell_type": "code",
   "execution_count": 3,
   "metadata": {},
   "outputs": [],
   "source": [
    "class conv(nn.Module):\n",
    "\n",
    "    def __init__(self):\n",
    "        super(conv, self).__init__()\n",
    "        self.conv1 = nn.Conv1d(1, 16, 8)\n",
    "        self.act1 = nn.Hardswish()\n",
    "        self.pool1 = nn.MaxPool1d(8, 8)\n",
    "        self.bn1 = nn.BatchNorm1d(16, momentum=0.9999)\n",
    "\n",
    "        self.conv2 = nn.Conv1d(16, 32, 8)\n",
    "        self.act2 = nn.Hardswish()\n",
    "        self.pool2 = nn.MaxPool1d(8, 8)\n",
    "        self.bn2 = nn.BatchNorm1d(32, momentum=0.9999)\n",
    "\n",
    "\n",
    "        self.lin1 = nn.Linear(224, 128)\n",
    "        self.act3 = nn.Hardswish()\n",
    "        self.bn3 = nn.BatchNorm1d(128, momentum=0.9999)\n",
    "        \n",
    "        self.lin2 = nn.Linear(128, 62)\n",
    "\n",
    "\n",
    "\n",
    "    def forward(self, x):\n",
    "        x  = self.conv1(x)\n",
    "        x = self.act1(x)\n",
    "        x = self.pool1(x)\n",
    "        x = self.bn1(x)\n",
    "\n",
    "        x = self.conv2(x)\n",
    "        x = self.act2(x)\n",
    "        x = self.pool2(x)\n",
    "        x = self.bn2(x)\n",
    "\n",
    "        x = x.view(-1, 224)\n",
    "\n",
    "        x = self.lin1(x)\n",
    "        x = self.act3(x)\n",
    "        x = self.bn3(x)\n",
    "\n",
    "        x = self.lin2(x)\n",
    "        return x"
   ]
  },
  {
   "cell_type": "code",
   "execution_count": 4,
   "metadata": {},
   "outputs": [
    {
     "data": {
      "text/plain": [
       "Net(\n",
       "  (lin1): Linear(in_features=512, out_features=256, bias=True)\n",
       "  (act1): Hardswish()\n",
       "  (bn1): BatchNorm1d(256, eps=1e-05, momentum=0.9999, affine=True, track_running_stats=True)\n",
       "  (lin2): Linear(in_features=256, out_features=128, bias=True)\n",
       "  (act2): Hardswish()\n",
       "  (bn2): BatchNorm1d(128, eps=1e-05, momentum=0.9999, affine=True, track_running_stats=True)\n",
       "  (lin3): Linear(in_features=128, out_features=64, bias=True)\n",
       "  (act3): Hardswish()\n",
       "  (bn3): BatchNorm1d(64, eps=1e-05, momentum=0.9999, affine=True, track_running_stats=True)\n",
       "  (lin4): Linear(in_features=64, out_features=62, bias=True)\n",
       ")"
      ]
     },
     "execution_count": 4,
     "metadata": {},
     "output_type": "execute_result"
    }
   ],
   "source": [
    "model1 = Net()\n",
    "model1.load_state_dict(torch.load('polar_linear_model.pth', map_location=torch.device('cpu')))\n",
    "model1.eval()\n",
    "model1.double()"
   ]
  },
  {
   "cell_type": "code",
   "execution_count": 5,
   "metadata": {},
   "outputs": [
    {
     "data": {
      "text/plain": [
       "conv(\n",
       "  (conv1): Conv1d(1, 16, kernel_size=(8,), stride=(1,))\n",
       "  (act1): Hardswish()\n",
       "  (pool1): MaxPool1d(kernel_size=8, stride=8, padding=0, dilation=1, ceil_mode=False)\n",
       "  (bn1): BatchNorm1d(16, eps=1e-05, momentum=0.9999, affine=True, track_running_stats=True)\n",
       "  (conv2): Conv1d(16, 32, kernel_size=(8,), stride=(1,))\n",
       "  (act2): Hardswish()\n",
       "  (pool2): MaxPool1d(kernel_size=8, stride=8, padding=0, dilation=1, ceil_mode=False)\n",
       "  (bn2): BatchNorm1d(32, eps=1e-05, momentum=0.9999, affine=True, track_running_stats=True)\n",
       "  (lin1): Linear(in_features=224, out_features=128, bias=True)\n",
       "  (act3): Hardswish()\n",
       "  (bn3): BatchNorm1d(128, eps=1e-05, momentum=0.9999, affine=True, track_running_stats=True)\n",
       "  (lin2): Linear(in_features=128, out_features=62, bias=True)\n",
       ")"
      ]
     },
     "execution_count": 5,
     "metadata": {},
     "output_type": "execute_result"
    }
   ],
   "source": [
    "model2 = conv()\n",
    "model2.load_state_dict(torch.load('polar_conv.pth', map_location=torch.device('cpu')))\n",
    "model2.eval()\n",
    "model2.double()"
   ]
  },
  {
   "cell_type": "code",
   "execution_count": 6,
   "metadata": {},
   "outputs": [],
   "source": [
    "def predict(model, X, conv=False):\n",
    "    X = X.copy()\n",
    "    classes = [121, 111, 118, 119, 159, 179, 122, 171, 117, 174, 124, 123, 203,\n",
    "             158, 173, 216, 206, 181, 185, 188, 225, 182, 211, 232, 205, 286,\n",
    "             186, 199, 212, 228, 285, 312, 240, 226, 283, 295, 213, 306, 301,\n",
    "             299, 279, 329, 307, 337, 354, 330, 308, 332, 327, 387, 393, 353,\n",
    "             338, 394, 390, 302, 389, 344, 340, 396, 416, 448]\n",
    "    with torch.no_grad():\n",
    "        X = (X+45.175924783430474)/757.9691984444514\n",
    "        X = torch.tensor(X).double().unsqueeze(0)\n",
    "        if conv:\n",
    "            X = X.unsqueeze(1)\n",
    "        pred = model(X).numpy()\n",
    "        pred = list(np.argsort(pred)[0, -20:])[::-1]\n",
    "        bits = []\n",
    "    for i in range(len(pred)):\n",
    "        bits.append(classes[pred[i]])\n",
    "    return bits"
   ]
  },
  {
   "cell_type": "code",
   "execution_count": 7,
   "metadata": {},
   "outputs": [],
   "source": [
    "class rec_dec:\n",
    "    def __init__(self, code, y_message, i, u_est, is_calc_llr, llr_array, pm=0, PM=0):\n",
    "        self.u_est = u_est\n",
    "        self.is_calc_llr = is_calc_llr\n",
    "        self.llr_array = llr_array\n",
    "        self.y_message = y_message\n",
    "        self.pm = pm #Iddooose metric\n",
    "        self.layer = i\n",
    "        self.code = code\n",
    "        self.PM = PM #paper_metric\n",
    "    \n",
    "    def split(self):\n",
    "        #Создаем 2 копии этого же instance c разными параметрами\n",
    "        u_right = self.u_est.copy()\n",
    "        u_opp = self.u_est.copy()\n",
    "        \n",
    "        self.llr = self.code._fast_llr(self.layer, self.y_message, self.u_est[:self.layer], self.llr_array, self.is_calc_llr) \n",
    "        \n",
    "        u_right[self.layer] = 0 if self.llr > 0 else 1\n",
    "        u_opp[self.layer] = 1 - u_right[self.layer]\n",
    "        \n",
    "        pm_copy_r = self.pm\n",
    "        pm_copy_opp = self.pm\n",
    "        llr_copy = self.llr\n",
    "        \n",
    "        layer_copy = self.layer\n",
    "        \n",
    "        #calc 2 PM and provide them\n",
    "        PM_right = np.log(1+np.exp(-(1-2*u_right[self.layer])*self.llr))\n",
    "        new_PM_right = self.PM+PM_right\n",
    "        \n",
    "        PM_opp = np.log(1+np.exp(-(1-2*u_opp[self.layer])*self.llr)) \n",
    "        new_PM_opp = self.PM+PM_opp\n",
    "        \n",
    "        right = rec_dec(self.code, self.y_message, layer_copy+1, u_right, self.is_calc_llr.copy(), self.llr_array.copy(), pm_copy_r, new_PM_right)\n",
    "        opp = rec_dec(self.code, self.y_message, layer_copy+1, u_opp, self.is_calc_llr.copy(), self.llr_array.copy(), pm_copy_opp+np.abs(llr_copy), new_PM_opp)\n",
    "        \n",
    "        return [right, opp]\n",
    "    \n",
    "    def meet_frozen(self):\n",
    "        self.llr = self.code._fast_llr(self.layer, self.y_message, self.u_est[:self.layer], self.llr_array, self.is_calc_llr) \n",
    "        self.u_est[self.layer] = 0\n",
    "        self.pm += np.abs(self.llr) if (self.llr < 0) else 0 \n",
    "        self.PM += np.log(1+np.exp(-(1-2*self.u_est[self.layer])*self.llr)) \n",
    "        self.layer +=1\n",
    "    \n",
    "    def get_pm(self):\n",
    "        return self.pm\n",
    "    \n",
    "    def get_PM(self):\n",
    "        return self.PM\n",
    "    \n",
    "    def get_is_calc(self):\n",
    "        return self.is_calc_llr\n",
    "    \n",
    "    def get_l(self):\n",
    "        return self.layer\n",
    "    \n",
    "    def get_u_est(self):\n",
    "        return self.u_est\n",
    "    \n",
    "    def get_llr_array(self):\n",
    "        return self.llr_array"
   ]
  },
  {
   "cell_type": "code",
   "execution_count": 8,
   "metadata": {},
   "outputs": [],
   "source": [
    "def scl_dec(code, y_message, list_size=32, train=None): #we should decide here whether to by Indooose Metric or paper's\n",
    "    u_est = np.full(code._N, -1)\n",
    "    is_calc_llr = [False] * code._N * (code._n + 1)\n",
    "    llr_array = np.full(code._N * (code._n + 1), 0.0, dtype=np.longfloat)\n",
    "    dec_array = [] # will store L decoders always\n",
    "    a = rec_dec(code, y_message, 0, u_est, is_calc_llr, llr_array)\n",
    "    dec_array.append(a)\n",
    "    M = np.zeros(code._N)\n",
    "    \n",
    "    bit_for_flip_train = None\n",
    "    \n",
    "    for i in range(code._N): #code._N\n",
    "        \n",
    "        if i in code._frozen_bits_positions:\n",
    "            for elem in dec_array:\n",
    "                 elem.meet_frozen()\n",
    "                \n",
    "        else:\n",
    "            new_arr = []\n",
    "            for elem in dec_array:\n",
    "                temp = elem.split()\n",
    "                new_arr.append(temp[0])\n",
    "                new_arr.append(temp[1])\n",
    "            dec_array = new_arr\n",
    "            \n",
    "        \n",
    "        if len(dec_array) > list_size:\n",
    "            dec_array.sort(key=lambda x: x.get_PM())\n",
    "            M[i] = np.sum([x.get_PM() for x in dec_array[list_size:]]) - np.sum([x.get_PM() for x in dec_array[:list_size]])\n",
    "            \n",
    "        else:\n",
    "            M[i] = - np.sum([x.get_PM() for x in dec_array[:list_size]])\n",
    "        \n",
    "        if len(dec_array) > list_size:      #pruning from 2L to L decoders\n",
    "            dec_array.sort(key=lambda x: x.get_PM()) # by paper (mb create new decoder parametr)\n",
    "            \n",
    "            if (train is not None) and (bit_for_flip_train is None): #should save i, if right solution among discarded\n",
    "                \n",
    "                for inst in dec_array[list_size:]:\n",
    "                    if (train[:i+1] == inst.get_u_est()[:i+1]).all():\n",
    "                        bit_for_flip_train = i      \n",
    "                \n",
    "            dec_array = dec_array[:list_size] # delete discarded paths\n",
    "            \n",
    "    return M, dec_array"
   ]
  },
  {
   "cell_type": "code",
   "execution_count": 9,
   "metadata": {},
   "outputs": [],
   "source": [
    "def scl_dec_forced(code, y_message, list_size=32, flipped_bit=None): #we should decide here whether to by Indooose Metric or paper's\n",
    "    u_est = np.full(code._N, -1)\n",
    "    is_calc_llr = [False] * code._N * (code._n + 1)\n",
    "    llr_array = np.full(code._N * (code._n + 1), 0.0, dtype=np.longfloat)\n",
    "    dec_array = [] # will store L decoders always\n",
    "    a = rec_dec(code, y_message, 0, u_est, is_calc_llr, llr_array)\n",
    "    dec_array.append(a)\n",
    "#    M = np.zeros(code._N)\n",
    "    \n",
    "#    bit_for_flip_train = None\n",
    "    \n",
    "    for i in range(code._N): #code._N\n",
    "        \n",
    "        if i in code._frozen_bits_positions:\n",
    "            for elem in dec_array:\n",
    "                 elem.meet_frozen()\n",
    "                \n",
    "        else:\n",
    "            new_arr = []\n",
    "            for elem in dec_array:\n",
    "                temp = elem.split()\n",
    "                new_arr.append(temp[0])\n",
    "                new_arr.append(temp[1])\n",
    "            dec_array = new_arr\n",
    "            \n",
    "        \n",
    "        if len(dec_array) > list_size:      #pruning from 2L to L decoders\n",
    "            dec_array.sort(key=lambda x: x.get_PM()) # by paper (mb create new decoder parametr)\n",
    "            dec_array = dec_array[:list_size] if i != flipped_bit else dec_array[list_size:] # delete discarded paths\n",
    "            \n",
    "    return dec_array"
   ]
  },
  {
   "cell_type": "code",
   "execution_count": 10,
   "metadata": {},
   "outputs": [],
   "source": [
    "R = 280 / 512\n",
    "ebnodb = np.arange(0, 2.5, 0.5)"
   ]
  },
  {
   "cell_type": "markdown",
   "metadata": {},
   "source": [
    "## Model general performance check"
   ]
  },
  {
   "cell_type": "code",
   "execution_count": 11,
   "metadata": {},
   "outputs": [],
   "source": [
    "def check_models(sinrdb_i):\n",
    "    channel = BpskAwgnChannel(sinrdb_i)\n",
    "    n = 9\n",
    "    K = 256\n",
    "    code = PolarCode(n=n, K=K,\n",
    "                     construction_method='PW',\n",
    "                     channel=channel, CRC_len=24)\n",
    "\n",
    "    u_message = np.asarray([0 if np.random.random_sample() > 0.5 else 1 for _ in range(0, K)], dtype='uint8') # x100\n",
    "    x_message = code.encode(u_message)\n",
    "    to_message = channel.modulate(x_message)\n",
    "    from_message = channel.transmit(to_message)\n",
    "    y_message = channel.demodulate(from_message)\n",
    "    M, bit, C = scl_dec(code, y_message, 8, code.extend_info_bits(u_message))\n",
    "    before = [np.abs(u_message - code.get_message_info_bits(d.get_u_est())).sum() for d in C]\n",
    "    pos_in_lin_set = -1\n",
    "    pos_in_conv_set = -1\n",
    "    is_managed = False\n",
    "    \n",
    "    #проверяем сходимость CRC ~ наличие бита\n",
    "    if (bit is not None): #если есть то прогоняем обе модели\n",
    "        lin_set = predict(model1, M)\n",
    "        conv_set = predict(model2, M, True)\n",
    "        \n",
    "        #записываем в листы есть в ли в предсказанном наборе бит\n",
    "        is_in_lin_set = bit in lin_set\n",
    "        is_in_conv_set = bit in conv_set\n",
    "        #и позиции\n",
    "        pos_in_lin_set = lin_set.index(bit) if is_in_lin_set else -1\n",
    "        pos_in_conv_set = conv_set.index(bit) if is_in_conv_set else -1\n",
    "        # если есть то пробуем декодировать с заменой и записываем сошлось ли теперь CRC\n",
    "        if (is_in_lin_set or is_in_conv_set):\n",
    "            decoders = scl_dec_forced(code, y_message, list_size=8, flipped_bit=bit)\n",
    "            #проверяем на ошибки\n",
    "            \n",
    "            is_managed = [np.abs(u_message - code.get_message_info_bits(d.get_u_est())).sum() for d in decoders]\n",
    "#! добавить CRC \n",
    "\n",
    "        return pos_in_lin_set, pos_in_conv_set, is_managed, before"
   ]
  },
  {
   "cell_type": "code",
   "execution_count": 12,
   "metadata": {},
   "outputs": [],
   "source": [
    "def check_models(sinrdb_i):\n",
    "    channel = BpskAwgnChannel(sinrdb_i)\n",
    "    n = 9\n",
    "    K = 256\n",
    "    code = PolarCode(n=n, K=K,\n",
    "                     construction_method='PW',\n",
    "                     channel=channel, CRC_len=24)\n",
    "\n",
    "    u_message = np.asarray([0 if np.random.random_sample() > 0.5 else 1 for _ in range(0, K)], dtype='uint8') # x100\n",
    "    x_message = code.encode(u_message)\n",
    "    to_message = channel.modulate(x_message)\n",
    "    from_message = channel.transmit(to_message)\n",
    "    y_message = channel.demodulate(from_message)\n",
    "    M, bit, C = scl_dec(code, y_message, 8, code.extend_info_bits(u_message))\n",
    "    before = [np.abs(u_message - code.get_message_info_bits(d.get_u_est())).sum() for d in C]\n",
    "    pos_in_lin_set = -1\n",
    "    pos_in_conv_set = -1\n",
    "    is_managed = False\n",
    "    \n",
    "    #проверяем сходимость CRC ~ наличие бита\n",
    "    if (bit is not None): #если есть то прогоняем обе модели\n",
    "        lin_set = predict(model1, M)\n",
    "        conv_set = predict(model2, M, True)\n",
    "        \n",
    "        #записываем в листы есть в ли в предсказанном наборе бит\n",
    "        is_in_lin_set = bit in lin_set\n",
    "        is_in_conv_set = bit in conv_set\n",
    "        #и позиции\n",
    "        pos_in_lin_set = lin_set.index(bit) if is_in_lin_set else -1\n",
    "        pos_in_conv_set = conv_set.index(bit) if is_in_conv_set else -1\n",
    "        # если есть то пробуем декодировать с заменой и записываем сошлось ли теперь CRC\n",
    "        if (is_in_lin_set or is_in_conv_set):\n",
    "            decoders = scl_dec_forced(code, y_message, list_size=8, flipped_bit=bit)\n",
    "            #проверяем на ошибки\n",
    "            \n",
    "            is_managed = [np.abs(u_message - code.get_message_info_bits(d.get_u_est())).sum() for d in decoders]\n",
    "#! добавить CRC \n",
    "\n",
    "        return pos_in_lin_set, pos_in_conv_set, is_managed, before"
   ]
  },
  {
   "cell_type": "code",
   "execution_count": 13,
   "metadata": {},
   "outputs": [],
   "source": [
    "def BLER(i):\n",
    "    channel = BpskAwgnChannel(i)\n",
    "    n = 9\n",
    "    K = 256\n",
    "    code = PolarCode(n=n, K=K,\n",
    "                     construction_method='PW',\n",
    "                     channel=channel, CRC_len=24)\n",
    "\n",
    "    u_message = np.asarray([0 if np.random.random_sample() > 0.5 else 1 for _ in range(0, K)], dtype='uint8') # x100\n",
    "    x_message = code.encode(u_message)\n",
    "    to_message = channel.modulate(x_message)\n",
    "    from_message = channel.transmit(to_message)\n",
    "    y_message = channel.demodulate(from_message)\n",
    "#    C = scl_dec_forced(code, y_message, 16)\n",
    "    C1 = code._scl_decode(y_message, L=16)\n",
    "#    yeap = 0 in [np.abs(u_message - code.get_message_info_bits(d.get_u_est())).sum() for d in C]\n",
    "    \n",
    "    return C1 is None"
   ]
  },
  {
   "cell_type": "code",
   "execution_count": 14,
   "metadata": {},
   "outputs": [
    {
     "name": "stdout",
     "output_type": "stream",
     "text": [
      "CPU times: user 654 ms, sys: 7.89 ms, total: 662 ms\n",
      "Wall time: 695 ms\n"
     ]
    },
    {
     "data": {
      "text/plain": [
       "False"
      ]
     },
     "execution_count": 14,
     "metadata": {},
     "output_type": "execute_result"
    }
   ],
   "source": [
    "%%time\n",
    "BLER(1)"
   ]
  },
  {
   "cell_type": "code",
   "execution_count": 14,
   "metadata": {},
   "outputs": [],
   "source": [
    "def mStats(i):\n",
    "    channel = BpskAwgnChannel(i)\n",
    "    n = 9\n",
    "    K = 256\n",
    "    code = PolarCode(n=n, K=K,\n",
    "                     construction_method='PW',\n",
    "                     channel=channel, CRC_len=24)\n",
    "\n",
    "    u_message = np.asarray([0 if np.random.random_sample() > 0.5 else 1 for _ in range(0, K)], dtype='uint8') # x100\n",
    "    x_message = code.encode(u_message)\n",
    "    to_message = channel.modulate(x_message)\n",
    "    from_message = channel.transmit(to_message)\n",
    "    y_message = channel.demodulate(from_message)\n",
    "    M, C = scl_dec(code, y_message, 8)\n",
    "#    C1 = code._scl_decode(y_message, L=16)\n",
    "    yeap = 0 in [np.abs(u_message - code.get_message_info_bits(d.get_u_est())).sum() for d in C]\n",
    "    \n",
    "    return M, yeap"
   ]
  },
  {
   "cell_type": "code",
   "execution_count": 16,
   "metadata": {},
   "outputs": [
    {
     "data": {
      "text/plain": [
       "array([0. , 0.5, 1. , 1.5, 2. ])"
      ]
     },
     "execution_count": 16,
     "metadata": {},
     "output_type": "execute_result"
    }
   ],
   "source": [
    "ebnodb"
   ]
  },
  {
   "cell_type": "code",
   "execution_count": 17,
   "metadata": {},
   "outputs": [
    {
     "data": {
      "text/plain": [
       "array([-0.38918066,  0.11081934,  0.61081934,  1.11081934,  1.61081934])"
      ]
     },
     "execution_count": 17,
     "metadata": {},
     "output_type": "execute_result"
    }
   ],
   "source": [
    "sinrdb = ebnodb + 10*np.log10(512/280) -10*np.log10(2)\n",
    "sinrdb"
   ]
  },
  {
   "cell_type": "code",
   "execution_count": 26,
   "metadata": {},
   "outputs": [
    {
     "name": "stdout",
     "output_type": "stream",
     "text": [
      "CPU times: user 555 ms, sys: 73.2 ms, total: 628 ms\n",
      "Wall time: 632 ms\n"
     ]
    },
    {
     "data": {
      "text/plain": [
       "(array([-6.93147181e-01, -1.38629436e+00, -2.07944154e+00, -2.77258872e+00,\n",
       "        -3.46573590e+00, -4.15888308e+00, -4.85203027e+00, -5.54512531e+00,\n",
       "        -6.23827249e+00, -6.93141968e+00, -7.62456686e+00, -8.31771404e+00,\n",
       "        -9.01086122e+00, -9.70400840e+00, -1.03969471e+01, -1.10599289e+01,\n",
       "        -1.17530761e+01, -1.24462232e+01, -1.31393704e+01, -1.38329264e+01,\n",
       "        -1.45260735e+01, -1.52192207e+01, -1.59119593e+01, -1.65654865e+01,\n",
       "        -1.72586337e+01, -1.79509800e+01, -1.86441272e+01, -1.92791955e+01,\n",
       "        -1.99811486e+01, -2.07104095e+01, -2.14799490e+01, -2.18331528e+01,\n",
       "        -2.25263000e+01, -2.32194472e+01, -2.39125944e+01, -2.46057415e+01,\n",
       "        -2.52988887e+01, -2.59958854e+01, -2.66890325e+01, -2.73821797e+01,\n",
       "        -2.80753269e+01, -2.87684741e+01, -2.94616213e+01, -3.02187571e+01,\n",
       "        -3.09119043e+01, -3.14946439e+01, -3.21877911e+01, -3.23845356e+01,\n",
       "        -3.30776828e+01, -3.37708300e+01, -3.44639771e+01, -3.50096162e+01,\n",
       "        -3.57027634e+01, -3.63959106e+01, -3.68226576e+01, -3.68781444e+01,\n",
       "        -3.75712916e+01, -3.78606316e+01, -3.81902719e+01, -4.28007768e+01,\n",
       "        -4.34939240e+01, -4.46956928e+01, -4.58974616e+01, -9.34675226e+01,\n",
       "        -9.48538170e+01, -9.62401113e+01, -9.76264057e+01, -9.90127001e+01,\n",
       "        -1.00398994e+02, -1.01785289e+02, -1.03171583e+02, -1.04378525e+02,\n",
       "        -1.05764819e+02, -1.07151114e+02, -1.08537408e+02, -1.09923702e+02,\n",
       "        -1.11309997e+02, -1.13094350e+02, -1.14699351e+02, -1.15718770e+02,\n",
       "        -1.17105064e+02, -1.18491359e+02, -1.19877653e+02, -1.21263947e+02,\n",
       "        -1.22650242e+02, -1.24036536e+02, -1.24861970e+02, -1.24980714e+02,\n",
       "        -1.26367008e+02, -1.27753303e+02, -1.29139597e+02, -1.30022045e+02,\n",
       "        -1.31066465e+02, -1.34357675e+02, -1.34556631e+02, -2.86783946e+02,\n",
       "        -2.89556535e+02, -2.92329123e+02, -2.95101712e+02, -2.98143307e+02,\n",
       "        -3.00915895e+02, -3.03395803e+02, -3.05370446e+02, -3.10451423e+02,\n",
       "        -3.13224012e+02, -3.15996601e+02, -3.18769190e+02, -3.22015391e+02,\n",
       "        -3.24295690e+02, -3.27136954e+02, -6.65198794e+02,  6.01323254e+01,\n",
       "        -6.59850960e+02, -6.64441425e+02, -6.69986603e+02, -6.82595311e+02,\n",
       "        -6.87642773e+02,  2.74633401e+01,  2.45522910e+01,  5.19326025e+01,\n",
       "        -6.86223627e+02,  3.42636580e+01,  3.17421920e+01,  3.20038109e+01,\n",
       "         5.41900828e+01,  1.39048636e+02,  1.71385247e+02,  3.89139214e+02,\n",
       "        -6.80006527e+02, -6.85551705e+02, -6.91096882e+02, -6.96642060e+02,\n",
       "        -7.02187237e+02, -7.07732415e+02, -7.13277592e+02, -7.18822770e+02,\n",
       "        -7.24367947e+02, -7.29913124e+02, -7.35458302e+02, -7.41003479e+02,\n",
       "        -7.46548657e+02, -7.52093834e+02, -7.57639012e+02, -7.59167634e+02,\n",
       "        -7.64712812e+02, -7.70257989e+02, -7.75803167e+02, -7.81348344e+02,\n",
       "        -7.86893522e+02, -7.92438699e+02, -7.94661467e+02, -7.94857249e+02,\n",
       "        -8.00402426e+02, -8.05947604e+02, -8.10226084e+02, -8.10982245e+02,\n",
       "        -8.16527423e+02, -8.16973224e+02,  5.78917078e+01,  1.32153496e+02,\n",
       "        -8.22525846e+02, -8.28071024e+02, -8.33616201e+02, -8.39161378e+02,\n",
       "        -8.43273565e+02, -8.45702212e+02, -8.46333838e+02, -8.46355768e+02,\n",
       "        -8.51900945e+02, -8.57446123e+02, -8.62991300e+02,  4.13518704e+01,\n",
       "        -8.62525109e+02,  5.46401515e+01,  5.90656114e+01,  1.59046371e+02,\n",
       "        -8.66571667e+02, -8.72116844e+02, -8.77662022e+02,  3.40159441e+01,\n",
       "        -8.81716709e+02,  5.03120260e+01,  6.65353350e+01,  1.79872613e+02,\n",
       "        -8.86454333e+02,  2.34136762e+01,  3.12870648e+01,  8.49660809e+01,\n",
       "         9.21664414e+01,  2.33995872e+02,  2.72339591e+02,  5.94828740e+02,\n",
       "        -8.92109754e+02, -8.97654932e+02, -9.03200109e+02, -9.09064804e+02,\n",
       "        -9.12517684e+02, -9.14809477e+02, -9.15081774e+02,  7.82013180e+01,\n",
       "        -9.20750822e+02, -9.22441051e+02, -9.22880085e+02,  7.36507414e+01,\n",
       "        -9.23341732e+02,  1.08658063e+02,  1.27911644e+02,  2.87417892e+02,\n",
       "        -9.27772253e+02, -9.32278846e+02, -9.33219985e+02,  8.58932532e+01,\n",
       "         5.55621128e+01,  1.27177399e+02,  1.43262231e+02,  3.36782027e+02,\n",
       "         3.39432857e+01,  1.01423619e+02,  1.15297523e+02,  3.03611410e+02,\n",
       "         1.36651515e+02,  3.58743126e+02,  4.01929045e+02,  8.79441230e+02,\n",
       "        -9.39980906e+02,  3.93627575e+01,  3.37720210e+01,  7.23671329e+01,\n",
       "         4.90323561e+01,  1.28247770e+02,  1.56867342e+02,  3.53150618e+02,\n",
       "         2.57478067e+01,  9.05458018e+01,  1.27016117e+02,  2.98918322e+02,\n",
       "         1.97236274e+02,  4.36006155e+02,  4.54620493e+02,  9.71835439e+02,\n",
       "         2.95406488e+01,  9.58555171e+01,  9.27453912e+01,  2.86299676e+02,\n",
       "         1.90190926e+02,  4.57385288e+02,  4.63823686e+02,  1.02297084e+03,\n",
       "         1.44119400e+02,  3.68115706e+02,  4.13370881e+02,  9.12897592e+02,\n",
       "         5.36148458e+02,  1.15923991e+03,  1.18097566e+03,  2.44889431e+03,\n",
       "        -9.45909569e+02, -9.51454746e+02, -9.56999923e+02, -9.62545101e+02,\n",
       "        -9.68090278e+02, -9.73635456e+02, -9.79180633e+02, -9.84725811e+02,\n",
       "        -9.90270988e+02, -9.95816166e+02, -1.00136134e+03, -1.00690652e+03,\n",
       "        -1.01245170e+03, -1.01799688e+03, -1.02354205e+03, -1.02436165e+03,\n",
       "        -1.02990683e+03, -1.03545200e+03, -1.04099718e+03, -1.04654236e+03,\n",
       "        -1.05208754e+03, -1.05763271e+03, -1.05884685e+03,  5.22825975e+01,\n",
       "        -1.05866436e+03, -1.06420953e+03, -1.06599270e+03,  5.30374673e+01,\n",
       "        -1.06393054e+03,  4.49025767e+01,  5.63096721e+01,  1.16677880e+02,\n",
       "        -1.05940710e+03, -1.06495228e+03, -1.07049745e+03, -1.07604263e+03,\n",
       "        -1.08022167e+03, -1.08204795e+03, -1.08261110e+03,  6.84758865e+01,\n",
       "        -1.08817449e+03, -1.09371967e+03, -1.09926485e+03,  3.16770148e+01,\n",
       "        -1.10839837e+03,  6.83751393e+01,  6.02475097e+01,  1.96527690e+02,\n",
       "        -1.11279807e+03, -1.11834325e+03,  3.31638219e+01,  2.86613786e+01,\n",
       "         2.78604420e+01,  5.71251611e+01,  8.36384090e+01,  2.25026625e+02,\n",
       "         5.22046143e+01,  5.22016839e+01,  5.77437649e+01,  1.73243344e+02,\n",
       "         1.67596556e+02,  3.46284892e+02,  3.75373619e+02,  8.08497025e+02,\n",
       "        -1.08631158e+03, -1.09185676e+03, -1.09740193e+03, -1.11440166e+03,\n",
       "        -1.12077706e+03, -1.12162356e+03, -1.12745080e+03,  6.76655259e+01,\n",
       "        -1.13300646e+03,  2.31179972e+01,  1.66237949e+01,  7.40489393e+01,\n",
       "         5.00549865e+01,  1.36589712e+02,  1.25732263e+02,  3.32651758e+02,\n",
       "        -1.14085568e+03,  2.33355760e+01,  2.48478973e+01,  8.20495483e+01,\n",
       "         6.02342651e+01,  1.54759491e+02,  1.83900941e+02,  3.99017169e+02,\n",
       "         4.83178392e+01,  1.26139112e+02,  1.74610381e+02,  3.78498694e+02,\n",
       "         2.05465244e+02,  4.58608623e+02,  5.28503619e+02,  1.08588213e+03,\n",
       "        -1.14961882e+03,  1.98474319e+01,  2.79748562e+01,  9.19945463e+01,\n",
       "         8.28424196e+01,  1.94104540e+02,  2.10620629e+02,  4.55683939e+02,\n",
       "         4.87712501e+01,  1.32019396e+02,  1.80792265e+02,  3.96166787e+02,\n",
       "         2.66706577e+02,  5.67018841e+02,  5.68262687e+02,  1.19981889e+03,\n",
       "         5.14651061e+01,  1.34898147e+02,  1.69318189e+02,  3.78598726e+02,\n",
       "         2.86701230e+02,  5.93701053e+02,  6.11161868e+02,  1.25674233e+03,\n",
       "         2.06457817e+02,  4.79081477e+02,  5.50312633e+02,  1.13541190e+03,\n",
       "         6.88372106e+02,  1.41116282e+03,  1.44558142e+03,  2.96000006e+03,\n",
       "        -1.15816587e+03, -1.16142709e+03, -1.16224297e+03,  5.37170359e+01,\n",
       "        -1.16242728e+03,  7.79439552e+01,  8.62817317e+01,  1.92709591e+02,\n",
       "        -1.17611386e+03,  5.11106886e+01,  5.17561873e+01,  1.58013413e+02,\n",
       "         6.79012559e+01,  1.91735235e+02,  2.08073741e+02,  4.81800764e+02,\n",
       "        -1.19375356e+03,  3.69606678e+01,  4.26582516e+01,  1.39098720e+02,\n",
       "         5.61470399e+01,  1.93000073e+02,  2.08136324e+02,  5.06818341e+02,\n",
       "         3.01222457e+01,  1.53422907e+02,  1.93318877e+02,  4.86207105e+02,\n",
       "         2.39965707e+02,  5.52280154e+02,  5.97354140e+02,  1.29459504e+03,\n",
       "         3.11574706e+01,  6.41745347e+01,  7.08858794e+01,  2.10467582e+02,\n",
       "         1.08633904e+02,  2.80466350e+02,  2.82869748e+02,  6.39794768e+02,\n",
       "         5.70639450e+01,  2.07733706e+02,  2.11152697e+02,  5.41776726e+02,\n",
       "         2.85434029e+02,  6.82737996e+02,  6.57016317e+02,  1.46260630e+03,\n",
       "         5.98360845e+01,  2.08437141e+02,  2.19471145e+02,  5.27762871e+02,\n",
       "         3.17595609e+02,  6.94778870e+02,  7.05353932e+02,  1.49963100e+03,\n",
       "         1.99547253e+02,  5.82276420e+02,  5.87767266e+02,  1.35322560e+03,\n",
       "         7.25656084e+02,  1.56554967e+03,  1.60002188e+03,  3.38322567e+03,\n",
       "         3.43321443e+01,  1.08371524e+02,  1.13891336e+02,  2.72976504e+02,\n",
       "         1.48452663e+02,  3.35077622e+02,  3.33778898e+02,  7.21542873e+02,\n",
       "         1.11550407e+02,  3.00022680e+02,  3.05849284e+02,  6.93581839e+02,\n",
       "         3.51037163e+02,  7.73676480e+02,  7.68338064e+02,  1.65352723e+03,\n",
       "         1.14316890e+02,  3.02975625e+02,  3.38513982e+02,  7.26864710e+02,\n",
       "         3.83354444e+02,  8.11672547e+02,  8.42535675e+02,  1.73910928e+03,\n",
       "         3.08633072e+02,  7.42523569e+02,  7.82540586e+02,  1.67930258e+03,\n",
       "         8.56905778e+02,  1.77014140e+03,  1.82815699e+03,  3.78702585e+03,\n",
       "         1.54252867e+02,  3.48497196e+02,  3.82971049e+02,  7.82441113e+02,\n",
       "         4.28454221e+02,  8.96870814e+02,  8.99118267e+02,  1.84683012e+03,\n",
       "         3.54164552e+02,  7.93707797e+02,  8.28180002e+02,  1.74168558e+03,\n",
       "         9.13507094e+02,  1.93586786e+03,  1.90150190e+03,  3.95733698e+03,\n",
       "         3.59709731e+02,  7.99307309e+02,  8.39270725e+02,  1.71846588e+03,\n",
       "         9.59160974e+02,  1.95824638e+03,  1.99820980e+03,  4.03634402e+03,\n",
       "         7.99268324e+02,  1.79835373e+03,  1.83831715e+03,  3.83648796e+03,\n",
       "         1.99817081e+03,  4.11623187e+03,  4.15619529e+03,  8.51220765e+03]),\n",
       " False)"
      ]
     },
     "execution_count": 26,
     "metadata": {},
     "output_type": "execute_result"
    }
   ],
   "source": [
    "%%time\n",
    "mStats(sinrdb[1])"
   ]
  },
  {
   "cell_type": "markdown",
   "metadata": {},
   "source": [
    "## M(i) stats calculation"
   ]
  },
  {
   "cell_type": "code",
   "execution_count": 43,
   "metadata": {},
   "outputs": [
    {
     "name": "stderr",
     "output_type": "stream",
     "text": [
      "  8%|▊         | 84/1000 [00:23<03:27,  4.41it/s]"
     ]
    },
    {
     "ename": "KeyboardInterrupt",
     "evalue": "",
     "output_type": "error",
     "traceback": [
      "\u001b[0;31m---------------------------------------------------------------------------\u001b[0m",
      "\u001b[0;31mKeyboardInterrupt\u001b[0m                         Traceback (most recent call last)",
      "\u001b[0;32m<timed exec>\u001b[0m in \u001b[0;36m<module>\u001b[0;34m\u001b[0m\n",
      "\u001b[0;32m~/opt/anaconda3/envs/gt/lib/python3.8/site-packages/joblib/parallel.py\u001b[0m in \u001b[0;36m__call__\u001b[0;34m(self, iterable)\u001b[0m\n\u001b[1;32m   1040\u001b[0m \u001b[0;34m\u001b[0m\u001b[0m\n\u001b[1;32m   1041\u001b[0m             \u001b[0;32mwith\u001b[0m \u001b[0mself\u001b[0m\u001b[0;34m.\u001b[0m\u001b[0m_backend\u001b[0m\u001b[0;34m.\u001b[0m\u001b[0mretrieval_context\u001b[0m\u001b[0;34m(\u001b[0m\u001b[0;34m)\u001b[0m\u001b[0;34m:\u001b[0m\u001b[0;34m\u001b[0m\u001b[0;34m\u001b[0m\u001b[0m\n\u001b[0;32m-> 1042\u001b[0;31m                 \u001b[0mself\u001b[0m\u001b[0;34m.\u001b[0m\u001b[0mretrieve\u001b[0m\u001b[0;34m(\u001b[0m\u001b[0;34m)\u001b[0m\u001b[0;34m\u001b[0m\u001b[0;34m\u001b[0m\u001b[0m\n\u001b[0m\u001b[1;32m   1043\u001b[0m             \u001b[0;31m# Make sure that we get a last message telling us we are done\u001b[0m\u001b[0;34m\u001b[0m\u001b[0;34m\u001b[0m\u001b[0;34m\u001b[0m\u001b[0m\n\u001b[1;32m   1044\u001b[0m             \u001b[0melapsed_time\u001b[0m \u001b[0;34m=\u001b[0m \u001b[0mtime\u001b[0m\u001b[0;34m.\u001b[0m\u001b[0mtime\u001b[0m\u001b[0;34m(\u001b[0m\u001b[0;34m)\u001b[0m \u001b[0;34m-\u001b[0m \u001b[0mself\u001b[0m\u001b[0;34m.\u001b[0m\u001b[0m_start_time\u001b[0m\u001b[0;34m\u001b[0m\u001b[0;34m\u001b[0m\u001b[0m\n",
      "\u001b[0;32m~/opt/anaconda3/envs/gt/lib/python3.8/site-packages/joblib/parallel.py\u001b[0m in \u001b[0;36mretrieve\u001b[0;34m(self)\u001b[0m\n\u001b[1;32m    919\u001b[0m             \u001b[0;32mtry\u001b[0m\u001b[0;34m:\u001b[0m\u001b[0;34m\u001b[0m\u001b[0;34m\u001b[0m\u001b[0m\n\u001b[1;32m    920\u001b[0m                 \u001b[0;32mif\u001b[0m \u001b[0mgetattr\u001b[0m\u001b[0;34m(\u001b[0m\u001b[0mself\u001b[0m\u001b[0;34m.\u001b[0m\u001b[0m_backend\u001b[0m\u001b[0;34m,\u001b[0m \u001b[0;34m'supports_timeout'\u001b[0m\u001b[0;34m,\u001b[0m \u001b[0;32mFalse\u001b[0m\u001b[0;34m)\u001b[0m\u001b[0;34m:\u001b[0m\u001b[0;34m\u001b[0m\u001b[0;34m\u001b[0m\u001b[0m\n\u001b[0;32m--> 921\u001b[0;31m                     \u001b[0mself\u001b[0m\u001b[0;34m.\u001b[0m\u001b[0m_output\u001b[0m\u001b[0;34m.\u001b[0m\u001b[0mextend\u001b[0m\u001b[0;34m(\u001b[0m\u001b[0mjob\u001b[0m\u001b[0;34m.\u001b[0m\u001b[0mget\u001b[0m\u001b[0;34m(\u001b[0m\u001b[0mtimeout\u001b[0m\u001b[0;34m=\u001b[0m\u001b[0mself\u001b[0m\u001b[0;34m.\u001b[0m\u001b[0mtimeout\u001b[0m\u001b[0;34m)\u001b[0m\u001b[0;34m)\u001b[0m\u001b[0;34m\u001b[0m\u001b[0;34m\u001b[0m\u001b[0m\n\u001b[0m\u001b[1;32m    922\u001b[0m                 \u001b[0;32melse\u001b[0m\u001b[0;34m:\u001b[0m\u001b[0;34m\u001b[0m\u001b[0;34m\u001b[0m\u001b[0m\n\u001b[1;32m    923\u001b[0m                     \u001b[0mself\u001b[0m\u001b[0;34m.\u001b[0m\u001b[0m_output\u001b[0m\u001b[0;34m.\u001b[0m\u001b[0mextend\u001b[0m\u001b[0;34m(\u001b[0m\u001b[0mjob\u001b[0m\u001b[0;34m.\u001b[0m\u001b[0mget\u001b[0m\u001b[0;34m(\u001b[0m\u001b[0;34m)\u001b[0m\u001b[0;34m)\u001b[0m\u001b[0;34m\u001b[0m\u001b[0;34m\u001b[0m\u001b[0m\n",
      "\u001b[0;32m~/opt/anaconda3/envs/gt/lib/python3.8/site-packages/joblib/_parallel_backends.py\u001b[0m in \u001b[0;36mwrap_future_result\u001b[0;34m(future, timeout)\u001b[0m\n\u001b[1;32m    540\u001b[0m         AsyncResults.get from multiprocessing.\"\"\"\n\u001b[1;32m    541\u001b[0m         \u001b[0;32mtry\u001b[0m\u001b[0;34m:\u001b[0m\u001b[0;34m\u001b[0m\u001b[0;34m\u001b[0m\u001b[0m\n\u001b[0;32m--> 542\u001b[0;31m             \u001b[0;32mreturn\u001b[0m \u001b[0mfuture\u001b[0m\u001b[0;34m.\u001b[0m\u001b[0mresult\u001b[0m\u001b[0;34m(\u001b[0m\u001b[0mtimeout\u001b[0m\u001b[0;34m=\u001b[0m\u001b[0mtimeout\u001b[0m\u001b[0;34m)\u001b[0m\u001b[0;34m\u001b[0m\u001b[0;34m\u001b[0m\u001b[0m\n\u001b[0m\u001b[1;32m    543\u001b[0m         \u001b[0;32mexcept\u001b[0m \u001b[0mCfTimeoutError\u001b[0m \u001b[0;32mas\u001b[0m \u001b[0me\u001b[0m\u001b[0;34m:\u001b[0m\u001b[0;34m\u001b[0m\u001b[0;34m\u001b[0m\u001b[0m\n\u001b[1;32m    544\u001b[0m             \u001b[0;32mraise\u001b[0m \u001b[0mTimeoutError\u001b[0m \u001b[0;32mfrom\u001b[0m \u001b[0me\u001b[0m\u001b[0;34m\u001b[0m\u001b[0;34m\u001b[0m\u001b[0m\n",
      "\u001b[0;32m~/opt/anaconda3/envs/gt/lib/python3.8/concurrent/futures/_base.py\u001b[0m in \u001b[0;36mresult\u001b[0;34m(self, timeout)\u001b[0m\n\u001b[1;32m    432\u001b[0m                 \u001b[0;32mreturn\u001b[0m \u001b[0mself\u001b[0m\u001b[0;34m.\u001b[0m\u001b[0m__get_result\u001b[0m\u001b[0;34m(\u001b[0m\u001b[0;34m)\u001b[0m\u001b[0;34m\u001b[0m\u001b[0;34m\u001b[0m\u001b[0m\n\u001b[1;32m    433\u001b[0m \u001b[0;34m\u001b[0m\u001b[0m\n\u001b[0;32m--> 434\u001b[0;31m             \u001b[0mself\u001b[0m\u001b[0;34m.\u001b[0m\u001b[0m_condition\u001b[0m\u001b[0;34m.\u001b[0m\u001b[0mwait\u001b[0m\u001b[0;34m(\u001b[0m\u001b[0mtimeout\u001b[0m\u001b[0;34m)\u001b[0m\u001b[0;34m\u001b[0m\u001b[0;34m\u001b[0m\u001b[0m\n\u001b[0m\u001b[1;32m    435\u001b[0m \u001b[0;34m\u001b[0m\u001b[0m\n\u001b[1;32m    436\u001b[0m             \u001b[0;32mif\u001b[0m \u001b[0mself\u001b[0m\u001b[0;34m.\u001b[0m\u001b[0m_state\u001b[0m \u001b[0;32min\u001b[0m \u001b[0;34m[\u001b[0m\u001b[0mCANCELLED\u001b[0m\u001b[0;34m,\u001b[0m \u001b[0mCANCELLED_AND_NOTIFIED\u001b[0m\u001b[0;34m]\u001b[0m\u001b[0;34m:\u001b[0m\u001b[0;34m\u001b[0m\u001b[0;34m\u001b[0m\u001b[0m\n",
      "\u001b[0;32m~/opt/anaconda3/envs/gt/lib/python3.8/threading.py\u001b[0m in \u001b[0;36mwait\u001b[0;34m(self, timeout)\u001b[0m\n\u001b[1;32m    300\u001b[0m         \u001b[0;32mtry\u001b[0m\u001b[0;34m:\u001b[0m    \u001b[0;31m# restore state no matter what (e.g., KeyboardInterrupt)\u001b[0m\u001b[0;34m\u001b[0m\u001b[0;34m\u001b[0m\u001b[0m\n\u001b[1;32m    301\u001b[0m             \u001b[0;32mif\u001b[0m \u001b[0mtimeout\u001b[0m \u001b[0;32mis\u001b[0m \u001b[0;32mNone\u001b[0m\u001b[0;34m:\u001b[0m\u001b[0;34m\u001b[0m\u001b[0;34m\u001b[0m\u001b[0m\n\u001b[0;32m--> 302\u001b[0;31m                 \u001b[0mwaiter\u001b[0m\u001b[0;34m.\u001b[0m\u001b[0macquire\u001b[0m\u001b[0;34m(\u001b[0m\u001b[0;34m)\u001b[0m\u001b[0;34m\u001b[0m\u001b[0;34m\u001b[0m\u001b[0m\n\u001b[0m\u001b[1;32m    303\u001b[0m                 \u001b[0mgotit\u001b[0m \u001b[0;34m=\u001b[0m \u001b[0;32mTrue\u001b[0m\u001b[0;34m\u001b[0m\u001b[0;34m\u001b[0m\u001b[0m\n\u001b[1;32m    304\u001b[0m             \u001b[0;32melse\u001b[0m\u001b[0;34m:\u001b[0m\u001b[0;34m\u001b[0m\u001b[0;34m\u001b[0m\u001b[0m\n",
      "\u001b[0;31mKeyboardInterrupt\u001b[0m: "
     ]
    }
   ],
   "source": [
    "%%time\n",
    "data = []\n",
    "iters = [10000, 10000, 10000, 10000, 10000]\n",
    "for sinr, it in zip(sinrdb, iters):\n",
    "    data.append(Parallel(n_jobs=cpu_count())(delayed(mStats)(sinr) for _ in tqdm(range(it))))\n",
    "with open('Mi.pickle', 'wb') as handle:\n",
    "    b = pickle.dump(data, handle)"
   ]
  },
  {
   "cell_type": "code",
   "execution_count": null,
   "metadata": {},
   "outputs": [],
   "source": []
  },
  {
   "cell_type": "markdown",
   "metadata": {},
   "source": [
    "## BLER calculation"
   ]
  },
  {
   "cell_type": "code",
   "execution_count": 37,
   "metadata": {},
   "outputs": [
    {
     "name": "stderr",
     "output_type": "stream",
     "text": [
      "\n",
      "  0%|          | 0/100 [00:00<?, ?it/s]\u001b[A\n",
      "  4%|▍         | 4/100 [00:00<00:03, 29.05it/s]\u001b[A\n",
      "  8%|▊         | 8/100 [00:02<00:21,  4.23it/s]\u001b[A\n",
      " 12%|█▏        | 12/100 [00:04<00:26,  3.33it/s]\u001b[A\n",
      " 16%|█▌        | 16/100 [00:06<00:25,  3.28it/s]\u001b[A\n",
      " 20%|██        | 20/100 [00:07<00:24,  3.25it/s]\u001b[A\n",
      " 24%|██▍       | 24/100 [00:08<00:23,  3.23it/s]\u001b[A\n",
      " 28%|██▊       | 28/100 [00:09<00:22,  3.23it/s]\u001b[A\n",
      " 32%|███▏      | 32/100 [00:11<00:21,  3.19it/s]\u001b[A\n",
      " 36%|███▌      | 36/100 [00:12<00:20,  3.15it/s]\u001b[A\n",
      " 40%|████      | 40/100 [00:13<00:20,  3.00it/s]\u001b[A\n",
      " 44%|████▍     | 44/100 [00:15<00:19,  2.89it/s]\u001b[A\n",
      " 48%|████▊     | 48/100 [00:16<00:17,  2.93it/s]\u001b[A\n",
      " 52%|█████▏    | 52/100 [00:18<00:16,  2.84it/s]\u001b[A\n",
      " 56%|█████▌    | 56/100 [00:19<00:15,  2.75it/s]\u001b[A\n",
      " 60%|██████    | 60/100 [00:22<00:18,  2.21it/s]\u001b[A\n",
      " 64%|██████▍   | 64/100 [00:24<00:16,  2.14it/s]\u001b[A\n",
      " 68%|██████▊   | 68/100 [00:26<00:15,  2.07it/s]\u001b[A\n",
      " 72%|███████▏  | 72/100 [00:28<00:13,  2.01it/s]\u001b[A\n",
      " 76%|███████▌  | 76/100 [00:30<00:12,  1.95it/s]\u001b[A\n",
      " 80%|████████  | 80/100 [00:32<00:10,  1.96it/s]\u001b[A\n",
      " 84%|████████▍ | 84/100 [00:34<00:08,  1.99it/s]\u001b[A\n",
      " 88%|████████▊ | 88/100 [00:36<00:06,  1.95it/s]\u001b[A\n",
      " 92%|█████████▏| 92/100 [00:38<00:04,  1.98it/s]\u001b[A\n",
      " 96%|█████████▌| 96/100 [00:41<00:02,  1.84it/s]\u001b[A\n",
      "100%|██████████| 100/100 [00:43<00:00,  2.30it/s]\u001b[A\n"
     ]
    },
    {
     "name": "stdout",
     "output_type": "stream",
     "text": [
      "CPU times: user 269 ms, sys: 86.5 ms, total: 355 ms\n",
      "Wall time: 46.2 s\n"
     ]
    }
   ],
   "source": [
    "%%time\n",
    "data = []\n",
    "iters = [500, 1000, 2000, 5000, 5000]\n",
    "for sinr, it in zip(sinrdb, iters):\n",
    "    data.append(Parallel(n_jobs=cpu_count())(delayed(BLER)(sinr) for _ in tqdm(range(iters))))"
   ]
  },
  {
   "cell_type": "code",
   "execution_count": 40,
   "metadata": {},
   "outputs": [
    {
     "data": {
      "text/plain": [
       "0.54"
      ]
     },
     "execution_count": 40,
     "metadata": {},
     "output_type": "execute_result"
    }
   ],
   "source": [
    "sum(np.array(data)) / 100 # при 0.6211193"
   ]
  },
  {
   "cell_type": "code",
   "execution_count": 41,
   "metadata": {},
   "outputs": [],
   "source": [
    "a = [0.54, 0.14, 0.04, 0.008]"
   ]
  },
  {
   "cell_type": "code",
   "execution_count": 17,
   "metadata": {},
   "outputs": [
    {
     "name": "stdout",
     "output_type": "stream",
     "text": [
      "500 -0.38918066030369713\n",
      "1000 0.11081933969630287\n",
      "2000 0.6108193396963029\n",
      "5000 1.1108193396963029\n",
      "5000 1.6108193396963029\n"
     ]
    }
   ],
   "source": [
    "for i, j in (zip(iters, sinrdb)):\n",
    "    print(i, j)"
   ]
  },
  {
   "cell_type": "code",
   "execution_count": 42,
   "metadata": {},
   "outputs": [
    {
     "data": {
      "image/png": "[encoded data removed]",
      "text/plain": [
       "<Figure size 432x288 with 1 Axes>"
      ]
     },
     "metadata": {
      "needs_background": "light"
     },
     "output_type": "display_data"
    }
   ],
   "source": [
    "from matplotlib import pyplot as plt\n",
    "plt.plot([0, 0.5, 1, 1.5], a)\n",
    "plt.yscale('log')"
   ]
  },
  {
   "cell_type": "code",
   "execution_count": null,
   "metadata": {},
   "outputs": [],
   "source": []
  },
  {
   "cell_type": "code",
   "execution_count": 15,
   "metadata": {},
   "outputs": [
    {
     "name": "stdout",
     "output_type": "stream",
     "text": [
      "CPU times: user 254 ms, sys: 464 ms, total: 719 ms\n",
      "Wall time: 1.25 s\n"
     ]
    }
   ],
   "source": [
    "%%time\n",
    "with open('/Volumes/GoogleDrive/Мой диск/HSE/Polar_Codes/Mi.pickle', 'rb') as file:\n",
    "    stats = pickle.load(file)"
   ]
  },
  {
   "cell_type": "markdown",
   "metadata": {},
   "source": [
    "## Построить простое распределение "
   ]
  },
  {
   "cell_type": "code",
   "execution_count": 21,
   "metadata": {},
   "outputs": [],
   "source": [
    "stats = [val for sublist in stats for val in sublist]"
   ]
  },
  {
   "cell_type": "code",
   "execution_count": 26,
   "metadata": {},
   "outputs": [],
   "source": [
    "FalseDist = [x[0] for x in stats if x[1]==False]\n",
    "TrueDist = [x[0] for x in stats if x[1]==True]"
   ]
  },
  {
   "cell_type": "code",
   "execution_count": 46,
   "metadata": {},
   "outputs": [
    {
     "data": {
      "text/plain": [
       "<AxesSubplot:>"
      ]
     },
     "execution_count": 46,
     "metadata": {},
     "output_type": "execute_result"
    },
    {
     "data": {
      "image/png": "[encoded data removed]",
      "text/plain": [
       "<Figure size 864x432 with 2 Axes>"
      ]
     },
     "metadata": {
      "needs_background": "light"
     },
     "output_type": "display_data"
    }
   ],
   "source": [
    "plt.figure(figsize=(12,6))\n",
    "plt.subplot(121)\n",
    "sns.boxplot(y=FalseDist)\n",
    "plt.subplot(122)\n",
    "sns.boxplot(y=TrueDist)"
   ]
  },
  {
   "cell_type": "code",
   "execution_count": 48,
   "metadata": {},
   "outputs": [
    {
     "data": {
      "text/plain": [
       "<AxesSubplot:>"
      ]
     },
     "execution_count": 48,
     "metadata": {},
     "output_type": "execute_result"
    },
    {
     "data": {
      "image/png": "[encoded data removed]",
      "text/plain": [
       "<Figure size 864x432 with 2 Axes>"
      ]
     },
     "metadata": {
      "needs_background": "light"
     },
     "output_type": "display_data"
    }
   ],
   "source": [
    "plt.figure(figsize=(12,6))\n",
    "plt.subplot(121)\n",
    "sns.distplot(FalseDist)\n",
    "plt.subplot(122)\n",
    "sns.distplot(TrueDist)"
   ]
  },
  {
   "cell_type": "code",
   "execution_count": 49,
   "metadata": {},
   "outputs": [
    {
     "data": {
      "image/png": "[encoded data removed]",
      "text/plain": [
       "<Figure size 864x432 with 2 Axes>"
      ]
     },
     "metadata": {
      "needs_background": "light"
     },
     "output_type": "display_data"
    }
   ],
   "source": [
    "plt.figure(figsize=(12,6))\n",
    "plt.subplot(121)\n",
    "sns.distplot(FalseDist)\n",
    "plt.yscale('log')\n",
    "plt.subplot(122)\n",
    "sns.distplot(TrueDist)\n",
    "plt.yscale('log')"
   ]
  },
  {
   "cell_type": "markdown",
   "metadata": {},
   "source": [
    "Усреднить по битам и построить распределение"
   ]
  },
  {
   "cell_type": "code",
   "execution_count": 93,
   "metadata": {},
   "outputs": [],
   "source": [
    "tFalse = np.array(FalseDist).transpose()\n",
    "tTrue = np.array(TrueDist).transpose()"
   ]
  },
  {
   "cell_type": "code",
   "execution_count": 105,
   "metadata": {},
   "outputs": [],
   "source": [
    "channel = BpskAwgnChannel(2)\n",
    "n = 9\n",
    "K = 256\n",
    "code = PolarCode(n=n, K=K,\n",
    "                 construction_method='PW',\n",
    "                 channel=channel, CRC_len=24)\n",
    "\n"
   ]
  },
  {
   "cell_type": "code",
   "execution_count": 155,
   "metadata": {},
   "outputs": [],
   "source": [
    "info_bits = list(code._info_bits_positions)\n",
    "frozen_bits = list(code._frozen_bits_positions)"
   ]
  },
  {
   "cell_type": "code",
   "execution_count": 123,
   "metadata": {},
   "outputs": [
    {
     "data": {
      "text/plain": [
       "<AxesSubplot:>"
      ]
     },
     "execution_count": 123,
     "metadata": {},
     "output_type": "execute_result"
    },
    {
     "data": {
      "image/png": "[encoded data removed]",
      "text/plain": [
       "<Figure size 432x288 with 1 Axes>"
      ]
     },
     "metadata": {
      "needs_background": "light"
     },
     "output_type": "display_data"
    }
   ],
   "source": [
    "sns.distplot(tFalse[info_bits[-50]][:9000])\n",
    "sns.distplot(tTrue[info_bits[-50]][:9000])"
   ]
  },
  {
   "cell_type": "markdown",
   "metadata": {},
   "source": [
    "Попробовали нормализовать все M(i) по битам"
   ]
  },
  {
   "cell_type": "code",
   "execution_count": 146,
   "metadata": {},
   "outputs": [
    {
     "data": {
      "text/plain": [
       "<AxesSubplot:>"
      ]
     },
     "execution_count": 146,
     "metadata": {},
     "output_type": "execute_result"
    },
    {
     "data": {
      "image/png": "[encoded data removed]",
      "text/plain": [
       "<Figure size 432x288 with 1 Axes>"
      ]
     },
     "metadata": {
      "needs_background": "light"
     },
     "output_type": "display_data"
    }
   ],
   "source": [
    "sns.distplot([(x-x.min())/(x.max() - x.min()) for x in tFalse[info_bits]][:9000])\n",
    "sns.distplot([(x-x.min())/(x.max() - x.min()) for x in tTrue[info_bits]][:9000])"
   ]
  },
  {
   "cell_type": "code",
   "execution_count": 156,
   "metadata": {},
   "outputs": [
    {
     "name": "stderr",
     "output_type": "stream",
     "text": [
      "<ipython-input-156-ca1ad1142f7d>:1: RuntimeWarning: invalid value encountered in true_divide\n",
      "  sns.distplot([(x-x.min())/(x.max() - x.min()) for x in tFalse[frozen_bits]][:9000])\n",
      "<ipython-input-156-ca1ad1142f7d>:2: RuntimeWarning: invalid value encountered in true_divide\n",
      "  sns.distplot([(x-x.min())/(x.max() - x.min()) for x in tTrue[frozen_bits]][:9000])\n"
     ]
    },
    {
     "data": {
      "text/plain": [
       "<AxesSubplot:>"
      ]
     },
     "execution_count": 156,
     "metadata": {},
     "output_type": "execute_result"
    },
    {
     "data": {
      "image/png": "[encoded data removed]",
      "text/plain": [
       "<Figure size 432x288 with 1 Axes>"
      ]
     },
     "metadata": {
      "needs_background": "light"
     },
     "output_type": "display_data"
    }
   ],
   "source": [
    "sns.distplot([(x-x.min())/(x.max() - x.min()) for x in tFalse[frozen_bits]][:9000])\n",
    "sns.distplot([(x-x.min())/(x.max() - x.min()) for x in tTrue[frozen_bits]][:9000])"
   ]
  },
  {
   "cell_type": "markdown",
   "metadata": {},
   "source": [
    "## Распредление значений по битам"
   ]
  },
  {
   "cell_type": "markdown",
   "metadata": {},
   "source": [
    "Mean value"
   ]
  },
  {
   "cell_type": "code",
   "execution_count": 180,
   "metadata": {},
   "outputs": [
    {
     "data": {
      "text/plain": [
       "<AxesSubplot:>"
      ]
     },
     "execution_count": 180,
     "metadata": {},
     "output_type": "execute_result"
    },
    {
     "data": {
      "image/png": "[encoded data removed]",
      "text/plain": [
       "<Figure size 432x288 with 1 Axes>"
      ]
     },
     "metadata": {
      "needs_background": "light"
     },
     "output_type": "display_data"
    }
   ],
   "source": [
    "plt.figure()\n",
    "sns.lineplot(y=tFalse[info_bits].mean(axis=1), x=np.arange(tFalse[info_bits].shape[0]), color='blue')\n",
    "sns.lineplot(y=tTrue[info_bits].mean(axis=1), x=np.arange(tTrue[info_bits].shape[0]), color='orange')"
   ]
  },
  {
   "cell_type": "markdown",
   "metadata": {},
   "source": [
    "Median value"
   ]
  },
  {
   "cell_type": "code",
   "execution_count": 186,
   "metadata": {},
   "outputs": [
    {
     "data": {
      "text/plain": [
       "<AxesSubplot:>"
      ]
     },
     "execution_count": 186,
     "metadata": {},
     "output_type": "execute_result"
    },
    {
     "data": {
      "image/png": "[encoded data removed]",
      "text/plain": [
       "<Figure size 432x288 with 1 Axes>"
      ]
     },
     "metadata": {
      "needs_background": "light"
     },
     "output_type": "display_data"
    }
   ],
   "source": [
    "plt.figure()\n",
    "sns.lineplot(y=np.quantile(tFalse[info_bits], 0.5, axis=1), x=np.arange(tFalse[info_bits].shape[0]), color='blue')\n",
    "sns.lineplot(y=np.quantile(tTrue[info_bits], 0.5, axis=1), x=np.arange(tTrue[info_bits].shape[0]), color='orange')"
   ]
  },
  {
   "cell_type": "markdown",
   "metadata": {},
   "source": [
    "Mean value of frozen"
   ]
  },
  {
   "cell_type": "code",
   "execution_count": 184,
   "metadata": {},
   "outputs": [
    {
     "data": {
      "text/plain": [
       "<AxesSubplot:>"
      ]
     },
     "execution_count": 184,
     "metadata": {},
     "output_type": "execute_result"
    },
    {
     "data": {
      "image/png": "[encoded data removed]",
      "text/plain": [
       "<Figure size 432x288 with 1 Axes>"
      ]
     },
     "metadata": {
      "needs_background": "light"
     },
     "output_type": "display_data"
    }
   ],
   "source": [
    "plt.figure()\n",
    "sns.lineplot(y=tFalse[frozen_bits].mean(axis=1), x=np.arange(tFalse[frozen_bits].shape[0]), color='blue')\n",
    "sns.lineplot(y=tTrue[frozen_bits].mean(axis=1), x=np.arange(tTrue[frozen_bits].shape[0]), color='orange')"
   ]
  }
 ],
 "metadata": {
  "kernelspec": {
   "display_name": "Python 3",
   "language": "python",
   "name": "python3"
  },
  "language_info": {
   "codemirror_mode": {
    "name": "ipython",
    "version": 3
   },
   "file_extension": ".py",
   "mimetype": "text/x-python",
   "name": "python",
   "nbconvert_exporter": "python",
   "pygments_lexer": "ipython3",
   "version": "3.8.5"
  }
 },
 "nbformat": 4,
 "nbformat_minor": 4
}
