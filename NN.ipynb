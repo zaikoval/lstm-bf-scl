{
 "cells": [
  {
   "cell_type": "code",
   "execution_count": 1,
   "metadata": {
    "id": "YIrKirgOQboo"
   },
   "outputs": [],
   "source": [
    "import pickle\n",
    "import numpy as np\n",
    "import pandas as pd\n",
    "import torch\n",
    "import torch.nn as nn\n",
    "import torch.nn.functional as F\n",
    "\n",
    "from sklearn.model_selection import train_test_split\n",
    "from torch.utils.data import TensorDataset, DataLoader"
   ]
  },
  {
   "cell_type": "code",
   "execution_count": 2,
   "metadata": {
    "id": "tN7uHm25QiT5"
   },
   "outputs": [],
   "source": [
    "with open('/Volumes/GoogleDrive/Мой диск/HSE/Polar_Codes/lstm_train_2_L8_130K.pickle', 'rb') as f:\n",
    "    data = pickle.load(f)\n",
    "  "
   ]
  },
  {
   "cell_type": "code",
   "execution_count": 3,
   "metadata": {
    "colab": {
     "base_uri": "https://localhost:8080/"
    },
    "id": "smxNleyoQz5V",
    "outputId": "3668dde1-f92b-4153-f26b-62a8ad3ec5ce"
   },
   "outputs": [
    {
     "data": {
      "text/plain": [
       "13"
      ]
     },
     "execution_count": 3,
     "metadata": {},
     "output_type": "execute_result"
    }
   ],
   "source": [
    "len(data)"
   ]
  },
  {
   "cell_type": "code",
   "execution_count": 4,
   "metadata": {
    "colab": {
     "base_uri": "https://localhost:8080/"
    },
    "id": "-4_Y_gMcRVcY",
    "outputId": "296a120a-a004-41e5-c069-2f9a78a62be5"
   },
   "outputs": [
    {
     "data": {
      "text/plain": [
       "10000"
      ]
     },
     "execution_count": 4,
     "metadata": {},
     "output_type": "execute_result"
    }
   ],
   "source": [
    "len(data[0])"
   ]
  },
  {
   "cell_type": "code",
   "execution_count": 5,
   "metadata": {
    "colab": {
     "base_uri": "https://localhost:8080/"
    },
    "id": "7Hb4VX39SZQo",
    "outputId": "b6048f04-8a4a-49ad-a9f1-2b1e334ff493"
   },
   "outputs": [
    {
     "data": {
      "text/plain": [
       "512"
      ]
     },
     "execution_count": 5,
     "metadata": {},
     "output_type": "execute_result"
    }
   ],
   "source": [
    "len(data[0][1][0])"
   ]
  },
  {
   "cell_type": "code",
   "execution_count": 6,
   "metadata": {
    "id": "e0zIUBSoRlBa"
   },
   "outputs": [],
   "source": [
    "X = []\n",
    "y = []\n",
    "for i in range(len(data)):\n",
    "    for j in range(len(data[i])):\n",
    "        X.append(data[i][j][0])\n",
    "        y.append(data[i][j][1])"
   ]
  },
  {
   "cell_type": "code",
   "execution_count": 7,
   "metadata": {
    "id": "izSsHqt5HaXI"
   },
   "outputs": [],
   "source": [
    "with open('/Volumes/GoogleDrive/Мой диск/HSE/Polar_Codes/lstm_train_3_L8_xK.pickle', 'rb') as f:\n",
    "    data2 = pickle.load(f)"
   ]
  },
  {
   "cell_type": "code",
   "execution_count": 8,
   "metadata": {
    "colab": {
     "base_uri": "https://localhost:8080/"
    },
    "id": "Zjx5xbdqHqCl",
    "outputId": "fb0c44b3-19c6-4589-b399-88905eb60459"
   },
   "outputs": [
    {
     "data": {
      "text/plain": [
       "13"
      ]
     },
     "execution_count": 8,
     "metadata": {},
     "output_type": "execute_result"
    }
   ],
   "source": [
    "len(data2)"
   ]
  },
  {
   "cell_type": "code",
   "execution_count": 9,
   "metadata": {
    "colab": {
     "base_uri": "https://localhost:8080/"
    },
    "id": "J1fyO5tQHqZc",
    "outputId": "1f066343-1352-496b-b967-cea87875252f"
   },
   "outputs": [
    {
     "data": {
      "text/plain": [
       "20000"
      ]
     },
     "execution_count": 9,
     "metadata": {},
     "output_type": "execute_result"
    }
   ],
   "source": [
    "len(data2[0])"
   ]
  },
  {
   "cell_type": "code",
   "execution_count": 10,
   "metadata": {
    "id": "_EPUnFuLH1dX"
   },
   "outputs": [],
   "source": [
    "for i in range(len(data2)):\n",
    "    for j in range(len(data2[i])):\n",
    "        X.append(data2[i][j][0])\n",
    "        y.append(data2[i][j][1])"
   ]
  },
  {
   "cell_type": "code",
   "execution_count": 38,
   "metadata": {
    "id": "g3Awzl3CSlm_"
   },
   "outputs": [],
   "source": [
    "X = np.array(X)\n",
    "y = np.array(y)"
   ]
  },
  {
   "cell_type": "code",
   "execution_count": 39,
   "metadata": {
    "id": "vjajnF_qSwvB"
   },
   "outputs": [],
   "source": [
    "vc = pd.Series(y).value_counts()"
   ]
  },
  {
   "cell_type": "code",
   "execution_count": 40,
   "metadata": {
    "id": "8tZCJOchUkJd"
   },
   "outputs": [],
   "source": [
    "y = pd.Series(y)"
   ]
  },
  {
   "cell_type": "code",
   "execution_count": 41,
   "metadata": {
    "colab": {
     "base_uri": "https://localhost:8080/"
    },
    "id": "AoqJUHhQKxQz",
    "outputId": "0146c957-b8a4-4b8e-935d-2f14416c900c"
   },
   "outputs": [
    {
     "data": {
      "text/plain": [
       "8     0.094726\n",
       "2     0.089891\n",
       "1     0.075466\n",
       "0     0.064966\n",
       "6     0.048236\n",
       "13    0.045564\n",
       "7     0.041655\n",
       "14    0.037158\n",
       "10    0.027929\n",
       "9     0.027757\n",
       "5     0.025422\n",
       "3     0.020994\n",
       "17    0.016937\n",
       "4     0.016410\n",
       "40    0.016004\n",
       "dtype: float64"
      ]
     },
     "execution_count": 41,
     "metadata": {},
     "output_type": "execute_result"
    }
   ],
   "source": [
    "y.value_counts(normalize=True)[:15]"
   ]
  },
  {
   "cell_type": "code",
   "execution_count": 42,
   "metadata": {
    "id": "6ZDJAOdCVTa0"
   },
   "outputs": [],
   "source": [
    "idx = y.notna() & y.isin(list(vc[:62].index))\n",
    "y = y[idx]\n",
    "X = X[idx]"
   ]
  },
  {
   "cell_type": "code",
   "execution_count": 43,
   "metadata": {
    "colab": {
     "base_uri": "https://localhost:8080/"
    },
    "id": "ZTfBGOENWXVZ",
    "outputId": "65253f43-51b6-4661-b60f-fac43f37c3b8"
   },
   "outputs": [
    {
     "data": {
      "text/plain": [
       "(-0.0017556342364824253, 0.9999984588730303)"
      ]
     },
     "execution_count": 43,
     "metadata": {},
     "output_type": "execute_result"
    }
   ],
   "source": [
    "X.mean(), X.std()"
   ]
  },
  {
   "cell_type": "code",
   "execution_count": 44,
   "metadata": {
    "id": "kLpts-ezXtNK"
   },
   "outputs": [
    {
     "name": "stderr",
     "output_type": "stream",
     "text": [
      "<ipython-input-44-ca814e53643e>:1: RuntimeWarning: invalid value encountered in true_divide\n",
      "  X = (X - X.mean(axis=0))/X.std(axis=0)\n"
     ]
    }
   ],
   "source": [
    "X = (X - X.mean(axis=0))/X.std(axis=0)"
   ]
  },
  {
   "cell_type": "code",
   "execution_count": 45,
   "metadata": {
    "id": "9a_zQP37Vj5T"
   },
   "outputs": [],
   "source": [
    "class Net(nn.Module):\n",
    "\n",
    "    def __init__(self):\n",
    "        super(Net, self).__init__()\n",
    "        self.lin1 = nn.Linear(512, 256)\n",
    "        self.act1 = nn.Hardswish ()\n",
    "        self.bn1 = nn.BatchNorm1d(256, momentum=.9999)\n",
    "\n",
    "        self.lin2 = nn.Linear(256, 128)\n",
    "        self.act2 = nn.Hardswish ()\n",
    "        self.bn2 = nn.BatchNorm1d(128, momentum=.9999)\n",
    "\n",
    "        self.lin3 = nn.Linear(128, 64)\n",
    "        self.act3 = nn.Hardswish()\n",
    "        self.bn3 = nn.BatchNorm1d(64, momentum=.9999)\n",
    "\n",
    "        self.lin4 = nn.Linear(64, 62)\n",
    "\n",
    "    def forward(self, x):\n",
    "        x = self.lin1(x)\n",
    "        x = self.act1(x)\n",
    "        x = self.bn1(x)\n",
    "        # x = self.drop1(x)\n",
    "\n",
    "        x = self.lin2(x)\n",
    "        x = self.act2(x)\n",
    "        x = self.bn2(x)\n",
    "        #x = self.drop2(x)\n",
    "\n",
    "        x = self.lin3(x)\n",
    "        x = self.act3(x)\n",
    "        x = self.bn3(x)\n",
    "        #x = self.drop3(x)\n",
    "\n",
    "        x = self.lin4(x)\n",
    "        return x\n"
   ]
  },
  {
   "cell_type": "code",
   "execution_count": 21,
   "metadata": {
    "id": "xbABj3ZWgFYu"
   },
   "outputs": [],
   "source": [
    "class lstm_pol(nn.Module):\n",
    "\n",
    "    def __init__(self):\n",
    "        super(lstm_pol, self).__init__()\n",
    "        self.seq_len = 512\n",
    "        self.n_hidden = 256\n",
    "        self.n_layers = 2\n",
    "        self.lstm = nn.LSTM(1, 256, self.n_layers, dropout=0.1)\n",
    "        self.act1 = nn.PReLU(256)\n",
    "        self.lin1 = nn.Linear(256, 62)\n",
    "\n",
    "    def reset_hidden_state(self):\n",
    "        self.hidden = (\n",
    "          torch.zeros(self.n_layers, 512, 256).to(device),\n",
    "          torch.zeros(self.n_layers, 512, 256).to(device)\n",
    "      )\n",
    "    def forward(self, sequences):\n",
    "        lstm_out, self.hidden = self.lstm(\n",
    "            sequences.view(len(sequences), self.seq_len, -1),\n",
    "            self.hidden\n",
    "        )\n",
    "        x = \\\n",
    "            lstm_out.view(self.seq_len, len(sequences), self.n_hidden)[-1]\n",
    "        x = self.act1(x)\n",
    "        y_pred = self.lin1(x)\n",
    "        return y_pred"
   ]
  },
  {
   "cell_type": "code",
   "execution_count": 20,
   "metadata": {
    "id": "18dPiiE9yATs"
   },
   "outputs": [],
   "source": [
    "class gru_pol(nn.Module):\n",
    "\n",
    "    def __init__(self):\n",
    "        super(gru_pol, self).__init__()\n",
    "        self.seq_len = 512\n",
    "        self.n_hidden = 100\n",
    "        self.n_layers = 1\n",
    "        self.lstm = nn.GRU(1, self.n_hidden, self.n_layers, dropout=0.1)\n",
    "        #self.act1 = nn.PReLU(256)\n",
    "        self.bn1 = nn.BatchNorm1d(self.n_hidden)\n",
    "        self.lin1 = nn.Linear(self.n_hidden, 62)\n",
    "\n",
    "    def reset_hidden_state(self):\n",
    "        \n",
    "      self.hidden = torch.zeros(self.n_layers, 512, self.n_hidden).to(device)\n",
    "\n",
    "    def forward(self, sequences):\n",
    "      self.reset_hidden_state()\n",
    "      lstm_out, self.hidden = self.lstm(\n",
    "        sequences.view(len(sequences), self.seq_len, -1),\n",
    "        self.hidden\n",
    "      )\n",
    "      x = \\\n",
    "        lstm_out.view(self.seq_len, len(sequences), self.n_hidden)[-1]\n",
    "      #x = self.act1(x)\n",
    "      x = self.bn1(x)\n",
    "      y_pred = self.lin1(x)\n",
    "      return y_pred"
   ]
  },
  {
   "cell_type": "code",
   "execution_count": 46,
   "metadata": {
    "colab": {
     "base_uri": "https://localhost:8080/"
    },
    "id": "y-LiO70WhWDh",
    "outputId": "1228681c-fd17-45d5-8225-c7644392f41b"
   },
   "outputs": [
    {
     "data": {
      "text/plain": [
       "(174767, 512)"
      ]
     },
     "execution_count": 46,
     "metadata": {},
     "output_type": "execute_result"
    }
   ],
   "source": [
    "X.shape"
   ]
  },
  {
   "cell_type": "code",
   "execution_count": 47,
   "metadata": {
    "colab": {
     "base_uri": "https://localhost:8080/"
    },
    "id": "4rYIrBfGgF2a",
    "outputId": "86777f87-4bb9-4626-f898-8b3d07f3ba80"
   },
   "outputs": [
    {
     "data": {
      "text/plain": [
       "(array([ 0,  1,  1, ..., 61, 60, 57]),\n",
       " Int64Index([ 0,  1,  2,  3,  4,  5,  6,  7,  8,  9, 10, 11, 12, 13, 14, 15, 16,\n",
       "             17, 18, 19, 20, 21, 22, 23, 24, 25, 26, 27, 28, 29, 30, 31, 32, 33,\n",
       "             34, 35, 36, 37, 38, 39, 40, 41, 42, 43, 44, 45, 46, 47, 48, 49, 50,\n",
       "             51, 52, 53, 54, 55, 56, 57, 58, 59, 60, 61],\n",
       "            dtype='int64'))"
      ]
     },
     "execution_count": 47,
     "metadata": {},
     "output_type": "execute_result"
    }
   ],
   "source": [
    "pd.factorize(y)"
   ]
  },
  {
   "cell_type": "code",
   "execution_count": 48,
   "metadata": {
    "id": "YakRrIXYgS1z"
   },
   "outputs": [],
   "source": [
    "y = pd.factorize(y)[0]"
   ]
  },
  {
   "cell_type": "code",
   "execution_count": 49,
   "metadata": {
    "colab": {
     "base_uri": "https://localhost:8080/"
    },
    "id": "wMvJOSu5gWk-",
    "outputId": "f6bce8ee-856f-41b4-e8cd-37537ca22133"
   },
   "outputs": [
    {
     "data": {
      "text/plain": [
       "61"
      ]
     },
     "execution_count": 49,
     "metadata": {},
     "output_type": "execute_result"
    }
   ],
   "source": [
    "y.max()"
   ]
  },
  {
   "cell_type": "code",
   "execution_count": 50,
   "metadata": {
    "id": "Tw-wVXMJXkkv"
   },
   "outputs": [],
   "source": [
    "X_train, X_test, y_train, y_test = train_test_split(X, y, test_size=1/6, random_state=42)"
   ]
  },
  {
   "cell_type": "code",
   "execution_count": 51,
   "metadata": {
    "id": "2oHPxqJ2bYI4"
   },
   "outputs": [],
   "source": [
    "device = torch.device(0)"
   ]
  },
  {
   "cell_type": "code",
   "execution_count": 52,
   "metadata": {
    "id": "wgbWMXYPZbP6"
   },
   "outputs": [],
   "source": [
    "X_train= torch.Tensor(X_train)\n",
    "X_test = torch.Tensor(X_test)\n",
    "y_train = torch.tensor(y_train.astype(int), dtype=int)\n",
    "y_test = torch.tensor(y_test.astype(int), dtype=int)"
   ]
  },
  {
   "cell_type": "code",
   "execution_count": 53,
   "metadata": {
    "id": "T32Udt2iZ2JQ"
   },
   "outputs": [],
   "source": [
    "dataset = TensorDataset(X_train, y_train)"
   ]
  },
  {
   "cell_type": "code",
   "execution_count": 54,
   "metadata": {
    "id": "Oyx77JlGaG0B"
   },
   "outputs": [],
   "source": [
    "loader = DataLoader(dataset, batch_size=200, shuffle=True, drop_last=True)"
   ]
  },
  {
   "cell_type": "code",
   "execution_count": 55,
   "metadata": {
    "id": "GEbLj5fNmVgR"
   },
   "outputs": [],
   "source": [
    "test_dataset = TensorDataset(X_test, y_test)\n",
    "test_loader = DataLoader(test_dataset, batch_size=200, shuffle=True)"
   ]
  },
  {
   "cell_type": "code",
   "execution_count": null,
   "metadata": {
    "id": "Wg3mwfFgaass"
   },
   "outputs": [],
   "source": [
    "model = Net().to(device)\n",
    "criterion = nn.CrossEntropyLoss()\n",
    "optimizer = torch.optim.Adam(model.parameters(), lr=0.001, weight_decay=0.001)\n",
    "#optimizer = torch.optim.SGD(model.parameters(), lr=0.005, momentum=0.9, nesterov=False, weight_decay=1e-4)\n",
    "scheduler = torch.optim.lr_scheduler.StepLR(optimizer, 1, 0.5)"
   ]
  },
  {
   "cell_type": "code",
   "execution_count": null,
   "metadata": {
    "colab": {
     "base_uri": "https://localhost:8080/",
     "height": 1000
    },
    "id": "a95-tH1lbMjC",
    "outputId": "d3c404d3-4be4-4fcf-fdd9-488f90ca95a3"
   },
   "outputs": [
    {
     "name": "stdout",
     "output_type": "stream",
     "text": [
      "epoch:   0 loss: 3.09011760\n",
      "epoch:   0 loss: 3.00899721 loss_test: 3.00899721\n",
      "epoch: 0 acc_train: 0.6900274725274725, acc_test: 0.7089398516890965\n",
      "epoch:   1 loss: 2.99215606\n",
      "epoch:   1 loss: 2.99259580 loss_test: 2.99259580\n",
      "epoch: 1 acc_train: 0.7163598901098901, acc_test: 0.7164583905520462\n",
      "epoch:   2 loss: 2.97858611\n",
      "epoch:   2 loss: 2.98084273 loss_test: 2.98084273\n",
      "epoch: 2 acc_train: 0.7209821428571429, acc_test: 0.7205781378742104\n",
      "epoch:   3 loss: 2.97073861\n",
      "epoch:   3 loss: 2.99011092 loss_test: 2.99011092\n",
      "epoch: 3 acc_train: 0.723798076923077, acc_test: 0.7163553968689921\n",
      "epoch:   4 loss: 2.96478286\n",
      "epoch:   4 loss: 2.98949099 loss_test: 2.98949099\n",
      "epoch: 4 acc_train: 0.7266689560439561, acc_test: 0.7183809393023894\n",
      "epoch:   5 loss: 2.95988415\n",
      "epoch:   5 loss: 2.96326508 loss_test: 2.96326508\n",
      "epoch: 5 acc_train: 0.7272252747252748, acc_test: 0.7258308157099698\n",
      "epoch:   6 loss: 2.95709159\n",
      "epoch:   6 loss: 2.96357005 loss_test: 2.96357005\n",
      "epoch: 6 acc_train: 0.7289148351648351, acc_test: 0.7261054655314474\n",
      "epoch:   7 loss: 2.95399442\n",
      "epoch:   7 loss: 2.96534764 loss_test: 2.96534764\n",
      "epoch: 7 acc_train: 0.7297596153846154, acc_test: 0.7273413897280967\n",
      "epoch:   8 loss: 2.95067923\n",
      "epoch:   8 loss: 2.96857485 loss_test: 2.96857485\n",
      "epoch: 8 acc_train: 0.7313186813186813, acc_test: 0.725109859928591\n",
      "epoch:   9 loss: 2.94851180\n",
      "epoch:   9 loss: 2.97043695 loss_test: 2.97043695\n",
      "epoch: 9 acc_train: 0.7324175824175824, acc_test: 0.7249725350178522\n",
      "epoch:  10 loss: 2.94574124\n",
      "epoch:  10 loss: 2.96253219 loss_test: 2.96253219\n",
      "epoch: 10 acc_train: 0.7329739010989011, acc_test: 0.7255904971161768\n",
      "epoch:  11 loss: 2.94456022\n",
      "epoch:  11 loss: 2.95846669 loss_test: 2.95846669\n",
      "epoch: 11 acc_train: 0.7334478021978021, acc_test: 0.728234001647899\n",
      "epoch:  12 loss: 2.94349348\n",
      "epoch:  12 loss: 2.95735336 loss_test: 2.95735336\n",
      "epoch: 12 acc_train: 0.7336332417582417, acc_test: 0.727307058500412\n",
      "epoch:  13 loss: 2.94225316\n"
     ]
    },
    {
     "ename": "KeyboardInterrupt",
     "evalue": "ignored",
     "output_type": "error",
     "traceback": [
      "\u001b[0;31m---------------------------------------------------------------------------\u001b[0m",
      "\u001b[0;31mKeyboardInterrupt\u001b[0m                         Traceback (most recent call last)",
      "\u001b[0;32m<ipython-input-119-b7d13496a90b>\u001b[0m in \u001b[0;36m<module>\u001b[0;34m()\u001b[0m\n\u001b[1;32m     39\u001b[0m       \u001b[0mloss_test\u001b[0m \u001b[0;34m=\u001b[0m \u001b[0;36m0\u001b[0m\u001b[0;34m\u001b[0m\u001b[0;34m\u001b[0m\u001b[0m\n\u001b[1;32m     40\u001b[0m       \u001b[0mtest_res\u001b[0m \u001b[0;34m=\u001b[0m \u001b[0;34m[\u001b[0m\u001b[0;34m]\u001b[0m\u001b[0;34m\u001b[0m\u001b[0;34m\u001b[0m\u001b[0m\n\u001b[0;32m---> 41\u001b[0;31m       \u001b[0;32mfor\u001b[0m \u001b[0mx_te\u001b[0m\u001b[0;34m,\u001b[0m \u001b[0my_te\u001b[0m \u001b[0;32min\u001b[0m \u001b[0mtest_loader\u001b[0m\u001b[0;34m:\u001b[0m\u001b[0;34m\u001b[0m\u001b[0;34m\u001b[0m\u001b[0m\n\u001b[0m\u001b[1;32m     42\u001b[0m         \u001b[0;31m# x_te = x_te.permute(1, 0)\u001b[0m\u001b[0;34m\u001b[0m\u001b[0;34m\u001b[0m\u001b[0;34m\u001b[0m\u001b[0m\n\u001b[1;32m     43\u001b[0m         \u001b[0;31m# x_te = x_te.unsqueeze(2)\u001b[0m\u001b[0;34m\u001b[0m\u001b[0;34m\u001b[0m\u001b[0;34m\u001b[0m\u001b[0m\n",
      "\u001b[0;32m/usr/local/lib/python3.6/dist-packages/torch/utils/data/dataloader.py\u001b[0m in \u001b[0;36m__next__\u001b[0;34m(self)\u001b[0m\n\u001b[1;32m    433\u001b[0m         \u001b[0;32mif\u001b[0m \u001b[0mself\u001b[0m\u001b[0;34m.\u001b[0m\u001b[0m_sampler_iter\u001b[0m \u001b[0;32mis\u001b[0m \u001b[0;32mNone\u001b[0m\u001b[0;34m:\u001b[0m\u001b[0;34m\u001b[0m\u001b[0;34m\u001b[0m\u001b[0m\n\u001b[1;32m    434\u001b[0m             \u001b[0mself\u001b[0m\u001b[0;34m.\u001b[0m\u001b[0m_reset\u001b[0m\u001b[0;34m(\u001b[0m\u001b[0;34m)\u001b[0m\u001b[0;34m\u001b[0m\u001b[0;34m\u001b[0m\u001b[0m\n\u001b[0;32m--> 435\u001b[0;31m         \u001b[0mdata\u001b[0m \u001b[0;34m=\u001b[0m \u001b[0mself\u001b[0m\u001b[0;34m.\u001b[0m\u001b[0m_next_data\u001b[0m\u001b[0;34m(\u001b[0m\u001b[0;34m)\u001b[0m\u001b[0;34m\u001b[0m\u001b[0;34m\u001b[0m\u001b[0m\n\u001b[0m\u001b[1;32m    436\u001b[0m         \u001b[0mself\u001b[0m\u001b[0;34m.\u001b[0m\u001b[0m_num_yielded\u001b[0m \u001b[0;34m+=\u001b[0m \u001b[0;36m1\u001b[0m\u001b[0;34m\u001b[0m\u001b[0;34m\u001b[0m\u001b[0m\n\u001b[1;32m    437\u001b[0m         \u001b[0;32mif\u001b[0m \u001b[0mself\u001b[0m\u001b[0;34m.\u001b[0m\u001b[0m_dataset_kind\u001b[0m \u001b[0;34m==\u001b[0m \u001b[0m_DatasetKind\u001b[0m\u001b[0;34m.\u001b[0m\u001b[0mIterable\u001b[0m \u001b[0;32mand\u001b[0m\u001b[0;31m \u001b[0m\u001b[0;31m\\\u001b[0m\u001b[0;34m\u001b[0m\u001b[0;34m\u001b[0m\u001b[0m\n",
      "\u001b[0;32m/usr/local/lib/python3.6/dist-packages/torch/utils/data/dataloader.py\u001b[0m in \u001b[0;36m_next_data\u001b[0;34m(self)\u001b[0m\n\u001b[1;32m    473\u001b[0m     \u001b[0;32mdef\u001b[0m \u001b[0m_next_data\u001b[0m\u001b[0;34m(\u001b[0m\u001b[0mself\u001b[0m\u001b[0;34m)\u001b[0m\u001b[0;34m:\u001b[0m\u001b[0;34m\u001b[0m\u001b[0;34m\u001b[0m\u001b[0m\n\u001b[1;32m    474\u001b[0m         \u001b[0mindex\u001b[0m \u001b[0;34m=\u001b[0m \u001b[0mself\u001b[0m\u001b[0;34m.\u001b[0m\u001b[0m_next_index\u001b[0m\u001b[0;34m(\u001b[0m\u001b[0;34m)\u001b[0m  \u001b[0;31m# may raise StopIteration\u001b[0m\u001b[0;34m\u001b[0m\u001b[0;34m\u001b[0m\u001b[0m\n\u001b[0;32m--> 475\u001b[0;31m         \u001b[0mdata\u001b[0m \u001b[0;34m=\u001b[0m \u001b[0mself\u001b[0m\u001b[0;34m.\u001b[0m\u001b[0m_dataset_fetcher\u001b[0m\u001b[0;34m.\u001b[0m\u001b[0mfetch\u001b[0m\u001b[0;34m(\u001b[0m\u001b[0mindex\u001b[0m\u001b[0;34m)\u001b[0m  \u001b[0;31m# may raise StopIteration\u001b[0m\u001b[0;34m\u001b[0m\u001b[0;34m\u001b[0m\u001b[0m\n\u001b[0m\u001b[1;32m    476\u001b[0m         \u001b[0;32mif\u001b[0m \u001b[0mself\u001b[0m\u001b[0;34m.\u001b[0m\u001b[0m_pin_memory\u001b[0m\u001b[0;34m:\u001b[0m\u001b[0;34m\u001b[0m\u001b[0;34m\u001b[0m\u001b[0m\n\u001b[1;32m    477\u001b[0m             \u001b[0mdata\u001b[0m \u001b[0;34m=\u001b[0m \u001b[0m_utils\u001b[0m\u001b[0;34m.\u001b[0m\u001b[0mpin_memory\u001b[0m\u001b[0;34m.\u001b[0m\u001b[0mpin_memory\u001b[0m\u001b[0;34m(\u001b[0m\u001b[0mdata\u001b[0m\u001b[0;34m)\u001b[0m\u001b[0;34m\u001b[0m\u001b[0;34m\u001b[0m\u001b[0m\n",
      "\u001b[0;32m/usr/local/lib/python3.6/dist-packages/torch/utils/data/_utils/fetch.py\u001b[0m in \u001b[0;36mfetch\u001b[0;34m(self, possibly_batched_index)\u001b[0m\n\u001b[1;32m     42\u001b[0m     \u001b[0;32mdef\u001b[0m \u001b[0mfetch\u001b[0m\u001b[0;34m(\u001b[0m\u001b[0mself\u001b[0m\u001b[0;34m,\u001b[0m \u001b[0mpossibly_batched_index\u001b[0m\u001b[0;34m)\u001b[0m\u001b[0;34m:\u001b[0m\u001b[0;34m\u001b[0m\u001b[0;34m\u001b[0m\u001b[0m\n\u001b[1;32m     43\u001b[0m         \u001b[0;32mif\u001b[0m \u001b[0mself\u001b[0m\u001b[0;34m.\u001b[0m\u001b[0mauto_collation\u001b[0m\u001b[0;34m:\u001b[0m\u001b[0;34m\u001b[0m\u001b[0;34m\u001b[0m\u001b[0m\n\u001b[0;32m---> 44\u001b[0;31m             \u001b[0mdata\u001b[0m \u001b[0;34m=\u001b[0m \u001b[0;34m[\u001b[0m\u001b[0mself\u001b[0m\u001b[0;34m.\u001b[0m\u001b[0mdataset\u001b[0m\u001b[0;34m[\u001b[0m\u001b[0midx\u001b[0m\u001b[0;34m]\u001b[0m \u001b[0;32mfor\u001b[0m \u001b[0midx\u001b[0m \u001b[0;32min\u001b[0m \u001b[0mpossibly_batched_index\u001b[0m\u001b[0;34m]\u001b[0m\u001b[0;34m\u001b[0m\u001b[0;34m\u001b[0m\u001b[0m\n\u001b[0m\u001b[1;32m     45\u001b[0m         \u001b[0;32melse\u001b[0m\u001b[0;34m:\u001b[0m\u001b[0;34m\u001b[0m\u001b[0;34m\u001b[0m\u001b[0m\n\u001b[1;32m     46\u001b[0m             \u001b[0mdata\u001b[0m \u001b[0;34m=\u001b[0m \u001b[0mself\u001b[0m\u001b[0;34m.\u001b[0m\u001b[0mdataset\u001b[0m\u001b[0;34m[\u001b[0m\u001b[0mpossibly_batched_index\u001b[0m\u001b[0;34m]\u001b[0m\u001b[0;34m\u001b[0m\u001b[0;34m\u001b[0m\u001b[0m\n",
      "\u001b[0;32m/usr/local/lib/python3.6/dist-packages/torch/utils/data/_utils/fetch.py\u001b[0m in \u001b[0;36m<listcomp>\u001b[0;34m(.0)\u001b[0m\n\u001b[1;32m     42\u001b[0m     \u001b[0;32mdef\u001b[0m \u001b[0mfetch\u001b[0m\u001b[0;34m(\u001b[0m\u001b[0mself\u001b[0m\u001b[0;34m,\u001b[0m \u001b[0mpossibly_batched_index\u001b[0m\u001b[0;34m)\u001b[0m\u001b[0;34m:\u001b[0m\u001b[0;34m\u001b[0m\u001b[0;34m\u001b[0m\u001b[0m\n\u001b[1;32m     43\u001b[0m         \u001b[0;32mif\u001b[0m \u001b[0mself\u001b[0m\u001b[0;34m.\u001b[0m\u001b[0mauto_collation\u001b[0m\u001b[0;34m:\u001b[0m\u001b[0;34m\u001b[0m\u001b[0;34m\u001b[0m\u001b[0m\n\u001b[0;32m---> 44\u001b[0;31m             \u001b[0mdata\u001b[0m \u001b[0;34m=\u001b[0m \u001b[0;34m[\u001b[0m\u001b[0mself\u001b[0m\u001b[0;34m.\u001b[0m\u001b[0mdataset\u001b[0m\u001b[0;34m[\u001b[0m\u001b[0midx\u001b[0m\u001b[0;34m]\u001b[0m \u001b[0;32mfor\u001b[0m \u001b[0midx\u001b[0m \u001b[0;32min\u001b[0m \u001b[0mpossibly_batched_index\u001b[0m\u001b[0;34m]\u001b[0m\u001b[0;34m\u001b[0m\u001b[0;34m\u001b[0m\u001b[0m\n\u001b[0m\u001b[1;32m     45\u001b[0m         \u001b[0;32melse\u001b[0m\u001b[0;34m:\u001b[0m\u001b[0;34m\u001b[0m\u001b[0;34m\u001b[0m\u001b[0m\n\u001b[1;32m     46\u001b[0m             \u001b[0mdata\u001b[0m \u001b[0;34m=\u001b[0m \u001b[0mself\u001b[0m\u001b[0;34m.\u001b[0m\u001b[0mdataset\u001b[0m\u001b[0;34m[\u001b[0m\u001b[0mpossibly_batched_index\u001b[0m\u001b[0;34m]\u001b[0m\u001b[0;34m\u001b[0m\u001b[0;34m\u001b[0m\u001b[0m\n",
      "\u001b[0;32m/usr/local/lib/python3.6/dist-packages/torch/utils/data/dataset.py\u001b[0m in \u001b[0;36m__getitem__\u001b[0;34m(self, index)\u001b[0m\n\u001b[1;32m    168\u001b[0m \u001b[0;34m\u001b[0m\u001b[0m\n\u001b[1;32m    169\u001b[0m     \u001b[0;32mdef\u001b[0m \u001b[0m__getitem__\u001b[0m\u001b[0;34m(\u001b[0m\u001b[0mself\u001b[0m\u001b[0;34m,\u001b[0m \u001b[0mindex\u001b[0m\u001b[0;34m)\u001b[0m\u001b[0;34m:\u001b[0m\u001b[0;34m\u001b[0m\u001b[0;34m\u001b[0m\u001b[0m\n\u001b[0;32m--> 170\u001b[0;31m         \u001b[0;32mreturn\u001b[0m \u001b[0mtuple\u001b[0m\u001b[0;34m(\u001b[0m\u001b[0mtensor\u001b[0m\u001b[0;34m[\u001b[0m\u001b[0mindex\u001b[0m\u001b[0;34m]\u001b[0m \u001b[0;32mfor\u001b[0m \u001b[0mtensor\u001b[0m \u001b[0;32min\u001b[0m \u001b[0mself\u001b[0m\u001b[0;34m.\u001b[0m\u001b[0mtensors\u001b[0m\u001b[0;34m)\u001b[0m\u001b[0;34m\u001b[0m\u001b[0;34m\u001b[0m\u001b[0m\n\u001b[0m\u001b[1;32m    171\u001b[0m \u001b[0;34m\u001b[0m\u001b[0m\n\u001b[1;32m    172\u001b[0m     \u001b[0;32mdef\u001b[0m \u001b[0m__len__\u001b[0m\u001b[0;34m(\u001b[0m\u001b[0mself\u001b[0m\u001b[0;34m)\u001b[0m\u001b[0;34m:\u001b[0m\u001b[0;34m\u001b[0m\u001b[0;34m\u001b[0m\u001b[0m\n",
      "\u001b[0;32m/usr/local/lib/python3.6/dist-packages/torch/utils/data/dataset.py\u001b[0m in \u001b[0;36m<genexpr>\u001b[0;34m(.0)\u001b[0m\n\u001b[1;32m    168\u001b[0m \u001b[0;34m\u001b[0m\u001b[0m\n\u001b[1;32m    169\u001b[0m     \u001b[0;32mdef\u001b[0m \u001b[0m__getitem__\u001b[0m\u001b[0;34m(\u001b[0m\u001b[0mself\u001b[0m\u001b[0;34m,\u001b[0m \u001b[0mindex\u001b[0m\u001b[0;34m)\u001b[0m\u001b[0;34m:\u001b[0m\u001b[0;34m\u001b[0m\u001b[0;34m\u001b[0m\u001b[0m\n\u001b[0;32m--> 170\u001b[0;31m         \u001b[0;32mreturn\u001b[0m \u001b[0mtuple\u001b[0m\u001b[0;34m(\u001b[0m\u001b[0mtensor\u001b[0m\u001b[0;34m[\u001b[0m\u001b[0mindex\u001b[0m\u001b[0;34m]\u001b[0m \u001b[0;32mfor\u001b[0m \u001b[0mtensor\u001b[0m \u001b[0;32min\u001b[0m \u001b[0mself\u001b[0m\u001b[0;34m.\u001b[0m\u001b[0mtensors\u001b[0m\u001b[0;34m)\u001b[0m\u001b[0;34m\u001b[0m\u001b[0;34m\u001b[0m\u001b[0m\n\u001b[0m\u001b[1;32m    171\u001b[0m \u001b[0;34m\u001b[0m\u001b[0m\n\u001b[1;32m    172\u001b[0m     \u001b[0;32mdef\u001b[0m \u001b[0m__len__\u001b[0m\u001b[0;34m(\u001b[0m\u001b[0mself\u001b[0m\u001b[0;34m)\u001b[0m\u001b[0;34m:\u001b[0m\u001b[0;34m\u001b[0m\u001b[0;34m\u001b[0m\u001b[0m\n",
      "\u001b[0;31mKeyboardInterrupt\u001b[0m: "
     ]
    }
   ],
   "source": [
    "# Линейная\n",
    "epochs = 48\n",
    "best_epochs_loss=np.inf\n",
    "best_epoch_num = 0\n",
    "for i in range(epochs):\n",
    "    loss_tr = 0\n",
    "    qq = 0\n",
    "    train_res = []\n",
    "    model.train()\n",
    "    # model.bn1.momentum = 1e-5\n",
    "    # model.bn2.momentum = 1e-5\n",
    "    for x_tr, y_tr in loader:\n",
    "        x_tr = x_tr.to(device)\n",
    "        y_tr = y_tr.to(device)\n",
    "        optimizer.zero_grad()\n",
    "        #x_tr = x_tr.permute(1, 0)\n",
    "        #x_tr = x_tr.unsqueeze(2)\n",
    "        y_pred = model(x_tr)\n",
    "        y_pred = y_pred#[-1, :, :]\n",
    "        single_loss = criterion(y_pred, y_tr)\n",
    "        single_loss.backward()\n",
    "        loss_tr += single_loss.item()\n",
    "        qq += 1\n",
    "        optimizer.step()\n",
    "        y_tr = y_tr.cpu().numpy()\n",
    "        y_pred = y_pred.detach().cpu().numpy()\n",
    "        y_pred = np.argsort(y_pred)[:, -10:]\n",
    "        y_tr = np.array([y_tr])\n",
    "        train_res += list(np.any((y_pred - y_tr.T) == 0, axis=1))\n",
    "    print(f'epoch: {i:3} loss: {loss_tr/qq:10.8f}')\n",
    "    qq = 0\n",
    "    with torch.no_grad():\n",
    "      model.eval()\n",
    "      # model.bn1.train()\n",
    "      # model.bn2.train()\n",
    "      # model.bn1.momentum = 0\n",
    "      # model.bn2.momentum = 0\n",
    "      q = 0\n",
    "      loss_test = 0\n",
    "      test_res = []\n",
    "      for x_te, y_te in test_loader:\n",
    "        # x_te = x_te.permute(1, 0)\n",
    "        # x_te = x_te.unsqueeze(2)\n",
    "        x_te = x_te.to(device)\n",
    "        y_te = y_te.to(device)\n",
    "        pred_test = model(x_te)\n",
    "        pred_test = pred_test#[-1, :, :]\n",
    "        loss_test += criterion(pred_test, y_te).item()\n",
    "        y_te = y_te.cpu().numpy()\n",
    "        pred_test = pred_test.cpu().numpy()\n",
    "        pred_test = np.argsort(pred_test)[:, -10:]\n",
    "        y_te = np.array([y_te])\n",
    "        test_res += list(np.any((pred_test - y_te.T) == 0, axis=1))\n",
    "        q += 1\n",
    "      loss_test /= q\n",
    "    print(f'epoch: {i:3} loss: {loss_test:10.8f} loss_test: {loss_test:10.8f}')\n",
    "    q = 0\n",
    "    test_res =np.mean( np.array(test_res))\n",
    "    train_res =np.mean(np.array(train_res))\n",
    "    print(f'epoch: {i} acc_train: {train_res}, acc_test: {test_res}')\n",
    "    if loss_test < best_epochs_loss:\n",
    "      best_epochs_loss = loss_test\n",
    "      best_epoch_num = 0\n",
    "    else:\n",
    "      if best_epoch_num >= 5:\n",
    "        scheduler.step()\n",
    "        print('step')\n",
    "        best_epoch_num = 0\n",
    "      else:\n",
    "        best_epoch_num += 1"
   ]
  },
  {
   "cell_type": "code",
   "execution_count": null,
   "metadata": {
    "id": "TIMZSiDTf_gu"
   },
   "outputs": [],
   "source": [
    "torch.save(model.state_dict(), 'drive/My Drive/polar_linear_model.pth')\n"
   ]
  },
  {
   "cell_type": "code",
   "execution_count": 56,
   "metadata": {
    "id": "lWNCRsjUjY8A"
   },
   "outputs": [
    {
     "ename": "AssertionError",
     "evalue": "Torch not compiled with CUDA enabled",
     "output_type": "error",
     "traceback": [
      "\u001b[0;31m---------------------------------------------------------------------------\u001b[0m",
      "\u001b[0;31mAssertionError\u001b[0m                            Traceback (most recent call last)",
      "\u001b[0;32m<ipython-input-56-2529ad87d93a>\u001b[0m in \u001b[0;36m<module>\u001b[0;34m\u001b[0m\n\u001b[0;32m----> 1\u001b[0;31m \u001b[0mmodel\u001b[0m \u001b[0;34m=\u001b[0m \u001b[0mlstm_pol\u001b[0m\u001b[0;34m(\u001b[0m\u001b[0;34m)\u001b[0m\u001b[0;34m.\u001b[0m\u001b[0mto\u001b[0m\u001b[0;34m(\u001b[0m\u001b[0mdevice\u001b[0m\u001b[0;34m)\u001b[0m\u001b[0;34m\u001b[0m\u001b[0;34m\u001b[0m\u001b[0m\n\u001b[0m\u001b[1;32m      2\u001b[0m \u001b[0mcriterion\u001b[0m \u001b[0;34m=\u001b[0m \u001b[0mnn\u001b[0m\u001b[0;34m.\u001b[0m\u001b[0mCrossEntropyLoss\u001b[0m\u001b[0;34m(\u001b[0m\u001b[0;34m)\u001b[0m\u001b[0;34m\u001b[0m\u001b[0;34m\u001b[0m\u001b[0m\n\u001b[1;32m      3\u001b[0m \u001b[0moptimizer\u001b[0m \u001b[0;34m=\u001b[0m \u001b[0mtorch\u001b[0m\u001b[0;34m.\u001b[0m\u001b[0moptim\u001b[0m\u001b[0;34m.\u001b[0m\u001b[0mAdam\u001b[0m\u001b[0;34m(\u001b[0m\u001b[0mmodel\u001b[0m\u001b[0;34m.\u001b[0m\u001b[0mparameters\u001b[0m\u001b[0;34m(\u001b[0m\u001b[0;34m)\u001b[0m\u001b[0;34m,\u001b[0m \u001b[0mlr\u001b[0m\u001b[0;34m=\u001b[0m\u001b[0;36m0.001\u001b[0m\u001b[0;34m,\u001b[0m \u001b[0mweight_decay\u001b[0m\u001b[0;34m=\u001b[0m\u001b[0;36m0.001\u001b[0m\u001b[0;34m)\u001b[0m\u001b[0;34m\u001b[0m\u001b[0;34m\u001b[0m\u001b[0m\n\u001b[1;32m      4\u001b[0m \u001b[0mscheduler\u001b[0m \u001b[0;34m=\u001b[0m \u001b[0mtorch\u001b[0m\u001b[0;34m.\u001b[0m\u001b[0moptim\u001b[0m\u001b[0;34m.\u001b[0m\u001b[0mlr_scheduler\u001b[0m\u001b[0;34m.\u001b[0m\u001b[0mStepLR\u001b[0m\u001b[0;34m(\u001b[0m\u001b[0moptimizer\u001b[0m\u001b[0;34m,\u001b[0m \u001b[0;36m50\u001b[0m\u001b[0;34m,\u001b[0m \u001b[0;36m0.2\u001b[0m\u001b[0;34m)\u001b[0m\u001b[0;34m\u001b[0m\u001b[0;34m\u001b[0m\u001b[0m\n",
      "\u001b[0;32m~/opt/anaconda3/envs/gt/lib/python3.8/site-packages/torch/nn/modules/module.py\u001b[0m in \u001b[0;36mto\u001b[0;34m(self, *args, **kwargs)\u001b[0m\n\u001b[1;32m    610\u001b[0m             \u001b[0;32mreturn\u001b[0m \u001b[0mt\u001b[0m\u001b[0;34m.\u001b[0m\u001b[0mto\u001b[0m\u001b[0;34m(\u001b[0m\u001b[0mdevice\u001b[0m\u001b[0;34m,\u001b[0m \u001b[0mdtype\u001b[0m \u001b[0;32mif\u001b[0m \u001b[0mt\u001b[0m\u001b[0;34m.\u001b[0m\u001b[0mis_floating_point\u001b[0m\u001b[0;34m(\u001b[0m\u001b[0;34m)\u001b[0m \u001b[0;32melse\u001b[0m \u001b[0;32mNone\u001b[0m\u001b[0;34m,\u001b[0m \u001b[0mnon_blocking\u001b[0m\u001b[0;34m)\u001b[0m\u001b[0;34m\u001b[0m\u001b[0;34m\u001b[0m\u001b[0m\n\u001b[1;32m    611\u001b[0m \u001b[0;34m\u001b[0m\u001b[0m\n\u001b[0;32m--> 612\u001b[0;31m         \u001b[0;32mreturn\u001b[0m \u001b[0mself\u001b[0m\u001b[0;34m.\u001b[0m\u001b[0m_apply\u001b[0m\u001b[0;34m(\u001b[0m\u001b[0mconvert\u001b[0m\u001b[0;34m)\u001b[0m\u001b[0;34m\u001b[0m\u001b[0;34m\u001b[0m\u001b[0m\n\u001b[0m\u001b[1;32m    613\u001b[0m \u001b[0;34m\u001b[0m\u001b[0m\n\u001b[1;32m    614\u001b[0m     def register_backward_hook(\n",
      "\u001b[0;32m~/opt/anaconda3/envs/gt/lib/python3.8/site-packages/torch/nn/modules/module.py\u001b[0m in \u001b[0;36m_apply\u001b[0;34m(self, fn)\u001b[0m\n\u001b[1;32m    357\u001b[0m     \u001b[0;32mdef\u001b[0m \u001b[0m_apply\u001b[0m\u001b[0;34m(\u001b[0m\u001b[0mself\u001b[0m\u001b[0;34m,\u001b[0m \u001b[0mfn\u001b[0m\u001b[0;34m)\u001b[0m\u001b[0;34m:\u001b[0m\u001b[0;34m\u001b[0m\u001b[0;34m\u001b[0m\u001b[0m\n\u001b[1;32m    358\u001b[0m         \u001b[0;32mfor\u001b[0m \u001b[0mmodule\u001b[0m \u001b[0;32min\u001b[0m \u001b[0mself\u001b[0m\u001b[0;34m.\u001b[0m\u001b[0mchildren\u001b[0m\u001b[0;34m(\u001b[0m\u001b[0;34m)\u001b[0m\u001b[0;34m:\u001b[0m\u001b[0;34m\u001b[0m\u001b[0;34m\u001b[0m\u001b[0m\n\u001b[0;32m--> 359\u001b[0;31m             \u001b[0mmodule\u001b[0m\u001b[0;34m.\u001b[0m\u001b[0m_apply\u001b[0m\u001b[0;34m(\u001b[0m\u001b[0mfn\u001b[0m\u001b[0;34m)\u001b[0m\u001b[0;34m\u001b[0m\u001b[0;34m\u001b[0m\u001b[0m\n\u001b[0m\u001b[1;32m    360\u001b[0m \u001b[0;34m\u001b[0m\u001b[0m\n\u001b[1;32m    361\u001b[0m         \u001b[0;32mdef\u001b[0m \u001b[0mcompute_should_use_set_data\u001b[0m\u001b[0;34m(\u001b[0m\u001b[0mtensor\u001b[0m\u001b[0;34m,\u001b[0m \u001b[0mtensor_applied\u001b[0m\u001b[0;34m)\u001b[0m\u001b[0;34m:\u001b[0m\u001b[0;34m\u001b[0m\u001b[0;34m\u001b[0m\u001b[0m\n",
      "\u001b[0;32m~/opt/anaconda3/envs/gt/lib/python3.8/site-packages/torch/nn/modules/rnn.py\u001b[0m in \u001b[0;36m_apply\u001b[0;34m(self, fn)\u001b[0m\n\u001b[1;32m    153\u001b[0m \u001b[0;34m\u001b[0m\u001b[0m\n\u001b[1;32m    154\u001b[0m     \u001b[0;32mdef\u001b[0m \u001b[0m_apply\u001b[0m\u001b[0;34m(\u001b[0m\u001b[0mself\u001b[0m\u001b[0;34m,\u001b[0m \u001b[0mfn\u001b[0m\u001b[0;34m)\u001b[0m\u001b[0;34m:\u001b[0m\u001b[0;34m\u001b[0m\u001b[0;34m\u001b[0m\u001b[0m\n\u001b[0;32m--> 155\u001b[0;31m         \u001b[0mret\u001b[0m \u001b[0;34m=\u001b[0m \u001b[0msuper\u001b[0m\u001b[0;34m(\u001b[0m\u001b[0mRNNBase\u001b[0m\u001b[0;34m,\u001b[0m \u001b[0mself\u001b[0m\u001b[0;34m)\u001b[0m\u001b[0;34m.\u001b[0m\u001b[0m_apply\u001b[0m\u001b[0;34m(\u001b[0m\u001b[0mfn\u001b[0m\u001b[0;34m)\u001b[0m\u001b[0;34m\u001b[0m\u001b[0;34m\u001b[0m\u001b[0m\n\u001b[0m\u001b[1;32m    156\u001b[0m \u001b[0;34m\u001b[0m\u001b[0m\n\u001b[1;32m    157\u001b[0m         \u001b[0;31m# Resets _flat_weights\u001b[0m\u001b[0;34m\u001b[0m\u001b[0;34m\u001b[0m\u001b[0;34m\u001b[0m\u001b[0m\n",
      "\u001b[0;32m~/opt/anaconda3/envs/gt/lib/python3.8/site-packages/torch/nn/modules/module.py\u001b[0m in \u001b[0;36m_apply\u001b[0;34m(self, fn)\u001b[0m\n\u001b[1;32m    379\u001b[0m                 \u001b[0;31m# `with torch.no_grad():`\u001b[0m\u001b[0;34m\u001b[0m\u001b[0;34m\u001b[0m\u001b[0;34m\u001b[0m\u001b[0m\n\u001b[1;32m    380\u001b[0m                 \u001b[0;32mwith\u001b[0m \u001b[0mtorch\u001b[0m\u001b[0;34m.\u001b[0m\u001b[0mno_grad\u001b[0m\u001b[0;34m(\u001b[0m\u001b[0;34m)\u001b[0m\u001b[0;34m:\u001b[0m\u001b[0;34m\u001b[0m\u001b[0;34m\u001b[0m\u001b[0m\n\u001b[0;32m--> 381\u001b[0;31m                     \u001b[0mparam_applied\u001b[0m \u001b[0;34m=\u001b[0m \u001b[0mfn\u001b[0m\u001b[0;34m(\u001b[0m\u001b[0mparam\u001b[0m\u001b[0;34m)\u001b[0m\u001b[0;34m\u001b[0m\u001b[0;34m\u001b[0m\u001b[0m\n\u001b[0m\u001b[1;32m    382\u001b[0m                 \u001b[0mshould_use_set_data\u001b[0m \u001b[0;34m=\u001b[0m \u001b[0mcompute_should_use_set_data\u001b[0m\u001b[0;34m(\u001b[0m\u001b[0mparam\u001b[0m\u001b[0;34m,\u001b[0m \u001b[0mparam_applied\u001b[0m\u001b[0;34m)\u001b[0m\u001b[0;34m\u001b[0m\u001b[0;34m\u001b[0m\u001b[0m\n\u001b[1;32m    383\u001b[0m                 \u001b[0;32mif\u001b[0m \u001b[0mshould_use_set_data\u001b[0m\u001b[0;34m:\u001b[0m\u001b[0;34m\u001b[0m\u001b[0;34m\u001b[0m\u001b[0m\n",
      "\u001b[0;32m~/opt/anaconda3/envs/gt/lib/python3.8/site-packages/torch/nn/modules/module.py\u001b[0m in \u001b[0;36mconvert\u001b[0;34m(t)\u001b[0m\n\u001b[1;32m    608\u001b[0m             \u001b[0;32mif\u001b[0m \u001b[0mconvert_to_format\u001b[0m \u001b[0;32mis\u001b[0m \u001b[0;32mnot\u001b[0m \u001b[0;32mNone\u001b[0m \u001b[0;32mand\u001b[0m \u001b[0mt\u001b[0m\u001b[0;34m.\u001b[0m\u001b[0mdim\u001b[0m\u001b[0;34m(\u001b[0m\u001b[0;34m)\u001b[0m \u001b[0;34m==\u001b[0m \u001b[0;36m4\u001b[0m\u001b[0;34m:\u001b[0m\u001b[0;34m\u001b[0m\u001b[0;34m\u001b[0m\u001b[0m\n\u001b[1;32m    609\u001b[0m                 \u001b[0;32mreturn\u001b[0m \u001b[0mt\u001b[0m\u001b[0;34m.\u001b[0m\u001b[0mto\u001b[0m\u001b[0;34m(\u001b[0m\u001b[0mdevice\u001b[0m\u001b[0;34m,\u001b[0m \u001b[0mdtype\u001b[0m \u001b[0;32mif\u001b[0m \u001b[0mt\u001b[0m\u001b[0;34m.\u001b[0m\u001b[0mis_floating_point\u001b[0m\u001b[0;34m(\u001b[0m\u001b[0;34m)\u001b[0m \u001b[0;32melse\u001b[0m \u001b[0;32mNone\u001b[0m\u001b[0;34m,\u001b[0m \u001b[0mnon_blocking\u001b[0m\u001b[0;34m,\u001b[0m \u001b[0mmemory_format\u001b[0m\u001b[0;34m=\u001b[0m\u001b[0mconvert_to_format\u001b[0m\u001b[0;34m)\u001b[0m\u001b[0;34m\u001b[0m\u001b[0;34m\u001b[0m\u001b[0m\n\u001b[0;32m--> 610\u001b[0;31m             \u001b[0;32mreturn\u001b[0m \u001b[0mt\u001b[0m\u001b[0;34m.\u001b[0m\u001b[0mto\u001b[0m\u001b[0;34m(\u001b[0m\u001b[0mdevice\u001b[0m\u001b[0;34m,\u001b[0m \u001b[0mdtype\u001b[0m \u001b[0;32mif\u001b[0m \u001b[0mt\u001b[0m\u001b[0;34m.\u001b[0m\u001b[0mis_floating_point\u001b[0m\u001b[0;34m(\u001b[0m\u001b[0;34m)\u001b[0m \u001b[0;32melse\u001b[0m \u001b[0;32mNone\u001b[0m\u001b[0;34m,\u001b[0m \u001b[0mnon_blocking\u001b[0m\u001b[0;34m)\u001b[0m\u001b[0;34m\u001b[0m\u001b[0;34m\u001b[0m\u001b[0m\n\u001b[0m\u001b[1;32m    611\u001b[0m \u001b[0;34m\u001b[0m\u001b[0m\n\u001b[1;32m    612\u001b[0m         \u001b[0;32mreturn\u001b[0m \u001b[0mself\u001b[0m\u001b[0;34m.\u001b[0m\u001b[0m_apply\u001b[0m\u001b[0;34m(\u001b[0m\u001b[0mconvert\u001b[0m\u001b[0;34m)\u001b[0m\u001b[0;34m\u001b[0m\u001b[0;34m\u001b[0m\u001b[0m\n",
      "\u001b[0;32m~/opt/anaconda3/envs/gt/lib/python3.8/site-packages/torch/cuda/__init__.py\u001b[0m in \u001b[0;36m_lazy_init\u001b[0;34m()\u001b[0m\n\u001b[1;32m    164\u001b[0m                 \"Cannot re-initialize CUDA in forked subprocess. \" + msg)\n\u001b[1;32m    165\u001b[0m         \u001b[0;32mif\u001b[0m \u001b[0;32mnot\u001b[0m \u001b[0mhasattr\u001b[0m\u001b[0;34m(\u001b[0m\u001b[0mtorch\u001b[0m\u001b[0;34m.\u001b[0m\u001b[0m_C\u001b[0m\u001b[0;34m,\u001b[0m \u001b[0;34m'_cuda_getDeviceCount'\u001b[0m\u001b[0;34m)\u001b[0m\u001b[0;34m:\u001b[0m\u001b[0;34m\u001b[0m\u001b[0;34m\u001b[0m\u001b[0m\n\u001b[0;32m--> 166\u001b[0;31m             \u001b[0;32mraise\u001b[0m \u001b[0mAssertionError\u001b[0m\u001b[0;34m(\u001b[0m\u001b[0;34m\"Torch not compiled with CUDA enabled\"\u001b[0m\u001b[0;34m)\u001b[0m\u001b[0;34m\u001b[0m\u001b[0;34m\u001b[0m\u001b[0m\n\u001b[0m\u001b[1;32m    167\u001b[0m         \u001b[0;32mif\u001b[0m \u001b[0m_cudart\u001b[0m \u001b[0;32mis\u001b[0m \u001b[0;32mNone\u001b[0m\u001b[0;34m:\u001b[0m\u001b[0;34m\u001b[0m\u001b[0;34m\u001b[0m\u001b[0m\n\u001b[1;32m    168\u001b[0m             raise AssertionError(\n",
      "\u001b[0;31mAssertionError\u001b[0m: Torch not compiled with CUDA enabled"
     ]
    }
   ],
   "source": [
    "model = lstm_pol().to(device)\n",
    "criterion = nn.CrossEntropyLoss()\n",
    "optimizer = torch.optim.Adam(model.parameters(), lr=0.001, weight_decay=0.001)\n",
    "scheduler = torch.optim.lr_scheduler.StepLR(optimizer, 50, 0.2)"
   ]
  },
  {
   "cell_type": "code",
   "execution_count": null,
   "metadata": {
    "colab": {
     "base_uri": "https://localhost:8080/",
     "height": 384
    },
    "id": "I_nPxRu6gbrq",
    "outputId": "704c8c8b-1d67-40ac-88ac-7a3bd5caa961"
   },
   "outputs": [
    {
     "name": "stdout",
     "output_type": "stream",
     "text": [
      "epoch:   0 loss: 3.62151206\n",
      "epoch:   0 loss: 3.61895375 loss_test: 3.61895375\n",
      "epoch: 0 acc_train: 0.5505494505494506, acc_test: 0.5491966492721779\n",
      "epoch:   1 loss: 3.61135822\n",
      "epoch:   1 loss: 3.62069205 loss_test: 3.62069205\n",
      "epoch: 1 acc_train: 0.5532829670329671, acc_test: 0.5451455644053831\n",
      "epoch:   2 loss: 3.61028657\n",
      "epoch:   2 loss: 3.62079322 loss_test: 3.62079322\n",
      "epoch: 2 acc_train: 0.5536813186813186, acc_test: 0.5491966492721779\n"
     ]
    },
    {
     "ename": "KeyboardInterrupt",
     "evalue": "ignored",
     "output_type": "error",
     "traceback": [
      "\u001b[0;31m---------------------------------------------------------------------------\u001b[0m",
      "\u001b[0;31mKeyboardInterrupt\u001b[0m                         Traceback (most recent call last)",
      "\u001b[0;32m<ipython-input-54-0451621e8a16>\u001b[0m in \u001b[0;36m<module>\u001b[0;34m()\u001b[0m\n\u001b[1;32m     16\u001b[0m         \u001b[0msingle_loss\u001b[0m \u001b[0;34m=\u001b[0m \u001b[0mcriterion\u001b[0m\u001b[0;34m(\u001b[0m\u001b[0my_pred\u001b[0m\u001b[0;34m,\u001b[0m \u001b[0my_tr\u001b[0m\u001b[0;34m)\u001b[0m\u001b[0;34m\u001b[0m\u001b[0;34m\u001b[0m\u001b[0m\n\u001b[1;32m     17\u001b[0m         \u001b[0msingle_loss\u001b[0m\u001b[0;34m.\u001b[0m\u001b[0mbackward\u001b[0m\u001b[0;34m(\u001b[0m\u001b[0;34m)\u001b[0m\u001b[0;34m\u001b[0m\u001b[0;34m\u001b[0m\u001b[0m\n\u001b[0;32m---> 18\u001b[0;31m         \u001b[0mloss_tr\u001b[0m \u001b[0;34m+=\u001b[0m \u001b[0msingle_loss\u001b[0m\u001b[0;34m.\u001b[0m\u001b[0mitem\u001b[0m\u001b[0;34m(\u001b[0m\u001b[0;34m)\u001b[0m\u001b[0;34m\u001b[0m\u001b[0;34m\u001b[0m\u001b[0m\n\u001b[0m\u001b[1;32m     19\u001b[0m         \u001b[0mqq\u001b[0m \u001b[0;34m+=\u001b[0m \u001b[0;36m1\u001b[0m\u001b[0;34m\u001b[0m\u001b[0;34m\u001b[0m\u001b[0m\n\u001b[1;32m     20\u001b[0m         \u001b[0moptimizer\u001b[0m\u001b[0;34m.\u001b[0m\u001b[0mstep\u001b[0m\u001b[0;34m(\u001b[0m\u001b[0;34m)\u001b[0m\u001b[0;34m\u001b[0m\u001b[0;34m\u001b[0m\u001b[0m\n",
      "\u001b[0;31mKeyboardInterrupt\u001b[0m: "
     ]
    }
   ],
   "source": [
    "# lstm\n",
    "epochs = 10000\n",
    "for i in range(epochs):\n",
    "    #model.reset_hidden_state()\n",
    "    loss_tr = 0\n",
    "    qq = 0\n",
    "    train_res = []\n",
    "    for x_tr, y_tr in loader:\n",
    "        x_tr = x_tr.to(device)\n",
    "        y_tr = y_tr.to(device)\n",
    "        optimizer.zero_grad()\n",
    "        #x_tr = x_tr.permute(1, 0)\n",
    "        #x_tr = x_tr.unsqueeze(2)\n",
    "        y_pred = model(x_tr)\n",
    "        y_pred = y_pred#[-1, :, :]\n",
    "        single_loss = criterion(y_pred, y_tr)\n",
    "        single_loss.backward()\n",
    "        loss_tr += single_loss.item()\n",
    "        qq += 1\n",
    "        optimizer.step()\n",
    "        y_tr = y_tr.cpu().numpy()\n",
    "        y_pred = y_pred.detach().cpu().numpy()\n",
    "        y_pred = np.argsort(y_pred)[:, -10:]\n",
    "        y_tr = np.array([y_tr])\n",
    "        train_res += list(np.any((y_pred - y_tr.T) == 0, axis=1))\n",
    "        for hid in model.hidden:\n",
    "          hid.detach_()\n",
    "    print(f'epoch: {i:3} loss: {loss_tr/qq:10.8f}')\n",
    "    qq = 0\n",
    "    scheduler.step()\n",
    "    with torch.no_grad():\n",
    "      q = 0\n",
    "      loss_test = 0\n",
    "      test_res = []\n",
    "      for x_te, y_te in test_loader:\n",
    "        # x_te = x_te.permute(1, 0)\n",
    "        # x_te = x_te.unsqueeze(2)\n",
    "        x_te = x_te.to(device)\n",
    "        y_te = y_te.to(device)\n",
    "        pred_test = model(x_te)\n",
    "        pred_test = pred_test#[-1, :, :]\n",
    "        loss_test += criterion(pred_test, y_te).item()\n",
    "        y_te = y_te.cpu().numpy()\n",
    "        pred_test = pred_test.cpu().numpy()\n",
    "        pred_test = np.argsort(pred_test)[:, -10:]\n",
    "        y_te = np.array([y_te])\n",
    "        test_res += list(np.any((pred_test - y_te.T) == 0, axis=1))\n",
    "        q += 1\n",
    "      loss_test /= q\n",
    "    print(f'epoch: {i:3} loss: {loss_test:10.8f} loss_test: {loss_test:10.8f}')\n",
    "    q = 0\n",
    "    test_res =np.mean( np.array(test_res))\n",
    "    train_res =np.mean( np.array(train_res))\n",
    "    print(f'epoch: {i} acc_train: {train_res}, acc_test: {test_res}')"
   ]
  },
  {
   "cell_type": "code",
   "execution_count": null,
   "metadata": {
    "colab": {
     "base_uri": "https://localhost:8080/"
    },
    "id": "N71EsNXlls9s",
    "outputId": "59d0e985-0c58-41a8-a4aa-5dd3a05d34f1"
   },
   "outputs": [
    {
     "name": "stderr",
     "output_type": "stream",
     "text": [
      "/usr/local/lib/python3.6/dist-packages/torch/nn/modules/rnn.py:61: UserWarning: dropout option adds dropout after all but last recurrent layer, so non-zero dropout expects num_layers greater than 1, but got dropout=0.1 and num_layers=1\n",
      "  \"num_layers={}\".format(dropout, num_layers))\n"
     ]
    }
   ],
   "source": [
    "model = gru_pol().to(device)\n",
    "criterion = nn.CrossEntropyLoss()\n",
    "optimizer = torch.optim.SGD(model.parameters(), lr=0.01)\n",
    "scheduler = torch.optim.lr_scheduler.StepLR(optimizer, 50, 0.2)"
   ]
  },
  {
   "cell_type": "code",
   "execution_count": null,
   "metadata": {
    "colab": {
     "base_uri": "https://localhost:8080/",
     "height": 1000
    },
    "id": "APaN3IxByhD1",
    "outputId": "15e1e344-9acb-4824-e30c-75526832a2d6"
   },
   "outputs": [
    {
     "name": "stdout",
     "output_type": "stream",
     "text": [
      "epoch:   0 loss: 4.01502958\n",
      "epoch:   0 loss: 3.88894039 loss_test: 3.88894039\n",
      "epoch: 0 acc_train: 0.4503434065934066, acc_test: 0.5377643504531722\n",
      "epoch:   1 loss: 3.77103266\n",
      "epoch:   1 loss: 3.68909415 loss_test: 3.68909415\n",
      "epoch: 1 acc_train: 0.5509684065934066, acc_test: 0.5479607250755287\n",
      "epoch:   2 loss: 3.65133192\n",
      "epoch:   2 loss: 3.64125207 loss_test: 3.64125207\n",
      "epoch: 2 acc_train: 0.5536744505494505, acc_test: 0.5483383685800605\n",
      "epoch:   3 loss: 3.62506145\n",
      "epoch:   3 loss: 3.62871083 loss_test: 3.62871083\n",
      "epoch: 3 acc_train: 0.5542239010989011, acc_test: 0.5487160120845922\n",
      "epoch:   4 loss: 3.61667750\n",
      "epoch:   4 loss: 3.62338086 loss_test: 3.62338086\n",
      "epoch: 4 acc_train: 0.554010989010989, acc_test: 0.5491623180444932\n",
      "epoch:   5 loss: 3.61271428\n",
      "epoch:   5 loss: 3.62068721 loss_test: 3.62068721\n",
      "epoch: 5 acc_train: 0.5537980769230769, acc_test: 0.5493339741829167\n",
      "epoch:   6 loss: 3.61077107\n",
      "epoch:   6 loss: 3.61898774 loss_test: 3.61898774\n",
      "epoch: 6 acc_train: 0.554059065934066, acc_test: 0.5497459489151332\n",
      "epoch:   7 loss: 3.60964971\n",
      "epoch:   7 loss: 3.61814145 loss_test: 3.61814145\n",
      "epoch: 7 acc_train: 0.5537568681318681, acc_test: 0.5495056303213403\n",
      "epoch:   8 loss: 3.60929979\n",
      "epoch:   8 loss: 3.61880528 loss_test: 3.61880528\n",
      "epoch: 8 acc_train: 0.5536538461538462, acc_test: 0.5491966492721779\n",
      "epoch:   9 loss: 3.60845988\n",
      "epoch:   9 loss: 3.61655271 loss_test: 3.61655271\n",
      "epoch: 9 acc_train: 0.5536607142857143, acc_test: 0.5493683054106014\n",
      "epoch:  10 loss: 3.60799520\n",
      "epoch:  10 loss: 3.61743561 loss_test: 3.61743561\n",
      "epoch: 10 acc_train: 0.5542651098901099, acc_test: 0.5488876682230156\n",
      "epoch:  11 loss: 3.60804908\n",
      "epoch:  11 loss: 3.61660696 loss_test: 3.61660696\n",
      "epoch: 11 acc_train: 0.554010989010989, acc_test: 0.549299642955232\n",
      "epoch:  12 loss: 3.60756622\n",
      "epoch:  12 loss: 3.61683656 loss_test: 3.61683656\n",
      "epoch: 12 acc_train: 0.5536538461538462, acc_test: 0.5486130184015381\n"
     ]
    },
    {
     "ename": "KeyboardInterrupt",
     "evalue": "ignored",
     "output_type": "error",
     "traceback": [
      "\u001b[0;31m---------------------------------------------------------------------------\u001b[0m",
      "\u001b[0;31mKeyboardInterrupt\u001b[0m                         Traceback (most recent call last)",
      "\u001b[0;32m<ipython-input-106-cf7c51fb6d8b>\u001b[0m in \u001b[0;36m<module>\u001b[0;34m()\u001b[0m\n\u001b[1;32m      6\u001b[0m     \u001b[0mqq\u001b[0m \u001b[0;34m=\u001b[0m \u001b[0;36m0\u001b[0m\u001b[0;34m\u001b[0m\u001b[0;34m\u001b[0m\u001b[0m\n\u001b[1;32m      7\u001b[0m     \u001b[0mtrain_res\u001b[0m \u001b[0;34m=\u001b[0m \u001b[0;34m[\u001b[0m\u001b[0;34m]\u001b[0m\u001b[0;34m\u001b[0m\u001b[0;34m\u001b[0m\u001b[0m\n\u001b[0;32m----> 8\u001b[0;31m     \u001b[0;32mfor\u001b[0m \u001b[0mx_tr\u001b[0m\u001b[0;34m,\u001b[0m \u001b[0my_tr\u001b[0m \u001b[0;32min\u001b[0m \u001b[0mloader\u001b[0m\u001b[0;34m:\u001b[0m\u001b[0;34m\u001b[0m\u001b[0;34m\u001b[0m\u001b[0m\n\u001b[0m\u001b[1;32m      9\u001b[0m         \u001b[0mx_tr\u001b[0m \u001b[0;34m=\u001b[0m \u001b[0mx_tr\u001b[0m\u001b[0;34m.\u001b[0m\u001b[0mto\u001b[0m\u001b[0;34m(\u001b[0m\u001b[0mdevice\u001b[0m\u001b[0;34m)\u001b[0m\u001b[0;34m\u001b[0m\u001b[0;34m\u001b[0m\u001b[0m\n\u001b[1;32m     10\u001b[0m         \u001b[0my_tr\u001b[0m \u001b[0;34m=\u001b[0m \u001b[0my_tr\u001b[0m\u001b[0;34m.\u001b[0m\u001b[0mto\u001b[0m\u001b[0;34m(\u001b[0m\u001b[0mdevice\u001b[0m\u001b[0;34m)\u001b[0m\u001b[0;34m\u001b[0m\u001b[0;34m\u001b[0m\u001b[0m\n",
      "\u001b[0;32m/usr/local/lib/python3.6/dist-packages/torch/utils/data/dataloader.py\u001b[0m in \u001b[0;36m__next__\u001b[0;34m(self)\u001b[0m\n\u001b[1;32m    433\u001b[0m         \u001b[0;32mif\u001b[0m \u001b[0mself\u001b[0m\u001b[0;34m.\u001b[0m\u001b[0m_sampler_iter\u001b[0m \u001b[0;32mis\u001b[0m \u001b[0;32mNone\u001b[0m\u001b[0;34m:\u001b[0m\u001b[0;34m\u001b[0m\u001b[0;34m\u001b[0m\u001b[0m\n\u001b[1;32m    434\u001b[0m             \u001b[0mself\u001b[0m\u001b[0;34m.\u001b[0m\u001b[0m_reset\u001b[0m\u001b[0;34m(\u001b[0m\u001b[0;34m)\u001b[0m\u001b[0;34m\u001b[0m\u001b[0;34m\u001b[0m\u001b[0m\n\u001b[0;32m--> 435\u001b[0;31m         \u001b[0mdata\u001b[0m \u001b[0;34m=\u001b[0m \u001b[0mself\u001b[0m\u001b[0;34m.\u001b[0m\u001b[0m_next_data\u001b[0m\u001b[0;34m(\u001b[0m\u001b[0;34m)\u001b[0m\u001b[0;34m\u001b[0m\u001b[0;34m\u001b[0m\u001b[0m\n\u001b[0m\u001b[1;32m    436\u001b[0m         \u001b[0mself\u001b[0m\u001b[0;34m.\u001b[0m\u001b[0m_num_yielded\u001b[0m \u001b[0;34m+=\u001b[0m \u001b[0;36m1\u001b[0m\u001b[0;34m\u001b[0m\u001b[0;34m\u001b[0m\u001b[0m\n\u001b[1;32m    437\u001b[0m         \u001b[0;32mif\u001b[0m \u001b[0mself\u001b[0m\u001b[0;34m.\u001b[0m\u001b[0m_dataset_kind\u001b[0m \u001b[0;34m==\u001b[0m \u001b[0m_DatasetKind\u001b[0m\u001b[0;34m.\u001b[0m\u001b[0mIterable\u001b[0m \u001b[0;32mand\u001b[0m\u001b[0;31m \u001b[0m\u001b[0;31m\\\u001b[0m\u001b[0;34m\u001b[0m\u001b[0;34m\u001b[0m\u001b[0m\n",
      "\u001b[0;32m/usr/local/lib/python3.6/dist-packages/torch/utils/data/dataloader.py\u001b[0m in \u001b[0;36m_next_data\u001b[0;34m(self)\u001b[0m\n\u001b[1;32m    473\u001b[0m     \u001b[0;32mdef\u001b[0m \u001b[0m_next_data\u001b[0m\u001b[0;34m(\u001b[0m\u001b[0mself\u001b[0m\u001b[0;34m)\u001b[0m\u001b[0;34m:\u001b[0m\u001b[0;34m\u001b[0m\u001b[0;34m\u001b[0m\u001b[0m\n\u001b[1;32m    474\u001b[0m         \u001b[0mindex\u001b[0m \u001b[0;34m=\u001b[0m \u001b[0mself\u001b[0m\u001b[0;34m.\u001b[0m\u001b[0m_next_index\u001b[0m\u001b[0;34m(\u001b[0m\u001b[0;34m)\u001b[0m  \u001b[0;31m# may raise StopIteration\u001b[0m\u001b[0;34m\u001b[0m\u001b[0;34m\u001b[0m\u001b[0m\n\u001b[0;32m--> 475\u001b[0;31m         \u001b[0mdata\u001b[0m \u001b[0;34m=\u001b[0m \u001b[0mself\u001b[0m\u001b[0;34m.\u001b[0m\u001b[0m_dataset_fetcher\u001b[0m\u001b[0;34m.\u001b[0m\u001b[0mfetch\u001b[0m\u001b[0;34m(\u001b[0m\u001b[0mindex\u001b[0m\u001b[0;34m)\u001b[0m  \u001b[0;31m# may raise StopIteration\u001b[0m\u001b[0;34m\u001b[0m\u001b[0;34m\u001b[0m\u001b[0m\n\u001b[0m\u001b[1;32m    476\u001b[0m         \u001b[0;32mif\u001b[0m \u001b[0mself\u001b[0m\u001b[0;34m.\u001b[0m\u001b[0m_pin_memory\u001b[0m\u001b[0;34m:\u001b[0m\u001b[0;34m\u001b[0m\u001b[0;34m\u001b[0m\u001b[0m\n\u001b[1;32m    477\u001b[0m             \u001b[0mdata\u001b[0m \u001b[0;34m=\u001b[0m \u001b[0m_utils\u001b[0m\u001b[0;34m.\u001b[0m\u001b[0mpin_memory\u001b[0m\u001b[0;34m.\u001b[0m\u001b[0mpin_memory\u001b[0m\u001b[0;34m(\u001b[0m\u001b[0mdata\u001b[0m\u001b[0;34m)\u001b[0m\u001b[0;34m\u001b[0m\u001b[0;34m\u001b[0m\u001b[0m\n",
      "\u001b[0;32m/usr/local/lib/python3.6/dist-packages/torch/utils/data/_utils/fetch.py\u001b[0m in \u001b[0;36mfetch\u001b[0;34m(self, possibly_batched_index)\u001b[0m\n\u001b[1;32m     42\u001b[0m     \u001b[0;32mdef\u001b[0m \u001b[0mfetch\u001b[0m\u001b[0;34m(\u001b[0m\u001b[0mself\u001b[0m\u001b[0;34m,\u001b[0m \u001b[0mpossibly_batched_index\u001b[0m\u001b[0;34m)\u001b[0m\u001b[0;34m:\u001b[0m\u001b[0;34m\u001b[0m\u001b[0;34m\u001b[0m\u001b[0m\n\u001b[1;32m     43\u001b[0m         \u001b[0;32mif\u001b[0m \u001b[0mself\u001b[0m\u001b[0;34m.\u001b[0m\u001b[0mauto_collation\u001b[0m\u001b[0;34m:\u001b[0m\u001b[0;34m\u001b[0m\u001b[0;34m\u001b[0m\u001b[0m\n\u001b[0;32m---> 44\u001b[0;31m             \u001b[0mdata\u001b[0m \u001b[0;34m=\u001b[0m \u001b[0;34m[\u001b[0m\u001b[0mself\u001b[0m\u001b[0;34m.\u001b[0m\u001b[0mdataset\u001b[0m\u001b[0;34m[\u001b[0m\u001b[0midx\u001b[0m\u001b[0;34m]\u001b[0m \u001b[0;32mfor\u001b[0m \u001b[0midx\u001b[0m \u001b[0;32min\u001b[0m \u001b[0mpossibly_batched_index\u001b[0m\u001b[0;34m]\u001b[0m\u001b[0;34m\u001b[0m\u001b[0;34m\u001b[0m\u001b[0m\n\u001b[0m\u001b[1;32m     45\u001b[0m         \u001b[0;32melse\u001b[0m\u001b[0;34m:\u001b[0m\u001b[0;34m\u001b[0m\u001b[0;34m\u001b[0m\u001b[0m\n\u001b[1;32m     46\u001b[0m             \u001b[0mdata\u001b[0m \u001b[0;34m=\u001b[0m \u001b[0mself\u001b[0m\u001b[0;34m.\u001b[0m\u001b[0mdataset\u001b[0m\u001b[0;34m[\u001b[0m\u001b[0mpossibly_batched_index\u001b[0m\u001b[0;34m]\u001b[0m\u001b[0;34m\u001b[0m\u001b[0;34m\u001b[0m\u001b[0m\n",
      "\u001b[0;32m/usr/local/lib/python3.6/dist-packages/torch/utils/data/_utils/fetch.py\u001b[0m in \u001b[0;36m<listcomp>\u001b[0;34m(.0)\u001b[0m\n\u001b[1;32m     42\u001b[0m     \u001b[0;32mdef\u001b[0m \u001b[0mfetch\u001b[0m\u001b[0;34m(\u001b[0m\u001b[0mself\u001b[0m\u001b[0;34m,\u001b[0m \u001b[0mpossibly_batched_index\u001b[0m\u001b[0;34m)\u001b[0m\u001b[0;34m:\u001b[0m\u001b[0;34m\u001b[0m\u001b[0;34m\u001b[0m\u001b[0m\n\u001b[1;32m     43\u001b[0m         \u001b[0;32mif\u001b[0m \u001b[0mself\u001b[0m\u001b[0;34m.\u001b[0m\u001b[0mauto_collation\u001b[0m\u001b[0;34m:\u001b[0m\u001b[0;34m\u001b[0m\u001b[0;34m\u001b[0m\u001b[0m\n\u001b[0;32m---> 44\u001b[0;31m             \u001b[0mdata\u001b[0m \u001b[0;34m=\u001b[0m \u001b[0;34m[\u001b[0m\u001b[0mself\u001b[0m\u001b[0;34m.\u001b[0m\u001b[0mdataset\u001b[0m\u001b[0;34m[\u001b[0m\u001b[0midx\u001b[0m\u001b[0;34m]\u001b[0m \u001b[0;32mfor\u001b[0m \u001b[0midx\u001b[0m \u001b[0;32min\u001b[0m \u001b[0mpossibly_batched_index\u001b[0m\u001b[0;34m]\u001b[0m\u001b[0;34m\u001b[0m\u001b[0;34m\u001b[0m\u001b[0m\n\u001b[0m\u001b[1;32m     45\u001b[0m         \u001b[0;32melse\u001b[0m\u001b[0;34m:\u001b[0m\u001b[0;34m\u001b[0m\u001b[0;34m\u001b[0m\u001b[0m\n\u001b[1;32m     46\u001b[0m             \u001b[0mdata\u001b[0m \u001b[0;34m=\u001b[0m \u001b[0mself\u001b[0m\u001b[0;34m.\u001b[0m\u001b[0mdataset\u001b[0m\u001b[0;34m[\u001b[0m\u001b[0mpossibly_batched_index\u001b[0m\u001b[0;34m]\u001b[0m\u001b[0;34m\u001b[0m\u001b[0;34m\u001b[0m\u001b[0m\n",
      "\u001b[0;32m/usr/local/lib/python3.6/dist-packages/torch/utils/data/dataset.py\u001b[0m in \u001b[0;36m__getitem__\u001b[0;34m(self, index)\u001b[0m\n\u001b[1;32m    168\u001b[0m \u001b[0;34m\u001b[0m\u001b[0m\n\u001b[1;32m    169\u001b[0m     \u001b[0;32mdef\u001b[0m \u001b[0m__getitem__\u001b[0m\u001b[0;34m(\u001b[0m\u001b[0mself\u001b[0m\u001b[0;34m,\u001b[0m \u001b[0mindex\u001b[0m\u001b[0;34m)\u001b[0m\u001b[0;34m:\u001b[0m\u001b[0;34m\u001b[0m\u001b[0;34m\u001b[0m\u001b[0m\n\u001b[0;32m--> 170\u001b[0;31m         \u001b[0;32mreturn\u001b[0m \u001b[0mtuple\u001b[0m\u001b[0;34m(\u001b[0m\u001b[0mtensor\u001b[0m\u001b[0;34m[\u001b[0m\u001b[0mindex\u001b[0m\u001b[0;34m]\u001b[0m \u001b[0;32mfor\u001b[0m \u001b[0mtensor\u001b[0m \u001b[0;32min\u001b[0m \u001b[0mself\u001b[0m\u001b[0;34m.\u001b[0m\u001b[0mtensors\u001b[0m\u001b[0;34m)\u001b[0m\u001b[0;34m\u001b[0m\u001b[0;34m\u001b[0m\u001b[0m\n\u001b[0m\u001b[1;32m    171\u001b[0m \u001b[0;34m\u001b[0m\u001b[0m\n\u001b[1;32m    172\u001b[0m     \u001b[0;32mdef\u001b[0m \u001b[0m__len__\u001b[0m\u001b[0;34m(\u001b[0m\u001b[0mself\u001b[0m\u001b[0;34m)\u001b[0m\u001b[0;34m:\u001b[0m\u001b[0;34m\u001b[0m\u001b[0;34m\u001b[0m\u001b[0m\n",
      "\u001b[0;32m/usr/local/lib/python3.6/dist-packages/torch/utils/data/dataset.py\u001b[0m in \u001b[0;36m<genexpr>\u001b[0;34m(.0)\u001b[0m\n\u001b[1;32m    168\u001b[0m \u001b[0;34m\u001b[0m\u001b[0m\n\u001b[1;32m    169\u001b[0m     \u001b[0;32mdef\u001b[0m \u001b[0m__getitem__\u001b[0m\u001b[0;34m(\u001b[0m\u001b[0mself\u001b[0m\u001b[0;34m,\u001b[0m \u001b[0mindex\u001b[0m\u001b[0;34m)\u001b[0m\u001b[0;34m:\u001b[0m\u001b[0;34m\u001b[0m\u001b[0;34m\u001b[0m\u001b[0m\n\u001b[0;32m--> 170\u001b[0;31m         \u001b[0;32mreturn\u001b[0m \u001b[0mtuple\u001b[0m\u001b[0;34m(\u001b[0m\u001b[0mtensor\u001b[0m\u001b[0;34m[\u001b[0m\u001b[0mindex\u001b[0m\u001b[0;34m]\u001b[0m \u001b[0;32mfor\u001b[0m \u001b[0mtensor\u001b[0m \u001b[0;32min\u001b[0m \u001b[0mself\u001b[0m\u001b[0;34m.\u001b[0m\u001b[0mtensors\u001b[0m\u001b[0;34m)\u001b[0m\u001b[0;34m\u001b[0m\u001b[0;34m\u001b[0m\u001b[0m\n\u001b[0m\u001b[1;32m    171\u001b[0m \u001b[0;34m\u001b[0m\u001b[0m\n\u001b[1;32m    172\u001b[0m     \u001b[0;32mdef\u001b[0m \u001b[0m__len__\u001b[0m\u001b[0;34m(\u001b[0m\u001b[0mself\u001b[0m\u001b[0;34m)\u001b[0m\u001b[0;34m:\u001b[0m\u001b[0;34m\u001b[0m\u001b[0;34m\u001b[0m\u001b[0m\n",
      "\u001b[0;31mKeyboardInterrupt\u001b[0m: "
     ]
    }
   ],
   "source": [
    "# gru\n",
    "epochs = 10000\n",
    "for i in range(epochs):\n",
    "    #model.reset_hidden_state()\n",
    "    loss_tr = 0\n",
    "    qq = 0\n",
    "    train_res = []\n",
    "    for x_tr, y_tr in loader:\n",
    "        x_tr = x_tr.to(device)\n",
    "        y_tr = y_tr.to(device)\n",
    "        optimizer.zero_grad()\n",
    "        #x_tr = x_tr.permute(1, 0)\n",
    "        #x_tr = x_tr.unsqueeze(2)\n",
    "        y_pred = model(x_tr)\n",
    "        y_pred = y_pred#[-1, :, :]\n",
    "        single_loss = criterion(y_pred, y_tr)\n",
    "        single_loss.backward()\n",
    "        loss_tr += single_loss.item()\n",
    "        qq += 1\n",
    "        optimizer.step()\n",
    "        y_tr = y_tr.cpu().numpy()\n",
    "        y_pred = y_pred.detach().cpu().numpy()\n",
    "        y_pred = np.argsort(y_pred)[:, -10:]\n",
    "        y_tr = np.array([y_tr])\n",
    "        train_res += list(np.any((y_pred - y_tr.T) == 0, axis=1))\n",
    "    print(f'epoch: {i:3} loss: {loss_tr/qq:10.8f}')\n",
    "    qq = 0\n",
    "    scheduler.step()\n",
    "    with torch.no_grad():\n",
    "      q = 0\n",
    "      loss_test = 0\n",
    "      test_res = []\n",
    "      for x_te, y_te in test_loader:\n",
    "        # x_te = x_te.permute(1, 0)\n",
    "        # x_te = x_te.unsqueeze(2)\n",
    "        x_te = x_te.to(device)\n",
    "        y_te = y_te.to(device)\n",
    "        pred_test = model(x_te)\n",
    "        pred_test = pred_test#[-1, :, :]\n",
    "        loss_test += criterion(pred_test, y_te).item()\n",
    "        y_te = y_te.cpu().numpy()\n",
    "        pred_test = pred_test.cpu().numpy()\n",
    "        pred_test = np.argsort(pred_test)[:, -10:]\n",
    "        y_te = np.array([y_te])\n",
    "        test_res += list(np.any((pred_test - y_te.T) == 0, axis=1))\n",
    "        q += 1\n",
    "      loss_test /= q\n",
    "    print(f'epoch: {i:3} loss: {loss_test:10.8f} loss_test: {loss_test:10.8f}')\n",
    "    q = 0\n",
    "    test_res =np.mean(np.array(test_res))\n",
    "    train_res =np.mean(np.array(train_res))\n",
    "    print(f'epoch: {i} acc_train: {train_res}, acc_test: {test_res}')"
   ]
  },
  {
   "cell_type": "code",
   "execution_count": null,
   "metadata": {
    "id": "HD6-N8Mm0rZA"
   },
   "outputs": [],
   "source": [
    "nn.BatchNorm2d??"
   ]
  },
  {
   "cell_type": "code",
   "execution_count": null,
   "metadata": {
    "id": "VkLxsnkZZ3m1"
   },
   "outputs": [],
   "source": [
    "class conv(nn.Module):\n",
    "\n",
    "    def __init__(self):\n",
    "        super(conv, self).__init__()\n",
    "        self.conv1 = nn.Conv1d(1, 16, 8)\n",
    "        self.act1 = nn.Hardswish()\n",
    "        self.pool1 = nn.MaxPool1d(8, 8)\n",
    "        self.bn1 = nn.BatchNorm1d(16, momentum=0.9999)\n",
    "\n",
    "        self.conv2 = nn.Conv1d(16, 32, 8)\n",
    "        self.act2 = nn.Hardswish()\n",
    "        self.pool2 = nn.MaxPool1d(8, 8)\n",
    "        self.bn2 = nn.BatchNorm1d(32, momentum=0.9999)\n",
    "\n",
    "\n",
    "        self.lin1 = nn.Linear(224, 128)\n",
    "        self.act3 = nn.Hardswish()\n",
    "        self.bn3 = nn.BatchNorm1d(128, momentum=0.9999)\n",
    "        \n",
    "        self.lin2 = nn.Linear(128, 62)\n",
    "\n",
    "\n",
    "\n",
    "    def forward(self, x):\n",
    "      x  = self.conv1(x)\n",
    "      x = self.act1(x)\n",
    "      x = self.pool1(x)\n",
    "      x = self.bn1(x)\n",
    "\n",
    "      x = self.conv2(x)\n",
    "      x = self.act2(x)\n",
    "      x = self.pool2(x)\n",
    "      x = self.bn2(x)\n",
    "\n",
    "      x = x.view(-1, 224)\n",
    "\n",
    "      x = self.lin1(x)\n",
    "      x = self.act3(x)\n",
    "      x = self.bn3(x)\n",
    "\n",
    "      x = self.lin2(x)\n",
    "      return x"
   ]
  },
  {
   "cell_type": "code",
   "execution_count": null,
   "metadata": {
    "id": "V6fMp10rzF_K"
   },
   "outputs": [],
   "source": [
    "model = conv().to(device)\n",
    "criterion = nn.CrossEntropyLoss()\n",
    "optimizer = torch.optim.Adam(model.parameters(), lr=0.001)\n",
    "scheduler = torch.optim.lr_scheduler.StepLR(optimizer, 1, 0.5)"
   ]
  },
  {
   "cell_type": "code",
   "execution_count": null,
   "metadata": {
    "colab": {
     "base_uri": "https://localhost:8080/"
    },
    "id": "tMN_r8jnHMUp",
    "outputId": "724123b5-e047-436b-d81d-e39dc6c680cc"
   },
   "outputs": [
    {
     "name": "stdout",
     "output_type": "stream",
     "text": [
      "epoch:   0 loss: 3.09269282\n",
      "epoch:   0 loss: 3.00622051 loss_test: 3.00622051\n",
      "epoch: 0 acc_train: 0.6871497252747253, acc_test: 0.7083218895907718\n",
      "epoch:   1 loss: 2.98907033\n",
      "epoch:   1 loss: 2.98176904 loss_test: 2.98176904\n",
      "epoch: 1 acc_train: 0.7163255494505495, acc_test: 0.7171793463334248\n",
      "epoch:   2 loss: 2.96598197\n",
      "epoch:   2 loss: 2.96719607 loss_test: 2.96719607\n",
      "epoch: 2 acc_train: 0.7246497252747253, acc_test: 0.7241485855534194\n",
      "epoch:   3 loss: 2.95214660\n",
      "epoch:   3 loss: 2.96121370 loss_test: 2.96121370\n",
      "epoch: 3 acc_train: 0.7299656593406594, acc_test: 0.7238052732765724\n",
      "epoch:   4 loss: 2.94497491\n",
      "epoch:   4 loss: 2.96126546 loss_test: 2.96126546\n",
      "epoch: 4 acc_train: 0.7324038461538461, acc_test: 0.7266204339467179\n",
      "epoch:   5 loss: 2.93559395\n",
      "epoch:   5 loss: 2.95553603 loss_test: 2.95553603\n",
      "epoch: 5 acc_train: 0.7355288461538462, acc_test: 0.7328687173853337\n",
      "epoch:   6 loss: 2.93018174\n",
      "epoch:   6 loss: 2.94242867 loss_test: 2.94242867\n",
      "epoch: 6 acc_train: 0.7373832417582418, acc_test: 0.7330060422960725\n",
      "epoch:   7 loss: 2.92379174\n",
      "epoch:   7 loss: 2.92930286 loss_test: 2.92930286\n",
      "epoch: 7 acc_train: 0.7400274725274725, acc_test: 0.7371601208459214\n",
      "epoch:   8 loss: 2.91806391\n",
      "epoch:   8 loss: 2.93219797 loss_test: 2.93219797\n",
      "epoch: 8 acc_train: 0.742706043956044, acc_test: 0.7337956605328206\n",
      "epoch:   9 loss: 2.91479678\n",
      "epoch:   9 loss: 2.93181490 loss_test: 2.93181490\n",
      "epoch: 9 acc_train: 0.7422184065934065, acc_test: 0.7359241966492722\n",
      "epoch:  10 loss: 2.91136167\n",
      "epoch:  10 loss: 2.93203898 loss_test: 2.93203898\n",
      "epoch: 10 acc_train: 0.7439354395604396, acc_test: 0.737091458390552\n",
      "epoch:  11 loss: 2.90761987\n",
      "epoch:  11 loss: 2.91720693 loss_test: 2.91720693\n",
      "epoch: 11 acc_train: 0.7447664835164836, acc_test: 0.742515792364735\n",
      "epoch:  12 loss: 2.90474051\n",
      "epoch:  12 loss: 2.92366484 loss_test: 2.92366484\n",
      "epoch: 12 acc_train: 0.7449244505494506, acc_test: 0.7404215874759681\n",
      "epoch:  13 loss: 2.90167355\n",
      "epoch:  13 loss: 2.91768875 loss_test: 2.91768875\n",
      "epoch: 13 acc_train: 0.746614010989011, acc_test: 0.7424814611370503\n",
      "epoch:  14 loss: 2.89844916\n",
      "epoch:  14 loss: 2.91464769 loss_test: 2.91464769\n",
      "epoch: 14 acc_train: 0.7485027472527472, acc_test: 0.7439233726998078\n",
      "epoch:  15 loss: 2.89844067\n",
      "epoch:  15 loss: 2.91419881 loss_test: 2.91419881\n",
      "epoch: 15 acc_train: 0.7484752747252748, acc_test: 0.7452622905795111\n",
      "epoch:  16 loss: 2.89380244\n",
      "epoch:  16 loss: 2.91343593 loss_test: 2.91343593\n",
      "epoch: 16 acc_train: 0.7499381868131868, acc_test: 0.7412798681680857\n",
      "epoch:  17 loss: 2.89143270\n",
      "epoch:  17 loss: 2.91039602 loss_test: 2.91039602\n",
      "epoch: 17 acc_train: 0.7512706043956044, acc_test: 0.7447473221642406\n",
      "epoch:  18 loss: 2.89099285\n",
      "epoch:  18 loss: 2.91480889 loss_test: 2.91480889\n",
      "epoch: 18 acc_train: 0.7503914835164835, acc_test: 0.7443696786597088\n",
      "epoch:  19 loss: 2.88931907\n",
      "epoch:  19 loss: 2.91153865 loss_test: 2.91153865\n",
      "epoch: 19 acc_train: 0.7514354395604396, acc_test: 0.7441980225212853\n",
      "epoch:  20 loss: 2.88845398\n",
      "epoch:  20 loss: 2.91839703 loss_test: 2.91839703\n",
      "epoch: 20 acc_train: 0.7516277472527473, acc_test: 0.7397349629222741\n",
      "epoch:  21 loss: 2.88554348\n",
      "epoch:  21 loss: 2.91050980 loss_test: 2.91050980\n",
      "epoch: 21 acc_train: 0.7530013736263736, acc_test: 0.7455369404009887\n",
      "epoch:  22 loss: 2.88350356\n",
      "epoch:  22 loss: 2.90902719 loss_test: 2.90902719\n",
      "epoch: 22 acc_train: 0.7537087912087912, acc_test: 0.7428247734138973\n",
      "epoch:  23 loss: 2.88162821\n",
      "epoch:  23 loss: 2.90684622 loss_test: 2.90684622\n",
      "epoch: 23 acc_train: 0.7537087912087912, acc_test: 0.7445413347981323\n",
      "epoch:  24 loss: 2.88091366\n",
      "epoch:  24 loss: 2.90487490 loss_test: 2.90487490\n",
      "epoch: 24 acc_train: 0.7529670329670329, acc_test: 0.7462235649546828\n",
      "epoch:  25 loss: 2.87970979\n",
      "epoch:  25 loss: 2.90732329 loss_test: 2.90732329\n",
      "epoch: 25 acc_train: 0.7553708791208791, acc_test: 0.7460175775885746\n",
      "epoch:  26 loss: 2.87785747\n",
      "epoch:  26 loss: 2.90368007 loss_test: 2.90368007\n",
      "epoch: 26 acc_train: 0.7546016483516483, acc_test: 0.7456742653117275\n",
      "epoch:  27 loss: 2.87531207\n",
      "epoch:  27 loss: 2.90390364 loss_test: 2.90390364\n",
      "epoch: 27 acc_train: 0.7565934065934066, acc_test: 0.7473221642405933\n",
      "epoch:  28 loss: 2.87619976\n",
      "epoch:  28 loss: 2.90513293 loss_test: 2.90513293\n",
      "epoch: 28 acc_train: 0.7553777472527472, acc_test: 0.7458115902224663\n",
      "epoch:  29 loss: 2.87479094\n",
      "epoch:  29 loss: 2.90541627 loss_test: 2.90541627\n",
      "epoch: 29 acc_train: 0.7562431318681319, acc_test: 0.7475624828343862\n",
      "epoch:  30 loss: 2.87357732\n",
      "epoch:  30 loss: 2.90139763 loss_test: 2.90139763\n",
      "epoch: 30 acc_train: 0.7562087912087913, acc_test: 0.7490043943971436\n",
      "epoch:  31 loss: 2.87350634\n",
      "epoch:  31 loss: 2.90405948 loss_test: 2.90405948\n",
      "epoch: 31 acc_train: 0.7566277472527473, acc_test: 0.746429552320791\n",
      "epoch:  32 loss: 2.87186151\n",
      "epoch:  32 loss: 2.90718036 loss_test: 2.90718036\n",
      "epoch: 32 acc_train: 0.7569093406593407, acc_test: 0.7466012084592145\n",
      "epoch:  33 loss: 2.87046622\n",
      "epoch:  33 loss: 2.90212304 loss_test: 2.90212304\n",
      "epoch: 33 acc_train: 0.7572870879120879, acc_test: 0.7489014007140895\n",
      "epoch:  34 loss: 2.86998581\n",
      "epoch:  34 loss: 2.90344165 loss_test: 2.90344165\n",
      "epoch: 34 acc_train: 0.7578434065934065, acc_test: 0.74941636912936\n",
      "epoch:  35 loss: 2.86968807\n",
      "epoch:  35 loss: 2.90432982 loss_test: 2.90432982\n",
      "epoch: 35 acc_train: 0.7574175824175824, acc_test: 0.7449189783026641\n",
      "epoch:  36 loss: 2.86830030\n",
      "epoch:  36 loss: 2.90211892 loss_test: 2.90211892\n",
      "epoch: 36 acc_train: 0.7575618131868131, acc_test: 0.7470818456468004\n",
      "step\n",
      "epoch:  37 loss: 2.85471302\n",
      "epoch:  37 loss: 2.89446193 loss_test: 2.89446193\n",
      "epoch: 37 acc_train: 0.7621222527472528, acc_test: 0.7504119747322164\n",
      "epoch:  38 loss: 2.85251285\n",
      "epoch:  38 loss: 2.89457802 loss_test: 2.89457802\n",
      "epoch: 38 acc_train: 0.7626373626373626, acc_test: 0.7496910189508377\n",
      "epoch:  39 loss: 2.85195061\n",
      "epoch:  39 loss: 2.88871836 loss_test: 2.88871836\n",
      "epoch: 39 acc_train: 0.7630425824175824, acc_test: 0.750343312276847\n",
      "epoch:  40 loss: 2.85162369\n",
      "epoch:  40 loss: 2.89469366 loss_test: 2.89469366\n",
      "epoch: 40 acc_train: 0.762293956043956, acc_test: 0.7498626750892612\n",
      "epoch:  41 loss: 2.84937691\n",
      "epoch:  41 loss: 2.89153856 loss_test: 2.89153856\n",
      "epoch: 41 acc_train: 0.7639217032967033, acc_test: 0.7501716561384235\n",
      "epoch:  42 loss: 2.84816057\n",
      "epoch:  42 loss: 2.89288119 loss_test: 2.89288119\n",
      "epoch: 42 acc_train: 0.764271978021978, acc_test: 0.7530554792639385\n",
      "epoch:  43 loss: 2.84894636\n",
      "epoch:  43 loss: 2.89304640 loss_test: 2.89304640\n",
      "epoch: 43 acc_train: 0.7640178571428572, acc_test: 0.7512015929689646\n",
      "epoch:  44 loss: 2.84912425\n",
      "epoch:  44 loss: 2.89484685 loss_test: 2.89484685\n",
      "epoch: 44 acc_train: 0.7640247252747253, acc_test: 0.7493133754463059\n",
      "epoch:  45 loss: 2.84874386\n",
      "epoch:  45 loss: 2.89264712 loss_test: 2.89264712\n",
      "epoch: 45 acc_train: 0.7644848901098901, acc_test: 0.751956879978028\n",
      "step\n",
      "epoch:  46 loss: 2.84013513\n",
      "epoch:  46 loss: 2.88973000 loss_test: 2.88973000\n",
      "epoch: 46 acc_train: 0.7666071428571428, acc_test: 0.7528151606701455\n",
      "epoch:  47 loss: 2.83925823\n",
      "epoch:  47 loss: 2.88956858 loss_test: 2.88956858\n",
      "epoch: 47 acc_train: 0.7660370879120879, acc_test: 0.7532957978577314\n",
      "epoch:  48 loss: 2.83740691\n",
      "epoch:  48 loss: 2.88780320 loss_test: 2.88780320\n",
      "epoch: 48 acc_train: 0.7670604395604396, acc_test: 0.7521971985718209\n",
      "epoch:  49 loss: 2.83817709\n",
      "epoch:  49 loss: 2.88784028 loss_test: 2.88784028\n",
      "epoch: 49 acc_train: 0.7665728021978022, acc_test: 0.753570447679209\n",
      "epoch:  50 loss: 2.83704716\n",
      "epoch:  50 loss: 2.88823461 loss_test: 2.88823461\n",
      "epoch: 50 acc_train: 0.7665934065934066, acc_test: 0.7518882175226587\n",
      "epoch:  51 loss: 2.83660323\n",
      "epoch:  51 loss: 2.88808766 loss_test: 2.88808766\n",
      "epoch: 51 acc_train: 0.7671016483516484, acc_test: 0.7530211480362538\n",
      "epoch:  52 loss: 2.83663644\n",
      "epoch:  52 loss: 2.88997425 loss_test: 2.88997425\n",
      "epoch: 52 acc_train: 0.7670947802197802, acc_test: 0.75058363087064\n",
      "epoch:  53 loss: 2.83618481\n",
      "epoch:  53 loss: 2.88767331 loss_test: 2.88767331\n",
      "epoch: 53 acc_train: 0.767809065934066, acc_test: 0.752986816808569\n",
      "epoch:  54 loss: 2.83554570\n",
      "epoch:  54 loss: 2.88868469 loss_test: 2.88868469\n",
      "epoch: 54 acc_train: 0.7671703296703297, acc_test: 0.7512359241966493\n",
      "epoch:  55 loss: 2.83610944\n",
      "epoch:  55 loss: 2.88856503 loss_test: 2.88856503\n",
      "epoch: 55 acc_train: 0.7676442307692307, acc_test: 0.7532614666300467\n",
      "epoch:  56 loss: 2.83460783\n",
      "epoch:  56 loss: 2.88716683 loss_test: 2.88716683\n",
      "epoch: 56 acc_train: 0.7683447802197803, acc_test: 0.7517852238396046\n",
      "epoch:  57 loss: 2.83398559\n",
      "epoch:  57 loss: 2.88951258 loss_test: 2.88951258\n",
      "epoch: 57 acc_train: 0.7686401098901099, acc_test: 0.7492790442186212\n",
      "epoch:  58 loss: 2.83390929\n",
      "epoch:  58 loss: 2.88972366 loss_test: 2.88972366\n",
      "epoch: 58 acc_train: 0.7682829670329671, acc_test: 0.7528838231255149\n",
      "epoch:  59 loss: 2.83419151\n",
      "epoch:  59 loss: 2.88840306 loss_test: 2.88840306\n",
      "epoch: 59 acc_train: 0.767967032967033, acc_test: 0.7520255424333974\n"
     ]
    }
   ],
   "source": [
    "# conv\n",
    "epochs = 60\n",
    "best_epochs_loss = np.inf\n",
    "best_epoch_num = 0\n",
    "for i in range(epochs):\n",
    "    loss_tr = 0\n",
    "    qq = 0\n",
    "    train_res = []\n",
    "    for x_tr, y_tr in loader:\n",
    "        x_tr = x_tr.unsqueeze(1)\n",
    "        x_tr = x_tr.to(device)\n",
    "        y_tr = y_tr.to(device)\n",
    "        optimizer.zero_grad()\n",
    "        #x_tr = x_tr.permute(1, 0)\n",
    "        #x_tr = x_tr.unsqueeze(2)\n",
    "        y_pred = model(x_tr)\n",
    "        y_pred = y_pred#[-1, :, :]\n",
    "        single_loss = criterion(y_pred, y_tr)\n",
    "        single_loss.backward()\n",
    "        loss_tr += single_loss.item()\n",
    "        qq += 1\n",
    "        optimizer.step()\n",
    "        y_tr = y_tr.cpu().numpy()\n",
    "        y_pred = y_pred.detach().cpu().numpy()\n",
    "        y_pred = np.argsort(y_pred)[:, -10:]\n",
    "        y_tr = np.array([y_tr])\n",
    "        train_res += list(np.any((y_pred - y_tr.T) == 0, axis=1))\n",
    "    print(f'epoch: {i:3} loss: {loss_tr/qq:10.8f}')\n",
    "    qq = 0\n",
    "    # scheduler.step()\n",
    "    with torch.no_grad():\n",
    "      q = 0\n",
    "      loss_test = 0\n",
    "      test_res = []\n",
    "      for x_te, y_te in test_loader:\n",
    "        # x_te = x_te.permute(1, 0)\n",
    "        # x_te = x_te.unsqueeze(2)\n",
    "        x_te = x_te.unsqueeze(1)\n",
    "        x_te = x_te.to(device)\n",
    "        y_te = y_te.to(device)\n",
    "        pred_test = model(x_te)\n",
    "        pred_test = pred_test#[-1, :, :]\n",
    "        loss_test += criterion(pred_test, y_te).item()\n",
    "        y_te = y_te.cpu().numpy()\n",
    "        pred_test = pred_test.cpu().numpy()\n",
    "        pred_test = np.argsort(pred_test)[:, -10:]\n",
    "        y_te = np.array([y_te])\n",
    "        test_res += list(np.any((pred_test - y_te.T) == 0, axis=1))\n",
    "        q += 1\n",
    "      loss_test /= q\n",
    "    print(f'epoch: {i:3} loss: {loss_test:10.8f} loss_test: {loss_test:10.8f}')\n",
    "    q = 0\n",
    "    test_res =np.mean( np.array(test_res))\n",
    "    train_res =np.mean( np.array(train_res))\n",
    "    print(f'epoch: {i} acc_train: {train_res}, acc_test: {test_res}')\n",
    "    if loss_test < best_epochs_loss:\n",
    "      best_epochs_loss = loss_test\n",
    "      best_epoch_num = 0\n",
    "    else:\n",
    "      if best_epoch_num >= 5:\n",
    "        scheduler.step()\n",
    "        print('step')\n",
    "        best_epoch_num = 0\n",
    "      else:\n",
    "        best_epoch_num += 1"
   ]
  },
  {
   "cell_type": "code",
   "execution_count": null,
   "metadata": {
    "id": "Mo2wVsHqhMd0"
   },
   "outputs": [],
   "source": [
    "torch.save(model.state_dict(), 'drive/My Drive/polar_conv.pth')\n"
   ]
  },
  {
   "cell_type": "code",
   "execution_count": null,
   "metadata": {
    "colab": {
     "base_uri": "https://localhost:8080/"
    },
    "id": "wgP9KO0JjyDG",
    "outputId": "cedea58b-36a8-40c1-a760-21482158322c"
   },
   "outputs": [
    {
     "data": {
      "text/plain": [
       "Int64Index([117, 118, 111, 121, 122, 158, 171, 173, 124, 174, 179, 119, 181,\n",
       "            159, 279, 283, 225, 199, 226, 212],\n",
       "           dtype='int64')"
      ]
     },
     "execution_count": 92,
     "metadata": {
      "tags": []
     },
     "output_type": "execute_result"
    }
   ],
   "source": []
  }
 ],
 "metadata": {
  "accelerator": "GPU",
  "colab": {
   "collapsed_sections": [],
   "name": "Untitled19.ipynb",
   "provenance": []
  },
  "kernelspec": {
   "display_name": "Python 3",
   "language": "python",
   "name": "python3"
  },
  "language_info": {
   "codemirror_mode": {
    "name": "ipython",
    "version": 3
   },
   "file_extension": ".py",
   "mimetype": "text/x-python",
   "name": "python",
   "nbconvert_exporter": "python",
   "pygments_lexer": "ipython3",
   "version": "3.8.5"
  }
 },
 "nbformat": 4,
 "nbformat_minor": 1
}
